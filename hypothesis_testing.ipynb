{
 "cells": [
  {
   "cell_type": "markdown",
   "metadata": {},
   "source": [
    "[<img src=\"logo.png\">](https://www.thedataincubator.com/)"
   ]
  },
  {
   "cell_type": "markdown",
   "metadata": {},
   "source": [
    "# TDI Challenge\n",
    "> ### Luis Castro\n",
    "> [luis.castro@mg.thedataincubator.com](luis.castro@mg.thedataincubator.com)"
   ]
  },
  {
   "cell_type": "markdown",
   "metadata": {},
   "source": [
    "# Index<a id='Index'></a>\n",
    "- [0.- Challenge Description](#Challenge)\n",
    "- [1.- Hypothesis Testing](#Hypothesis)\n",
    "    - [1.1- Description](#Description)\n",
    "        - [1.1.1- Pipeline](#Pipeline)\n",
    "        - [1.1.2- Null Hypothesis](#Accept)\n",
    "        - [1.1.3- Tools for Hypothesis Testing](#Tools)\n",
    "    - [1.2- T-test](#T-test)\n",
    "        - [1.2.1- Assumptions](#Assumptions)\n",
    "        - [1.2.2- Types of T-tests](#Types)\n",
    "        - [1.2.3- Calculations](#Calculations)\n",
    "    - [1.3- Python Examples](#Examples)\n",
    "        - [1.3.1- One sample t-test](#One)\n",
    "        - [1.3.2- Two samples t-test](#Two)\n",
    "        - [1.3.3- Paired samples t-test](#Paired)\n",
    "    - [1.4- P-value](#Pvalue)\n",
    "        - [1.4.1- P-hacking](#Hack)\n",
    "    - [1.5- Precision and Recall](#Recall)\n",
    "        - [1.5.1- Python Example](#Example2)\n",
    "    - [1.6- Appendix](#Appendix)\n",
    "        - [1.6.1- T-table](#Appendix)\n",
    "        - [1.6.2- CLT](#CLT)"
   ]
  },
  {
   "cell_type": "markdown",
   "metadata": {},
   "source": [
    "---"
   ]
  },
  {
   "cell_type": "markdown",
   "metadata": {},
   "source": [
    "## Challenge Description<a id='Challenge'></a>\n",
    "\n",
    "We want to see how well you're able to explain topics in statistics and data science. Write a short Jupyter notebook covering these topics:\n",
    "\n",
    "- Hypothesis Testing: Let's talk about t-tests, p-values. How are they related? What is it telling you? How does it relate to precision-recall? What are the underlying assumptions?\n",
    "- Bayesian posterior inference: Explain Bayes' Rule. Write some code to actually perform posterior sampling. Work out an example using conjugate priors. How does this compare with hypothesis testing? What are the underlying assumptions?\n",
    "\n",
    "Be prepared to give a mock \"lecture\" about these two topics with your prepared Jupyter notebook. We'll be looking for:\n",
    "\n",
    "- How well you present: remember that this material should be approachable, applied, and not just a series of formulas\n",
    "- How well you understand these topics in depth (the mathematics, the underlying assumptions)\n",
    "- How well you understand the concepts and how you can apply them"
   ]
  },
  {
   "cell_type": "markdown",
   "metadata": {},
   "source": [
    "[Back to index](#Index)"
   ]
  },
  {
   "cell_type": "markdown",
   "metadata": {},
   "source": [
    "---"
   ]
  },
  {
   "cell_type": "markdown",
   "metadata": {},
   "source": [
    "## Hypothesis Testing<a id='Hypothesis'></a>"
   ]
  },
  {
   "cell_type": "markdown",
   "metadata": {},
   "source": [
    "### Description<a id='Description'></a>\n",
    "\n",
    "A statistical hypothesis is an assumption about a population parameter. This assumption may or may not be true. Hypothesis testing refers to the formal procedures used to accept or reject statistical hypotheses. [[1]](http://stattrek.com/hypothesis-test/hypothesis-testing.aspx)\n",
    "\n",
    "A hypothesis test is a statistical test that is used to determine whether there is enough evidence in a sample of data to infer that a certain condition is true for the entire population. A hypothesis test examines two opposing hypotheses about a population: the null hypothesis and the alternative hypothesis. [[2]](http://support.minitab.com/en-us/minitab/17/topic-library/basic-statistics-and-graphs/hypothesis-tests/basics/what-is-a-hypothesis-test/)"
   ]
  },
  {
   "cell_type": "markdown",
   "metadata": {},
   "source": [
    "As described above, there are 2 types of statistical hypotheses:\n",
    "- Null Hypothesis: Denoted H<sub>0</sub>, is the hypothesis that states that the observations of the sample were purely by chance, there is no difference between the sample and the population. \n",
    "- Alternative Hypothesis: Denoted H<sub>1</sub>, is the hypothesis that the sample observations are influenced by a non-random cause.\n",
    "\n",
    "The initial premise in hypothesis testing is that there is no statisitcal difference between the values (Null Hypothesis) and it is up to the test to disprove this (there is in fact statistical diffence between them).\n",
    "\n",
    "The hypothesis when comparing 2 populations are described as follows:\n",
    "- H<sub>0</sub>: μ<sub>1</sub> = μ<sub>2</sub>\n",
    "- H<sub>1</sub>: μ<sub>1</sub> < μ<sub>2</sub> or\n",
    "- H<sub>1</sub>: μ<sub>1</sub> > μ<sub>2</sub> or\n",
    "- H<sub>1</sub>: μ<sub>1</sub> ≠ μ<sub>2</sub>\n",
    "\n",
    "What this means for H<sub>0</sub> is that there is no difference between the populations, and for H<sub>1</sub> is that one population is either greater than, less than or simply different than the other population."
   ]
  },
  {
   "cell_type": "markdown",
   "metadata": {},
   "source": [
    "### Hypothesis Test Pipeline<a id='Pipeline'></a>\n",
    "\n",
    "Statisticians follow a formal process to determine whether to reject a null hypothesis, based on sample data. This process, called hypothesis testing, consists of four steps.\n",
    "\n",
    "- **State the hypotheses:** This involves stating the null and alternative hypotheses. The hypotheses are stated in such a way that they are mutually exclusive. That is, if one is true, the other must be false. \n",
    "- **Formulate an analysis plan:** The analysis plan describes how to use sample data to evaluate the null hypothesis. The evaluation often focuses around a single test statistic. \n",
    "- **Analyze sample data:** Find the value of the test statistic (mean score, proportion, t statistic, z-score, etc.) described in the analysis plan. \n",
    "- **Interpret results:** Apply the decision rule described in the analysis plan. If the value of the test statistic is unlikely, based on the null hypothesis, reject the null hypothesis. "
   ]
  },
  {
   "cell_type": "markdown",
   "metadata": {},
   "source": [
    "### Can we accept the Null Hypothesis?<a id='Accept'></a>\n",
    "\n",
    "Some researchers say that a hypothesis test can have one of two outcomes: you accept the null hypothesis or you reject the null hypothesis. Many statisticians, however, take issue with the notion of \"accepting the null hypothesis.\" Instead, they say: you reject the null hypothesis or you fail to reject the null hypothesis.\n",
    "\n",
    "Why the distinction between \"acceptance\" and \"failure to reject?\" Acceptance implies that the null hypothesis is true. Failure to reject implies that the data are not sufficiently persuasive for us to prefer the alternative hypothesis over the null hypothesis. [[3]](http://stattrek.com/hypothesis-test/hypothesis-testing.aspx)"
   ]
  },
  {
   "cell_type": "markdown",
   "metadata": {},
   "source": [
    "### What tools do we have to perform hypothesis testing?<a id='Tools'></a>\n",
    "\n",
    "The most practical way to do it is to measure just a sample of the population. Some methods test hypotheses by comparison. The two of the more known statistical hypothesis test are the T-test and the Z-test.\n",
    "\n",
    "A T-test is a statistical hypothesis test that follows a Student’s T-distribution if the null hypothesis is true. It it may be the most commonly used Statistical Data Analysis procedure for hypothesis testing since it is straightforward and easy to use. Additionally, it is flexible and adaptable to a broad range of circumstances.\n",
    "\n",
    "T-test is best applied, at least in theory, if you have a limited sample size (n < 30) as long as the variables are approximately normally distributed and the variation of scores in the two groups is not reliably different. It is also great if you do not know the populations’ standard deviation. If the standard deviation is known, then, it would be best to use another type of statistical test, the Z-test.\n",
    "\n",
    "When T-test is used in large samples, the t-test becomes very similar to the Z-test. [[4]](https://www.linkedin.com/pulse/z-test-vs-t-test-arunmozhi-ilango)"
   ]
  },
  {
   "cell_type": "markdown",
   "metadata": {},
   "source": [
    "[Back to index](#Index)"
   ]
  },
  {
   "cell_type": "markdown",
   "metadata": {},
   "source": [
    "---"
   ]
  },
  {
   "cell_type": "markdown",
   "metadata": {},
   "source": [
    "## T-test<a id='T-test'></a>\n",
    "\n",
    "A t-test is any statistical hypothesis test in which the test statistic follows a Student's t-distribution under the null hypothesis. It can be used to determine if two sets of data are significantly different from each other.\n",
    "\n",
    "A t-test is most commonly applied when the test statistic would follow a normal distribution if the value of a scaling term in the test statistic were known. When the scaling term is unknown and is replaced by an estimate based on the data, the test statistics (under certain conditions) follow a Student's t distribution. [[5]](https://en.wikipedia.org/wiki/Student%27s_t-test)"
   ]
  },
  {
   "cell_type": "markdown",
   "metadata": {},
   "source": [
    "### T-test assumptions<a id='Assumptions'></a>\n",
    "\n",
    "- **Independence:** Sample observations are independent from one another (except for the paired t-test).\n",
    "- **Normal distribution:** Data has a normal, bell-shaped distribution curve.\n",
    "- **Homogeneity of variance:** Homogeneous, or equal, variance exists when the standard deviations of samples are approximately equal (if not equal, there are alternatives like the Welch's and Satterthwaite's adjustment).\n",
    "- **Scale of measurement:** The assumption is that the scale of measurement applied to the data collected follows a continuous or ordinal scale, such as the scores for an IQ test.\n",
    "- **Random sample:** that the data is collected from a representative, randomly selected portion of the total population.\n",
    "- **Sample size:** Larger sample size means that the distribution should approach a normal curve. [[6]](http://www.investopedia.com/ask/answers/073115/what-assumptions-are-made-when-conducting-ttest.asp) [[7]](http://isites.harvard.edu/fs/docs/icb.topic1463714.files/T-test%20assumptions.pdf)\n"
   ]
  },
  {
   "cell_type": "markdown",
   "metadata": {},
   "source": [
    "### Types of T-tests<a id='Types'></a>\n",
    "\n",
    "![](ttest.png)"
   ]
  },
  {
   "cell_type": "markdown",
   "metadata": {},
   "source": [
    "### T-test calculations<a id='Calculations'></a>\n",
    "**One sample t-test**\n",
    "![](h1.png)\n",
    "\n",
    "Where:\n",
    "- x̅: sample mean\n",
    "- μ<sub>0</sub>: specified value\n",
    "- s: sample standard deviation\n",
    "- n: sample size\n"
   ]
  },
  {
   "cell_type": "markdown",
   "metadata": {},
   "source": [
    "**Two samples t-test**\n",
    "\n",
    "![](h2.png)\n",
    "\n",
    "Where:\n",
    "- x̅<sub>1</sub> and x̅<sub>2</sub>: are the means of the samples\n",
    "- s<sub>p</sub>: is the pooled standard deviation\n",
    "- s: sample standard deviation\n",
    "- n = n<sub>1</sub> = n<sub>2</sub>: size of the samples\n"
   ]
  },
  {
   "cell_type": "markdown",
   "metadata": {},
   "source": [
    "**Paired samples t-test**\n",
    "![](h3.png)\n",
    "\n",
    "Where:\n",
    "- x̅<sub>D</sub>: is the mean of the difference of all pairs (before/after)\n",
    "- s<sub>D</sub>: is the standard deviation of the diference of all pairs\n",
    "- μ<sub>0</sub>: is 0, or non 0 if testing if the mean difference is significantly different from a number"
   ]
  },
  {
   "cell_type": "markdown",
   "metadata": {},
   "source": [
    "**Welch t-test**\n",
    "![](h4.png)\n",
    "\n",
    "Where:\n",
    "- x̅<sub>1</sub> and x̅<sub>2</sub>: are the means of the samples\n",
    "- s<sub>1</sub> and s<sub>1</sub>: are the standard deviations of the samples\n",
    "- n<sub>1</sub> and n<sub>2</sub>: are the size of each of the samples [[8]](https://en.wikipedia.org/wiki/Student%27s_t-test)"
   ]
  },
  {
   "cell_type": "markdown",
   "metadata": {},
   "source": [
    "[Back to index](#Index)"
   ]
  },
  {
   "cell_type": "markdown",
   "metadata": {},
   "source": [
    "---"
   ]
  },
  {
   "cell_type": "markdown",
   "metadata": {},
   "source": [
    "## Python examples <a id='Examples'></a>"
   ]
  },
  {
   "cell_type": "markdown",
   "metadata": {},
   "source": [
    "### One sample t-test <a id='One'></a>"
   ]
  },
  {
   "cell_type": "markdown",
   "metadata": {
    "collapsed": true
   },
   "source": [
    "Is the mean height of female college students greater than 66 inches?\n",
    "\n",
    "It is a one sample t-test, since we compare a sample againts a single value."
   ]
  },
  {
   "cell_type": "code",
   "execution_count": 304,
   "metadata": {
    "collapsed": true
   },
   "outputs": [],
   "source": [
    "import pandas as pd                   \n",
    "from scipy    import stats, integrate"
   ]
  },
  {
   "cell_type": "markdown",
   "metadata": {},
   "source": [
    "Read and save heights from online source into pandas dataframe, from its description:\n",
    "\n",
    "\"The following are heights of students from Hope College.  The data were collected in the early 1990's.  Gender 1 is female and Gender 2 is male.\""
   ]
  },
  {
   "cell_type": "code",
   "execution_count": 305,
   "metadata": {
    "collapsed": false,
    "scrolled": true
   },
   "outputs": [
    {
     "data": {
      "text/html": [
       "<div>\n",
       "<table border=\"1\" class=\"dataframe\">\n",
       "  <thead>\n",
       "    <tr style=\"text-align: right;\">\n",
       "      <th></th>\n",
       "      <th>Gender</th>\n",
       "      <th>Height</th>\n",
       "    </tr>\n",
       "  </thead>\n",
       "  <tbody>\n",
       "    <tr>\n",
       "      <th>0</th>\n",
       "      <td>1</td>\n",
       "      <td>67</td>\n",
       "    </tr>\n",
       "    <tr>\n",
       "      <th>1</th>\n",
       "      <td>1</td>\n",
       "      <td>67</td>\n",
       "    </tr>\n",
       "    <tr>\n",
       "      <th>2</th>\n",
       "      <td>1</td>\n",
       "      <td>67</td>\n",
       "    </tr>\n",
       "    <tr>\n",
       "      <th>3</th>\n",
       "      <td>1</td>\n",
       "      <td>60</td>\n",
       "    </tr>\n",
       "    <tr>\n",
       "      <th>4</th>\n",
       "      <td>1</td>\n",
       "      <td>68</td>\n",
       "    </tr>\n",
       "  </tbody>\n",
       "</table>\n",
       "</div>"
      ],
      "text/plain": [
       "   Gender  Height\n",
       "0       1      67\n",
       "1       1      67\n",
       "2       1      67\n",
       "3       1      60\n",
       "4       1      68"
      ]
     },
     "execution_count": 305,
     "metadata": {},
     "output_type": "execute_result"
    }
   ],
   "source": [
    "heights = pd.read_table('http://www.math.hope.edu/swanson/data/heights.txt',skiprows=3,delim_whitespace=True)\n",
    "fheight = heights.ix[heights['Gender']==1]\n",
    "mheight = heights.ix[heights['Gender']==2]\n",
    "\n",
    "fheight.head()"
   ]
  },
  {
   "cell_type": "markdown",
   "metadata": {},
   "source": [
    "Will be using Bokeh for visualization, import the library and configure it to display the results inside the Jupyter notebook."
   ]
  },
  {
   "cell_type": "code",
   "execution_count": 306,
   "metadata": {
    "collapsed": false,
    "scrolled": true
   },
   "outputs": [
    {
     "data": {
      "text/html": [
       "\n",
       "    <div class=\"bk-root\">\n",
       "        <a href=\"http://bokeh.pydata.org\" target=\"_blank\" class=\"bk-logo bk-logo-small bk-logo-notebook\"></a>\n",
       "        <span id=\"9f2b7faf-20ef-4c0e-9ee8-f6b983fa917e\">Loading BokehJS ...</span>\n",
       "    </div>"
      ]
     },
     "metadata": {},
     "output_type": "display_data"
    },
    {
     "data": {
      "application/javascript": [
       "\n",
       "(function(global) {\n",
       "  function now() {\n",
       "    return new Date();\n",
       "  }\n",
       "\n",
       "  var force = true;\n",
       "\n",
       "  if (typeof (window._bokeh_onload_callbacks) === \"undefined\" || force === true) {\n",
       "    window._bokeh_onload_callbacks = [];\n",
       "    window._bokeh_is_loading = undefined;\n",
       "  }\n",
       "\n",
       "\n",
       "  \n",
       "  if (typeof (window._bokeh_timeout) === \"undefined\" || force === true) {\n",
       "    window._bokeh_timeout = Date.now() + 5000;\n",
       "    window._bokeh_failed_load = false;\n",
       "  }\n",
       "\n",
       "  var NB_LOAD_WARNING = {'data': {'text/html':\n",
       "     \"<div style='background-color: #fdd'>\\n\"+\n",
       "     \"<p>\\n\"+\n",
       "     \"BokehJS does not appear to have successfully loaded. If loading BokehJS from CDN, this \\n\"+\n",
       "     \"may be due to a slow or bad network connection. Possible fixes:\\n\"+\n",
       "     \"</p>\\n\"+\n",
       "     \"<ul>\\n\"+\n",
       "     \"<li>re-rerun `output_notebook()` to attempt to load from CDN again, or</li>\\n\"+\n",
       "     \"<li>use INLINE resources instead, as so:</li>\\n\"+\n",
       "     \"</ul>\\n\"+\n",
       "     \"<code>\\n\"+\n",
       "     \"from bokeh.resources import INLINE\\n\"+\n",
       "     \"output_notebook(resources=INLINE)\\n\"+\n",
       "     \"</code>\\n\"+\n",
       "     \"</div>\"}};\n",
       "\n",
       "  function display_loaded() {\n",
       "    if (window.Bokeh !== undefined) {\n",
       "      document.getElementById(\"9f2b7faf-20ef-4c0e-9ee8-f6b983fa917e\").textContent = \"BokehJS successfully loaded.\";\n",
       "    } else if (Date.now() < window._bokeh_timeout) {\n",
       "      setTimeout(display_loaded, 100)\n",
       "    }\n",
       "  }\n",
       "\n",
       "  function run_callbacks() {\n",
       "    window._bokeh_onload_callbacks.forEach(function(callback) { callback() });\n",
       "    delete window._bokeh_onload_callbacks\n",
       "    console.info(\"Bokeh: all callbacks have finished\");\n",
       "  }\n",
       "\n",
       "  function load_libs(js_urls, callback) {\n",
       "    window._bokeh_onload_callbacks.push(callback);\n",
       "    if (window._bokeh_is_loading > 0) {\n",
       "      console.log(\"Bokeh: BokehJS is being loaded, scheduling callback at\", now());\n",
       "      return null;\n",
       "    }\n",
       "    if (js_urls == null || js_urls.length === 0) {\n",
       "      run_callbacks();\n",
       "      return null;\n",
       "    }\n",
       "    console.log(\"Bokeh: BokehJS not loaded, scheduling load and callback at\", now());\n",
       "    window._bokeh_is_loading = js_urls.length;\n",
       "    for (var i = 0; i < js_urls.length; i++) {\n",
       "      var url = js_urls[i];\n",
       "      var s = document.createElement('script');\n",
       "      s.src = url;\n",
       "      s.async = false;\n",
       "      s.onreadystatechange = s.onload = function() {\n",
       "        window._bokeh_is_loading--;\n",
       "        if (window._bokeh_is_loading === 0) {\n",
       "          console.log(\"Bokeh: all BokehJS libraries loaded\");\n",
       "          run_callbacks()\n",
       "        }\n",
       "      };\n",
       "      s.onerror = function() {\n",
       "        console.warn(\"failed to load library \" + url);\n",
       "      };\n",
       "      console.log(\"Bokeh: injecting script tag for BokehJS library: \", url);\n",
       "      document.getElementsByTagName(\"head\")[0].appendChild(s);\n",
       "    }\n",
       "  };var element = document.getElementById(\"9f2b7faf-20ef-4c0e-9ee8-f6b983fa917e\");\n",
       "  if (element == null) {\n",
       "    console.log(\"Bokeh: ERROR: autoload.js configured with elementid '9f2b7faf-20ef-4c0e-9ee8-f6b983fa917e' but no matching script tag was found. \")\n",
       "    return false;\n",
       "  }\n",
       "\n",
       "  var js_urls = [\"https://cdn.pydata.org/bokeh/release/bokeh-0.12.4.min.js\", \"https://cdn.pydata.org/bokeh/release/bokeh-widgets-0.12.4.min.js\"];\n",
       "\n",
       "  var inline_js = [\n",
       "    function(Bokeh) {\n",
       "      Bokeh.set_log_level(\"info\");\n",
       "    },\n",
       "    \n",
       "    function(Bokeh) {\n",
       "      \n",
       "      document.getElementById(\"9f2b7faf-20ef-4c0e-9ee8-f6b983fa917e\").textContent = \"BokehJS is loading...\";\n",
       "    },\n",
       "    function(Bokeh) {\n",
       "      console.log(\"Bokeh: injecting CSS: https://cdn.pydata.org/bokeh/release/bokeh-0.12.4.min.css\");\n",
       "      Bokeh.embed.inject_css(\"https://cdn.pydata.org/bokeh/release/bokeh-0.12.4.min.css\");\n",
       "      console.log(\"Bokeh: injecting CSS: https://cdn.pydata.org/bokeh/release/bokeh-widgets-0.12.4.min.css\");\n",
       "      Bokeh.embed.inject_css(\"https://cdn.pydata.org/bokeh/release/bokeh-widgets-0.12.4.min.css\");\n",
       "    }\n",
       "  ];\n",
       "\n",
       "  function run_inline_js() {\n",
       "    \n",
       "    if ((window.Bokeh !== undefined) || (force === true)) {\n",
       "      for (var i = 0; i < inline_js.length; i++) {\n",
       "        inline_js[i](window.Bokeh);\n",
       "      }if (force === true) {\n",
       "        display_loaded();\n",
       "      }} else if (Date.now() < window._bokeh_timeout) {\n",
       "      setTimeout(run_inline_js, 100);\n",
       "    } else if (!window._bokeh_failed_load) {\n",
       "      console.log(\"Bokeh: BokehJS failed to load within specified timeout.\");\n",
       "      window._bokeh_failed_load = true;\n",
       "    } else if (force !== true) {\n",
       "      var cell = $(document.getElementById(\"9f2b7faf-20ef-4c0e-9ee8-f6b983fa917e\")).parents('.cell').data().cell;\n",
       "      cell.output_area.append_execute_result(NB_LOAD_WARNING)\n",
       "    }\n",
       "\n",
       "  }\n",
       "\n",
       "  if (window._bokeh_is_loading === 0) {\n",
       "    console.log(\"Bokeh: BokehJS loaded, going straight to plotting\");\n",
       "    run_inline_js();\n",
       "  } else {\n",
       "    load_libs(js_urls, function() {\n",
       "      console.log(\"Bokeh: BokehJS plotting callback run at\", now());\n",
       "      run_inline_js();\n",
       "    });\n",
       "  }\n",
       "}(this));"
      ]
     },
     "metadata": {},
     "output_type": "display_data"
    }
   ],
   "source": [
    "import numpy as np\n",
    "import scipy.special\n",
    "\n",
    "from bokeh.layouts import gridplot\n",
    "from bokeh.charts import Histogram\n",
    "from bokeh.io import push_notebook, output_notebook, show\n",
    "output_notebook()"
   ]
  },
  {
   "cell_type": "markdown",
   "metadata": {},
   "source": [
    "Calculate the mean and the standard deviation of our distribution, with them create another Normal distribution to check how similar it is to our data.\n",
    "\n",
    "Proceed to plot both of them."
   ]
  },
  {
   "cell_type": "code",
   "execution_count": 307,
   "metadata": {
    "collapsed": true
   },
   "outputs": [],
   "source": [
    "mu, sigma   = fheight['Height'].mean(),fheight['Height'].std()\n",
    "measured    = np.random.normal(mu,sigma,1000)\n",
    "hist, edges = np.histogram(measured, density=True,bins=20)\n",
    "x           = np.linspace(-3.2*sigma+mu,3.2*sigma+mu,1000)\n",
    "pdf         = 1/(sigma * np.sqrt(2*np.pi)) * np.exp(-(x-mu)**2 / (2*sigma**2))"
   ]
  },
  {
   "cell_type": "code",
   "execution_count": 308,
   "metadata": {
    "collapsed": false,
    "scrolled": true
   },
   "outputs": [
    {
     "data": {
      "text/html": [
       "\n",
       "\n",
       "    <div class=\"bk-root\">\n",
       "        <div class=\"bk-plotdiv\" id=\"3b079243-16b4-481c-b4b4-fbed104e6ff1\"></div>\n",
       "    </div>\n",
       "<script type=\"text/javascript\">\n",
       "  \n",
       "  (function(global) {\n",
       "    function now() {\n",
       "      return new Date();\n",
       "    }\n",
       "  \n",
       "    var force = false;\n",
       "  \n",
       "    if (typeof (window._bokeh_onload_callbacks) === \"undefined\" || force === true) {\n",
       "      window._bokeh_onload_callbacks = [];\n",
       "      window._bokeh_is_loading = undefined;\n",
       "    }\n",
       "  \n",
       "  \n",
       "    \n",
       "    if (typeof (window._bokeh_timeout) === \"undefined\" || force === true) {\n",
       "      window._bokeh_timeout = Date.now() + 0;\n",
       "      window._bokeh_failed_load = false;\n",
       "    }\n",
       "  \n",
       "    var NB_LOAD_WARNING = {'data': {'text/html':\n",
       "       \"<div style='background-color: #fdd'>\\n\"+\n",
       "       \"<p>\\n\"+\n",
       "       \"BokehJS does not appear to have successfully loaded. If loading BokehJS from CDN, this \\n\"+\n",
       "       \"may be due to a slow or bad network connection. Possible fixes:\\n\"+\n",
       "       \"</p>\\n\"+\n",
       "       \"<ul>\\n\"+\n",
       "       \"<li>re-rerun `output_notebook()` to attempt to load from CDN again, or</li>\\n\"+\n",
       "       \"<li>use INLINE resources instead, as so:</li>\\n\"+\n",
       "       \"</ul>\\n\"+\n",
       "       \"<code>\\n\"+\n",
       "       \"from bokeh.resources import INLINE\\n\"+\n",
       "       \"output_notebook(resources=INLINE)\\n\"+\n",
       "       \"</code>\\n\"+\n",
       "       \"</div>\"}};\n",
       "  \n",
       "    function display_loaded() {\n",
       "      if (window.Bokeh !== undefined) {\n",
       "        document.getElementById(\"3b079243-16b4-481c-b4b4-fbed104e6ff1\").textContent = \"BokehJS successfully loaded.\";\n",
       "      } else if (Date.now() < window._bokeh_timeout) {\n",
       "        setTimeout(display_loaded, 100)\n",
       "      }\n",
       "    }\n",
       "  \n",
       "    function run_callbacks() {\n",
       "      window._bokeh_onload_callbacks.forEach(function(callback) { callback() });\n",
       "      delete window._bokeh_onload_callbacks\n",
       "      console.info(\"Bokeh: all callbacks have finished\");\n",
       "    }\n",
       "  \n",
       "    function load_libs(js_urls, callback) {\n",
       "      window._bokeh_onload_callbacks.push(callback);\n",
       "      if (window._bokeh_is_loading > 0) {\n",
       "        console.log(\"Bokeh: BokehJS is being loaded, scheduling callback at\", now());\n",
       "        return null;\n",
       "      }\n",
       "      if (js_urls == null || js_urls.length === 0) {\n",
       "        run_callbacks();\n",
       "        return null;\n",
       "      }\n",
       "      console.log(\"Bokeh: BokehJS not loaded, scheduling load and callback at\", now());\n",
       "      window._bokeh_is_loading = js_urls.length;\n",
       "      for (var i = 0; i < js_urls.length; i++) {\n",
       "        var url = js_urls[i];\n",
       "        var s = document.createElement('script');\n",
       "        s.src = url;\n",
       "        s.async = false;\n",
       "        s.onreadystatechange = s.onload = function() {\n",
       "          window._bokeh_is_loading--;\n",
       "          if (window._bokeh_is_loading === 0) {\n",
       "            console.log(\"Bokeh: all BokehJS libraries loaded\");\n",
       "            run_callbacks()\n",
       "          }\n",
       "        };\n",
       "        s.onerror = function() {\n",
       "          console.warn(\"failed to load library \" + url);\n",
       "        };\n",
       "        console.log(\"Bokeh: injecting script tag for BokehJS library: \", url);\n",
       "        document.getElementsByTagName(\"head\")[0].appendChild(s);\n",
       "      }\n",
       "    };var element = document.getElementById(\"3b079243-16b4-481c-b4b4-fbed104e6ff1\");\n",
       "    if (element == null) {\n",
       "      console.log(\"Bokeh: ERROR: autoload.js configured with elementid '3b079243-16b4-481c-b4b4-fbed104e6ff1' but no matching script tag was found. \")\n",
       "      return false;\n",
       "    }\n",
       "  \n",
       "    var js_urls = [];\n",
       "  \n",
       "    var inline_js = [\n",
       "      function(Bokeh) {\n",
       "        (function() {\n",
       "          var fn = function() {\n",
       "            var docs_json = {\"3fe64fd1-3574-49ac-a6ac-c01ba0496ec7\":{\"roots\":{\"references\":[{\"attributes\":{\"data_source\":{\"id\":\"a07f5aff-ba5c-4237-9c12-5151dae34518\",\"type\":\"ColumnDataSource\"},\"glyph\":{\"id\":\"b867f3a7-ac0f-41a0-97ee-d499e0cf8805\",\"type\":\"Quad\"},\"hover_glyph\":null,\"nonselection_glyph\":{\"id\":\"84d9bb67-14f7-4543-8769-4b7d0db647b4\",\"type\":\"Quad\"},\"selection_glyph\":null},\"id\":\"f5a78339-3f26-4248-bf7f-e6937630534b\",\"type\":\"GlyphRenderer\"},{\"attributes\":{\"plot\":{\"id\":\"37629a2e-0c37-4ea4-bd12-99b4739d1e60\",\"subtype\":\"Figure\",\"type\":\"Plot\"}},\"id\":\"fc34455a-ecad-43d9-8531-05f8bc420d36\",\"type\":\"ResetTool\"},{\"attributes\":{\"active_drag\":\"auto\",\"active_scroll\":\"auto\",\"active_tap\":\"auto\",\"tools\":[{\"id\":\"00e02f1d-8195-4ca8-ad5c-cec095629d40\",\"type\":\"PanTool\"},{\"id\":\"1149fc49-180f-400b-b1ac-e0db4067102a\",\"type\":\"WheelZoomTool\"},{\"id\":\"0f7dc8e0-765f-4896-9c7e-c0da4b643e1d\",\"type\":\"BoxZoomTool\"},{\"id\":\"8ad7ba2d-cf5f-410f-b71c-aaa1d825b1af\",\"type\":\"SaveTool\"},{\"id\":\"fc34455a-ecad-43d9-8531-05f8bc420d36\",\"type\":\"ResetTool\"},{\"id\":\"6dfdeb63-ff88-4d16-8962-97aab7b98ff2\",\"type\":\"HelpTool\"}]},\"id\":\"32bf7e94-f0ce-433b-aa14-ef6e5ab38c18\",\"type\":\"Toolbar\"},{\"attributes\":{\"below\":[{\"id\":\"14d53af1-3b12-42d2-9822-5e71a4ba8367\",\"type\":\"LinearAxis\"}],\"left\":[{\"id\":\"3802e1a6-8087-4fb6-b15e-79409732370f\",\"type\":\"LinearAxis\"}],\"plot_height\":480,\"plot_width\":480,\"renderers\":[{\"id\":\"14d53af1-3b12-42d2-9822-5e71a4ba8367\",\"type\":\"LinearAxis\"},{\"id\":\"69410746-230a-487e-9fd8-c876575a416b\",\"type\":\"Grid\"},{\"id\":\"3802e1a6-8087-4fb6-b15e-79409732370f\",\"type\":\"LinearAxis\"},{\"id\":\"450fd988-1b59-41fc-8608-1789b923d56c\",\"type\":\"Grid\"},{\"id\":\"295d39af-e85c-459b-ad1e-a646cf554a9e\",\"type\":\"BoxAnnotation\"},{\"id\":\"f5a78339-3f26-4248-bf7f-e6937630534b\",\"type\":\"GlyphRenderer\"},{\"id\":\"e98d4138-7bb2-4503-a675-530f661bde45\",\"type\":\"GlyphRenderer\"}],\"title\":{\"id\":\"db151e50-7b16-49d7-aceb-2073de21c120\",\"type\":\"Title\"},\"tool_events\":{\"id\":\"307682ff-975a-4526-9f1b-ba248d0a712d\",\"type\":\"ToolEvents\"},\"toolbar\":{\"id\":\"32bf7e94-f0ce-433b-aa14-ef6e5ab38c18\",\"type\":\"Toolbar\"},\"x_range\":{\"id\":\"2520114b-8881-4690-a4cc-3a22f8b42260\",\"type\":\"DataRange1d\"},\"y_range\":{\"id\":\"009e922e-f78d-4449-ad81-12b0fedd7888\",\"type\":\"DataRange1d\"}},\"id\":\"37629a2e-0c37-4ea4-bd12-99b4739d1e60\",\"subtype\":\"Figure\",\"type\":\"Plot\"},{\"attributes\":{},\"id\":\"e977b9f2-ac6e-4f7a-945f-f2cdfd418eb2\",\"type\":\"BasicTickFormatter\"},{\"attributes\":{\"bottom\":{\"value\":0},\"fill_alpha\":{\"value\":0.1},\"fill_color\":{\"value\":\"#1f77b4\"},\"left\":{\"field\":\"left\"},\"line_alpha\":{\"value\":0.1},\"line_color\":{\"value\":\"#1f77b4\"},\"right\":{\"field\":\"right\"},\"top\":{\"field\":\"top\"}},\"id\":\"84d9bb67-14f7-4543-8769-4b7d0db647b4\",\"type\":\"Quad\"},{\"attributes\":{\"callback\":null,\"column_names\":[\"top\",\"left\",\"right\"],\"data\":{\"left\":{\"__ndarray__\":\"pQvRcmTATEArNPiN6SxNQLBcH6lumU1ANoVGxPMFTkC7rW3feHJOQEHWlPr93k5Axv67FYNLT0BMJ+MwCLhPQOknBaZGElBAK7yYM4lIUEBuUCzBy35QQLHkv04OtVBA9HhT3FDrUEA2DedpkyFRQHmhevfVV1FAvDUOhRiOUUD/yaESW8RRQEJeNaCd+lFAhPLILeAwUkDHhly7ImdSQA==\",\"dtype\":\"float64\",\"shape\":[20]},\"right\":{\"__ndarray__\":\"KzT4jeksTUCwXB+pbplNQDaFRsTzBU5Au61t33hyTkBB1pT6/d5OQMb+uxWDS09ATCfjMAi4T0DpJwWmRhJQQCu8mDOJSFBAblAswct+UECx5L9ODrVQQPR4U9xQ61BANg3naZMhUUB5oXr31VdRQLw1DoUYjlFA/8mhElvEUUBCXjWgnfpRQITyyC3gMFJAx4ZcuyJnUkAKG/BIZZ1SQA==\",\"dtype\":\"float64\",\"shape\":[20]},\"top\":{\"__ndarray__\":\"cxNseND8bD8ZuwQPAyh4P5YOUVqcvYU/Z2e4w2mSij9MYp2lNVOjPxm7BA8DKKg/nhatdLXQsT8pZ7jDaZK6P8ZKiVbqGb8/yPA0XHUPwT8UoRaeaIPBP/6xu2NC38I/fJFeaTZduT+65Kq0z/K2P3MTbHjQ/Kw/qPl9BzZYpj8EkV5pNl2ZP6dinaU1U5M/37oEDwMoiD9MYp2lNVNzPw==\",\"dtype\":\"float64\",\"shape\":[20]}}},\"id\":\"a07f5aff-ba5c-4237-9c12-5151dae34518\",\"type\":\"ColumnDataSource\"},{\"attributes\":{\"plot\":{\"id\":\"37629a2e-0c37-4ea4-bd12-99b4739d1e60\",\"subtype\":\"Figure\",\"type\":\"Plot\"}},\"id\":\"1149fc49-180f-400b-b1ac-e0db4067102a\",\"type\":\"WheelZoomTool\"},{\"attributes\":{\"axis_label\":\"Height in inches\",\"formatter\":{\"id\":\"453c5187-8788-4eb1-96e6-ea965c8d6d59\",\"type\":\"BasicTickFormatter\"},\"plot\":{\"id\":\"37629a2e-0c37-4ea4-bd12-99b4739d1e60\",\"subtype\":\"Figure\",\"type\":\"Plot\"},\"ticker\":{\"id\":\"c6f34b6c-ccf6-4b90-9baf-6751a3c57821\",\"type\":\"BasicTicker\"}},\"id\":\"14d53af1-3b12-42d2-9822-5e71a4ba8367\",\"type\":\"LinearAxis\"},{\"attributes\":{\"plot\":{\"id\":\"37629a2e-0c37-4ea4-bd12-99b4739d1e60\",\"subtype\":\"Figure\",\"type\":\"Plot\"}},\"id\":\"6dfdeb63-ff88-4d16-8962-97aab7b98ff2\",\"type\":\"HelpTool\"},{\"attributes\":{},\"id\":\"72e9a7d7-c76e-4452-830f-7fe03117ff43\",\"type\":\"BasicTicker\"},{\"attributes\":{\"plot\":{\"id\":\"37629a2e-0c37-4ea4-bd12-99b4739d1e60\",\"subtype\":\"Figure\",\"type\":\"Plot\"},\"ticker\":{\"id\":\"c6f34b6c-ccf6-4b90-9baf-6751a3c57821\",\"type\":\"BasicTicker\"}},\"id\":\"69410746-230a-487e-9fd8-c876575a416b\",\"type\":\"Grid\"},{\"attributes\":{\"overlay\":{\"id\":\"295d39af-e85c-459b-ad1e-a646cf554a9e\",\"type\":\"BoxAnnotation\"},\"plot\":{\"id\":\"37629a2e-0c37-4ea4-bd12-99b4739d1e60\",\"subtype\":\"Figure\",\"type\":\"Plot\"}},\"id\":\"0f7dc8e0-765f-4896-9c7e-c0da4b643e1d\",\"type\":\"BoxZoomTool\"},{\"attributes\":{\"line_alpha\":{\"value\":0.1},\"line_color\":{\"value\":\"#1f77b4\"},\"line_width\":{\"value\":4},\"x\":{\"field\":\"x\"},\"y\":{\"field\":\"y\"}},\"id\":\"d7994365-c620-4f04-969f-c54f8eb3f55d\",\"type\":\"Line\"},{\"attributes\":{\"bottom\":{\"value\":0},\"fill_color\":{\"value\":\"#1f77b4\"},\"left\":{\"field\":\"left\"},\"line_color\":{\"value\":\"#000000\"},\"right\":{\"field\":\"right\"},\"top\":{\"field\":\"top\"}},\"id\":\"b867f3a7-ac0f-41a0-97ee-d499e0cf8805\",\"type\":\"Quad\"},{\"attributes\":{\"plot\":{\"id\":\"37629a2e-0c37-4ea4-bd12-99b4739d1e60\",\"subtype\":\"Figure\",\"type\":\"Plot\"}},\"id\":\"8ad7ba2d-cf5f-410f-b71c-aaa1d825b1af\",\"type\":\"SaveTool\"},{\"attributes\":{\"plot\":null,\"text\":\"Female Height Distribution (\\u03bc=66.4, \\u03c3=2.92)\"},\"id\":\"db151e50-7b16-49d7-aceb-2073de21c120\",\"type\":\"Title\"},{\"attributes\":{\"data_source\":{\"id\":\"e7360b3f-340b-45c9-93fc-ec7546dc880b\",\"type\":\"ColumnDataSource\"},\"glyph\":{\"id\":\"3fe37871-4ba0-4e82-bb0d-84d305aac383\",\"type\":\"Line\"},\"hover_glyph\":null,\"nonselection_glyph\":{\"id\":\"d7994365-c620-4f04-969f-c54f8eb3f55d\",\"type\":\"Line\"},\"selection_glyph\":null},\"id\":\"e98d4138-7bb2-4503-a675-530f661bde45\",\"type\":\"GlyphRenderer\"},{\"attributes\":{\"axis_label\":\"Pr(x)\",\"formatter\":{\"id\":\"e977b9f2-ac6e-4f7a-945f-f2cdfd418eb2\",\"type\":\"BasicTickFormatter\"},\"plot\":{\"id\":\"37629a2e-0c37-4ea4-bd12-99b4739d1e60\",\"subtype\":\"Figure\",\"type\":\"Plot\"},\"ticker\":{\"id\":\"72e9a7d7-c76e-4452-830f-7fe03117ff43\",\"type\":\"BasicTicker\"}},\"id\":\"3802e1a6-8087-4fb6-b15e-79409732370f\",\"type\":\"LinearAxis\"},{\"attributes\":{\"line_alpha\":{\"value\":0.75},\"line_color\":{\"value\":\"#D95B43\"},\"line_width\":{\"value\":4},\"x\":{\"field\":\"x\"},\"y\":{\"field\":\"y\"}},\"id\":\"3fe37871-4ba0-4e82-bb0d-84d305aac383\",\"type\":\"Line\"},{\"attributes\":{\"plot\":{\"id\":\"37629a2e-0c37-4ea4-bd12-99b4739d1e60\",\"subtype\":\"Figure\",\"type\":\"Plot\"}},\"id\":\"00e02f1d-8195-4ca8-ad5c-cec095629d40\",\"type\":\"PanTool\"},{\"attributes\":{},\"id\":\"307682ff-975a-4526-9f1b-ba248d0a712d\",\"type\":\"ToolEvents\"},{\"attributes\":{\"callback\":null},\"id\":\"009e922e-f78d-4449-ad81-12b0fedd7888\",\"type\":\"DataRange1d\"},{\"attributes\":{\"bottom_units\":\"screen\",\"fill_alpha\":{\"value\":0.5},\"fill_color\":{\"value\":\"lightgrey\"},\"left_units\":\"screen\",\"level\":\"overlay\",\"line_alpha\":{\"value\":1.0},\"line_color\":{\"value\":\"black\"},\"line_dash\":[4,4],\"line_width\":{\"value\":2},\"plot\":null,\"render_mode\":\"css\",\"right_units\":\"screen\",\"top_units\":\"screen\"},\"id\":\"295d39af-e85c-459b-ad1e-a646cf554a9e\",\"type\":\"BoxAnnotation\"},{\"attributes\":{\"dimension\":1,\"plot\":{\"id\":\"37629a2e-0c37-4ea4-bd12-99b4739d1e60\",\"subtype\":\"Figure\",\"type\":\"Plot\"},\"ticker\":{\"id\":\"72e9a7d7-c76e-4452-830f-7fe03117ff43\",\"type\":\"BasicTicker\"}},\"id\":\"450fd988-1b59-41fc-8608-1789b923d56c\",\"type\":\"Grid\"},{\"attributes\":{\"callback\":null,\"column_names\":[\"x\",\"y\"],\"data\":{\"x\":{\"__ndarray__\":\"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\",\"dtype\":\"float64\",\"shape\":[1000]},\"y\":{\"__ndarray__\":\"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\",\"dtype\":\"float64\",\"shape\":[1000]}}},\"id\":\"e7360b3f-340b-45c9-93fc-ec7546dc880b\",\"type\":\"ColumnDataSource\"},{\"attributes\":{},\"id\":\"453c5187-8788-4eb1-96e6-ea965c8d6d59\",\"type\":\"BasicTickFormatter\"},{\"attributes\":{\"callback\":null},\"id\":\"2520114b-8881-4690-a4cc-3a22f8b42260\",\"type\":\"DataRange1d\"},{\"attributes\":{},\"id\":\"c6f34b6c-ccf6-4b90-9baf-6751a3c57821\",\"type\":\"BasicTicker\"}],\"root_ids\":[\"37629a2e-0c37-4ea4-bd12-99b4739d1e60\"]},\"title\":\"Bokeh Application\",\"version\":\"0.12.4\"}};\n",
       "            var render_items = [{\"docid\":\"3fe64fd1-3574-49ac-a6ac-c01ba0496ec7\",\"elementid\":\"3b079243-16b4-481c-b4b4-fbed104e6ff1\",\"modelid\":\"37629a2e-0c37-4ea4-bd12-99b4739d1e60\"}];\n",
       "            \n",
       "            Bokeh.embed.embed_items(docs_json, render_items);\n",
       "          };\n",
       "          if (document.readyState != \"loading\") fn();\n",
       "          else document.addEventListener(\"DOMContentLoaded\", fn);\n",
       "        })();\n",
       "      },\n",
       "      function(Bokeh) {\n",
       "      }\n",
       "    ];\n",
       "  \n",
       "    function run_inline_js() {\n",
       "      \n",
       "      if ((window.Bokeh !== undefined) || (force === true)) {\n",
       "        for (var i = 0; i < inline_js.length; i++) {\n",
       "          inline_js[i](window.Bokeh);\n",
       "        }if (force === true) {\n",
       "          display_loaded();\n",
       "        }} else if (Date.now() < window._bokeh_timeout) {\n",
       "        setTimeout(run_inline_js, 100);\n",
       "      } else if (!window._bokeh_failed_load) {\n",
       "        console.log(\"Bokeh: BokehJS failed to load within specified timeout.\");\n",
       "        window._bokeh_failed_load = true;\n",
       "      } else if (force !== true) {\n",
       "        var cell = $(document.getElementById(\"3b079243-16b4-481c-b4b4-fbed104e6ff1\")).parents('.cell').data().cell;\n",
       "        cell.output_area.append_execute_result(NB_LOAD_WARNING)\n",
       "      }\n",
       "  \n",
       "    }\n",
       "  \n",
       "    if (window._bokeh_is_loading === 0) {\n",
       "      console.log(\"Bokeh: BokehJS loaded, going straight to plotting\");\n",
       "      run_inline_js();\n",
       "    } else {\n",
       "      load_libs(js_urls, function() {\n",
       "        console.log(\"Bokeh: BokehJS plotting callback run at\", now());\n",
       "        run_inline_js();\n",
       "      });\n",
       "    }\n",
       "  }(this));\n",
       "</script>"
      ]
     },
     "metadata": {},
     "output_type": "display_data"
    }
   ],
   "source": [
    "p1 = figure(title=\"Female Height Distribution (μ=\"+str(mu)+\", σ=\"+str(round(sigma,2))+\")\",width=480,height=480)\n",
    "\n",
    "p1.quad(top=hist,bottom=0,left=edges[:-1],right=edges[1:],line_color=\"#000000\")\n",
    "p1.line(x,pdf,line_color=\"#D95B43\",line_width=4,alpha=0.75)\n",
    "\n",
    "p1.xaxis.axis_label = 'Height in inches'\n",
    "p1.yaxis.axis_label = 'Pr(x)'\n",
    "\n",
    "show(p1)"
   ]
  },
  {
   "cell_type": "markdown",
   "metadata": {},
   "source": [
    "![](bokeh_plot2.png)"
   ]
  },
  {
   "cell_type": "markdown",
   "metadata": {},
   "source": [
    "The distribution looks normal enough, with a mean value of 66.4 inches and a standard deviation of 2.92 inches.\n",
    "\n",
    "Then proceed to evaluate the t-test, as stated in the problem description we are comparing a value of 66 inches with the mean of the sample to check if they are statistically different."
   ]
  },
  {
   "cell_type": "code",
   "execution_count": 309,
   "metadata": {
    "collapsed": false,
    "scrolled": true
   },
   "outputs": [
    {
     "data": {
      "text/plain": [
       "Ttest_1sampResult(statistic=0.96840024941251834, pvalue=0.33760034329474164)"
      ]
     },
     "execution_count": 309,
     "metadata": {},
     "output_type": "execute_result"
    }
   ],
   "source": [
    "stats.ttest_1samp(fheight['Height'].values,66)"
   ]
  },
  {
   "cell_type": "markdown",
   "metadata": {},
   "source": [
    "Just to check the results, lets create our own one sample t-test function."
   ]
  },
  {
   "cell_type": "code",
   "execution_count": 310,
   "metadata": {
    "collapsed": false
   },
   "outputs": [
    {
     "name": "stdout",
     "output_type": "stream",
     "text": [
      "statistic=0.9684002494125179\n"
     ]
    }
   ],
   "source": [
    "def tt_1samp(x,mu0):\n",
    "    mu    = x.mean()\n",
    "    sigma = x.std()\n",
    "    n     = x.shape[0]\n",
    "    return (mu-mu0)/(sigma/np.sqrt(n))\n",
    "\n",
    "print('statistic={0}'.format(tt_1samp(fheight['Height'],66)))"
   ]
  },
  {
   "cell_type": "markdown",
   "metadata": {},
   "source": [
    "As we see, the result is the same as the one provided by the scipy function.\n",
    "\n",
    "What does the result tell us? We need a reference to know if the t-test gives us evidence to reject the Null hypothesis (that 66 inches is not statistically different of the sample mean) or not.\n",
    "\n",
    "For that we have the second value, the pvalue of which we will talk in detail later. Suffice to say know that usually a threshold (called alpha) for the p-value is set, usually of 0.05. If the pvalue of our t-test is less than that value, we have evidence to reject the Null Hypothesis, if bigger, we do not.\n",
    "\n",
    "In this case, the pvalue reported is 0.337 which is not less than 0.05, so we fail to reject the Null Hypothesis and conclude that there is not statistical difference between 66 inches and the sample mean."
   ]
  },
  {
   "cell_type": "markdown",
   "metadata": {},
   "source": [
    "### Two Sample t-test<a id='Two'></a>\n",
    "\n",
    "We know proceed to evaluate, with the same dataset, if there is a statistically significant difference between the female students height and the male students height. \n",
    "\n",
    "First let's plot both data distributions and see if we can appreciate any difference."
   ]
  },
  {
   "cell_type": "code",
   "execution_count": 311,
   "metadata": {
    "collapsed": false,
    "scrolled": true
   },
   "outputs": [
    {
     "data": {
      "text/html": [
       "\n",
       "\n",
       "    <div class=\"bk-root\">\n",
       "        <div class=\"bk-plotdiv\" id=\"a54be60e-a9aa-4480-9dd3-1be8f63a3889\"></div>\n",
       "    </div>\n",
       "<script type=\"text/javascript\">\n",
       "  \n",
       "  (function(global) {\n",
       "    function now() {\n",
       "      return new Date();\n",
       "    }\n",
       "  \n",
       "    var force = false;\n",
       "  \n",
       "    if (typeof (window._bokeh_onload_callbacks) === \"undefined\" || force === true) {\n",
       "      window._bokeh_onload_callbacks = [];\n",
       "      window._bokeh_is_loading = undefined;\n",
       "    }\n",
       "  \n",
       "  \n",
       "    \n",
       "    if (typeof (window._bokeh_timeout) === \"undefined\" || force === true) {\n",
       "      window._bokeh_timeout = Date.now() + 0;\n",
       "      window._bokeh_failed_load = false;\n",
       "    }\n",
       "  \n",
       "    var NB_LOAD_WARNING = {'data': {'text/html':\n",
       "       \"<div style='background-color: #fdd'>\\n\"+\n",
       "       \"<p>\\n\"+\n",
       "       \"BokehJS does not appear to have successfully loaded. If loading BokehJS from CDN, this \\n\"+\n",
       "       \"may be due to a slow or bad network connection. Possible fixes:\\n\"+\n",
       "       \"</p>\\n\"+\n",
       "       \"<ul>\\n\"+\n",
       "       \"<li>re-rerun `output_notebook()` to attempt to load from CDN again, or</li>\\n\"+\n",
       "       \"<li>use INLINE resources instead, as so:</li>\\n\"+\n",
       "       \"</ul>\\n\"+\n",
       "       \"<code>\\n\"+\n",
       "       \"from bokeh.resources import INLINE\\n\"+\n",
       "       \"output_notebook(resources=INLINE)\\n\"+\n",
       "       \"</code>\\n\"+\n",
       "       \"</div>\"}};\n",
       "  \n",
       "    function display_loaded() {\n",
       "      if (window.Bokeh !== undefined) {\n",
       "        document.getElementById(\"a54be60e-a9aa-4480-9dd3-1be8f63a3889\").textContent = \"BokehJS successfully loaded.\";\n",
       "      } else if (Date.now() < window._bokeh_timeout) {\n",
       "        setTimeout(display_loaded, 100)\n",
       "      }\n",
       "    }\n",
       "  \n",
       "    function run_callbacks() {\n",
       "      window._bokeh_onload_callbacks.forEach(function(callback) { callback() });\n",
       "      delete window._bokeh_onload_callbacks\n",
       "      console.info(\"Bokeh: all callbacks have finished\");\n",
       "    }\n",
       "  \n",
       "    function load_libs(js_urls, callback) {\n",
       "      window._bokeh_onload_callbacks.push(callback);\n",
       "      if (window._bokeh_is_loading > 0) {\n",
       "        console.log(\"Bokeh: BokehJS is being loaded, scheduling callback at\", now());\n",
       "        return null;\n",
       "      }\n",
       "      if (js_urls == null || js_urls.length === 0) {\n",
       "        run_callbacks();\n",
       "        return null;\n",
       "      }\n",
       "      console.log(\"Bokeh: BokehJS not loaded, scheduling load and callback at\", now());\n",
       "      window._bokeh_is_loading = js_urls.length;\n",
       "      for (var i = 0; i < js_urls.length; i++) {\n",
       "        var url = js_urls[i];\n",
       "        var s = document.createElement('script');\n",
       "        s.src = url;\n",
       "        s.async = false;\n",
       "        s.onreadystatechange = s.onload = function() {\n",
       "          window._bokeh_is_loading--;\n",
       "          if (window._bokeh_is_loading === 0) {\n",
       "            console.log(\"Bokeh: all BokehJS libraries loaded\");\n",
       "            run_callbacks()\n",
       "          }\n",
       "        };\n",
       "        s.onerror = function() {\n",
       "          console.warn(\"failed to load library \" + url);\n",
       "        };\n",
       "        console.log(\"Bokeh: injecting script tag for BokehJS library: \", url);\n",
       "        document.getElementsByTagName(\"head\")[0].appendChild(s);\n",
       "      }\n",
       "    };var element = document.getElementById(\"a54be60e-a9aa-4480-9dd3-1be8f63a3889\");\n",
       "    if (element == null) {\n",
       "      console.log(\"Bokeh: ERROR: autoload.js configured with elementid 'a54be60e-a9aa-4480-9dd3-1be8f63a3889' but no matching script tag was found. \")\n",
       "      return false;\n",
       "    }\n",
       "  \n",
       "    var js_urls = [];\n",
       "  \n",
       "    var inline_js = [\n",
       "      function(Bokeh) {\n",
       "        (function() {\n",
       "          var fn = function() {\n",
       "            var docs_json = {\"931f8546-50c6-4482-a115-e65a964d3566\":{\"roots\":{\"references\":[{\"attributes\":{\"data_source\":{\"id\":\"5545efde-9208-4944-8005-383b6e30201a\",\"type\":\"ColumnDataSource\"},\"glyph\":{\"id\":\"8a6901fe-5ca2-4edf-b056-5643b2764467\",\"type\":\"Rect\"},\"hover_glyph\":null,\"nonselection_glyph\":null,\"selection_glyph\":null},\"id\":\"847407cd-547f-40c1-9515-5f1d6da26e0c\",\"type\":\"GlyphRenderer\"},{\"attributes\":{\"callback\":null,\"column_names\":[\"label\",\"width\",\"fill_alpha\",\"line_color\",\"height\",\"y\",\"color\",\"line_alpha\",\"x\"],\"data\":{\"chart_index\":[\"(64.000000, 64.800000]\"],\"color\":[\"#f22c40\"],\"fill_alpha\":[0.6],\"height\":[4.0],\"label\":[\"(64.000000, 64.800000]\"],\"line_alpha\":[1.0],\"line_color\":[\"black\"],\"width\":[0.7999999999999972],\"x\":[\"64.4\"],\"y\":[2.0]}},\"id\":\"81814fe5-4086-4c36-afae-704ec8515931\",\"type\":\"ColumnDataSource\"},{\"attributes\":{\"data_source\":{\"id\":\"ff6501a4-904b-4727-8330-879e6ae36a06\",\"type\":\"ColumnDataSource\"},\"glyph\":{\"id\":\"4dda0916-b419-4c73-af9e-30390c9c394e\",\"type\":\"Rect\"},\"hover_glyph\":null,\"nonselection_glyph\":null,\"selection_glyph\":null},\"id\":\"dbfa8027-ee4b-48f8-9ab4-234dd9b5442b\",\"type\":\"GlyphRenderer\"},{\"attributes\":{\"fill_alpha\":{\"field\":\"fill_alpha\"},\"fill_color\":{\"field\":\"color\"},\"height\":{\"field\":\"height\",\"units\":\"data\"},\"line_color\":{\"field\":\"line_color\"},\"width\":{\"field\":\"width\",\"units\":\"data\"},\"x\":{\"field\":\"x\"},\"y\":{\"field\":\"y\"}},\"id\":\"06da290c-6514-4882-acf3-e9cbc08d5179\",\"type\":\"Rect\"},{\"attributes\":{\"fill_alpha\":{\"field\":\"fill_alpha\"},\"fill_color\":{\"field\":\"color\"},\"height\":{\"field\":\"height\",\"units\":\"data\"},\"line_color\":{\"field\":\"line_color\"},\"width\":{\"field\":\"width\",\"units\":\"data\"},\"x\":{\"field\":\"x\"},\"y\":{\"field\":\"y\"}},\"id\":\"4a7484e4-0133-4d39-bf43-072823bbee78\",\"type\":\"Rect\"},{\"attributes\":{\"callback\":null,\"column_names\":[\"label\",\"width\",\"fill_alpha\",\"line_color\",\"height\",\"y\",\"color\",\"line_alpha\",\"x\"],\"data\":{\"chart_index\":[\"(61.600000, 62.400000]\"],\"color\":[\"#f22c40\"],\"fill_alpha\":[0.6],\"height\":[1.0],\"label\":[\"(61.600000, 62.400000]\"],\"line_alpha\":[1.0],\"line_color\":[\"black\"],\"width\":[0.7999999999999972],\"x\":[\"62.0\"],\"y\":[0.5]}},\"id\":\"a860b3e2-04a0-4073-aff0-ac50afddcdb5\",\"type\":\"ColumnDataSource\"},{\"attributes\":{\"callback\":null,\"column_names\":[\"label\",\"width\",\"fill_alpha\",\"line_color\",\"height\",\"y\",\"color\",\"line_alpha\",\"x\"],\"data\":{\"chart_index\":[\"(72.466667, 73.400000]\"],\"color\":[\"#5ab738\"],\"fill_alpha\":[0.6],\"height\":[3.0],\"label\":[\"(72.466667, 73.400000]\"],\"line_alpha\":[1.0],\"line_color\":[\"black\"],\"width\":[0.9333333333333371],\"x\":[\"72.9333335\"],\"y\":[1.5]}},\"id\":\"cd783014-20ff-4c9b-903e-6f660855c43f\",\"type\":\"ColumnDataSource\"},{\"attributes\":{\"fill_alpha\":{\"field\":\"fill_alpha\"},\"fill_color\":{\"field\":\"color\"},\"height\":{\"field\":\"height\",\"units\":\"data\"},\"line_color\":{\"field\":\"line_color\"},\"width\":{\"field\":\"width\",\"units\":\"data\"},\"x\":{\"field\":\"x\"},\"y\":{\"field\":\"y\"}},\"id\":\"64785c46-78a5-48b8-b59d-abe4474e25e3\",\"type\":\"Rect\"},{\"attributes\":{\"plot\":{\"id\":\"783f3516-7436-4487-bf06-df6f77f2c636\",\"subtype\":\"Chart\",\"type\":\"Plot\"}},\"id\":\"9b7b6847-0566-48b9-beda-35ac239f5458\",\"type\":\"PanTool\"},{\"attributes\":{\"callback\":null,\"end\":14.3},\"id\":\"2e2acab3-350c-42de-9c80-737f6a87a0e1\",\"type\":\"Range1d\"},{\"attributes\":{\"fill_alpha\":{\"field\":\"fill_alpha\"},\"fill_color\":{\"field\":\"color\"},\"height\":{\"field\":\"height\",\"units\":\"data\"},\"line_color\":{\"field\":\"line_color\"},\"width\":{\"field\":\"width\",\"units\":\"data\"},\"x\":{\"field\":\"x\"},\"y\":{\"field\":\"y\"}},\"id\":\"814f5d65-11fc-4250-ade8-ae813bcdbf07\",\"type\":\"Rect\"},{\"attributes\":{\"fill_alpha\":{\"field\":\"fill_alpha\"},\"fill_color\":{\"field\":\"color\"},\"height\":{\"field\":\"height\",\"units\":\"data\"},\"line_color\":{\"field\":\"line_color\"},\"width\":{\"field\":\"width\",\"units\":\"data\"},\"x\":{\"field\":\"x\"},\"y\":{\"field\":\"y\"}},\"id\":\"0132c5b5-43b9-4800-8a2a-284e743abc08\",\"type\":\"Rect\"},{\"attributes\":{\"data_source\":{\"id\":\"e7829e91-21e4-404f-a9a3-1cb818784578\",\"type\":\"ColumnDataSource\"},\"glyph\":{\"id\":\"5b802842-a8bf-41b2-b2cc-e2c4df1c628b\",\"type\":\"Rect\"},\"hover_glyph\":null,\"nonselection_glyph\":null,\"selection_glyph\":null},\"id\":\"89547e94-bcf0-4592-b579-b8a8ffb29162\",\"type\":\"GlyphRenderer\"},{\"attributes\":{},\"id\":\"2833b2b3-90e2-4077-baa3-a37d2b5c39e6\",\"type\":\"ToolEvents\"},{\"attributes\":{\"plot\":{\"id\":\"783f3516-7436-4487-bf06-df6f77f2c636\",\"subtype\":\"Chart\",\"type\":\"Plot\"}},\"id\":\"683c9724-b9d8-4516-adfc-cdbaed85ccb3\",\"type\":\"ResetTool\"},{\"attributes\":{\"data_source\":{\"id\":\"37e9a35b-89c8-4f19-bdfb-f5dcdca7713b\",\"type\":\"ColumnDataSource\"},\"glyph\":{\"id\":\"dccd0f2d-56a6-4459-8770-34dca0a9e3a1\",\"type\":\"Rect\"},\"hover_glyph\":null,\"nonselection_glyph\":null,\"selection_glyph\":null},\"id\":\"902f1b32-a7e0-4eca-be39-0d4920208dbe\",\"type\":\"GlyphRenderer\"},{\"attributes\":{\"data_source\":{\"id\":\"acad9656-490c-4f21-9812-9d96e50be9a8\",\"type\":\"ColumnDataSource\"},\"glyph\":{\"id\":\"042af80f-d26c-4daf-9513-c03f31671262\",\"type\":\"Rect\"},\"hover_glyph\":null,\"nonselection_glyph\":null,\"selection_glyph\":null},\"id\":\"1715bb9e-733d-48d2-b9dd-fd17802fd554\",\"type\":\"GlyphRenderer\"},{\"attributes\":{\"data_source\":{\"id\":\"5874f7a1-6e11-4a53-8278-7eb5628bc312\",\"type\":\"ColumnDataSource\"},\"glyph\":{\"id\":\"6d134357-cc99-4632-bb68-a69f516b93df\",\"type\":\"Rect\"},\"hover_glyph\":null,\"nonselection_glyph\":null,\"selection_glyph\":null},\"id\":\"fc0739b1-1d66-46de-8cae-0b3b1a00abb8\",\"type\":\"GlyphRenderer\"},{\"attributes\":{\"fill_alpha\":{\"field\":\"fill_alpha\"},\"fill_color\":{\"field\":\"color\"},\"height\":{\"field\":\"height\",\"units\":\"data\"},\"line_color\":{\"field\":\"line_color\"},\"width\":{\"field\":\"width\",\"units\":\"data\"},\"x\":{\"field\":\"x\"},\"y\":{\"field\":\"y\"}},\"id\":\"3f62a9f6-a980-4907-9512-6df5184ff33b\",\"type\":\"Rect\"},{\"attributes\":{\"fill_alpha\":{\"field\":\"fill_alpha\"},\"fill_color\":{\"field\":\"color\"},\"height\":{\"field\":\"height\",\"units\":\"data\"},\"line_color\":{\"field\":\"line_color\"},\"width\":{\"field\":\"width\",\"units\":\"data\"},\"x\":{\"field\":\"x\"},\"y\":{\"field\":\"y\"}},\"id\":\"07a9da79-d69b-4b9c-8b04-b588a2b5ad24\",\"type\":\"Rect\"},{\"attributes\":{\"fill_alpha\":{\"field\":\"fill_alpha\"},\"fill_color\":{\"field\":\"color\"},\"height\":{\"field\":\"height\",\"units\":\"data\"},\"line_color\":{\"field\":\"line_color\"},\"width\":{\"field\":\"width\",\"units\":\"data\"},\"x\":{\"field\":\"x\"},\"y\":{\"field\":\"y\"}},\"id\":\"a805b0f8-afde-4fa5-ad87-d0ee9f8aac78\",\"type\":\"Rect\"},{\"attributes\":{\"data_source\":{\"id\":\"9d2522e6-faf3-4dc6-b2bb-5bb3017d8986\",\"type\":\"ColumnDataSource\"},\"glyph\":{\"id\":\"a805b0f8-afde-4fa5-ad87-d0ee9f8aac78\",\"type\":\"Rect\"},\"hover_glyph\":null,\"nonselection_glyph\":null,\"selection_glyph\":null},\"id\":\"1826b31f-7f1a-4a3e-9074-e1fcc562e7d4\",\"type\":\"GlyphRenderer\"},{\"attributes\":{\"callback\":null,\"column_names\":[\"label\",\"width\",\"fill_alpha\",\"line_color\",\"height\",\"y\",\"color\",\"line_alpha\",\"x\"],\"data\":{\"chart_index\":[\"(78.066667, 79.000000]\"],\"color\":[\"#5ab738\"],\"fill_alpha\":[0.6],\"height\":[1.0],\"label\":[\"(78.066667, 79.000000]\"],\"line_alpha\":[1.0],\"line_color\":[\"black\"],\"width\":[0.9333333333333371],\"x\":[\"78.5333335\"],\"y\":[0.5]}},\"id\":\"acad9656-490c-4f21-9812-9d96e50be9a8\",\"type\":\"ColumnDataSource\"},{\"attributes\":{},\"id\":\"f06b8e70-1db6-477d-9f3d-e0cacd562da5\",\"type\":\"BasicTicker\"},{\"attributes\":{\"callback\":null,\"column_names\":[\"label\",\"width\",\"fill_alpha\",\"line_color\",\"height\",\"y\",\"color\",\"line_alpha\",\"x\"],\"data\":{\"chart_index\":[\"(73.400000, 74.333333]\"],\"color\":[\"#5ab738\"],\"fill_alpha\":[0.6],\"height\":[13.0],\"label\":[\"(73.400000, 74.333333]\"],\"line_alpha\":[1.0],\"line_color\":[\"black\"],\"width\":[0.9333333333333229],\"x\":[\"73.86666650000001\"],\"y\":[6.5]}},\"id\":\"5545efde-9208-4944-8005-383b6e30201a\",\"type\":\"ColumnDataSource\"},{\"attributes\":{\"callback\":null,\"column_names\":[\"label\",\"width\",\"fill_alpha\",\"line_color\",\"height\",\"y\",\"color\",\"line_alpha\",\"x\"],\"data\":{\"chart_index\":[\"[60.000000, 60.800000]\"],\"color\":[\"#f22c40\"],\"fill_alpha\":[0.6],\"height\":[2.0],\"label\":[\"[60.000000, 60.800000]\"],\"line_alpha\":[1.0],\"line_color\":[\"black\"],\"width\":[0.7999999999999972],\"x\":[\"60.4\"],\"y\":[1.0]}},\"id\":\"1284598e-42f6-452d-9761-fe42b6fcf004\",\"type\":\"ColumnDataSource\"},{\"attributes\":{\"plot\":{\"id\":\"783f3516-7436-4487-bf06-df6f77f2c636\",\"subtype\":\"Chart\",\"type\":\"Plot\"}},\"id\":\"da3aceae-cb3d-45aa-af03-0bf572237eda\",\"type\":\"SaveTool\"},{\"attributes\":{\"callback\":null,\"column_names\":[\"label\",\"width\",\"fill_alpha\",\"line_color\",\"height\",\"y\",\"color\",\"line_alpha\",\"x\"],\"data\":{\"chart_index\":[\"(69.666667, 70.600000]\"],\"color\":[\"#5ab738\"],\"fill_alpha\":[0.6],\"height\":[5.0],\"label\":[\"(69.666667, 70.600000]\"],\"line_alpha\":[1.0],\"line_color\":[\"black\"],\"width\":[0.9333333333333229],\"x\":[\"70.13333349999999\"],\"y\":[2.5]}},\"id\":\"9d2522e6-faf3-4dc6-b2bb-5bb3017d8986\",\"type\":\"ColumnDataSource\"},{\"attributes\":{\"callback\":null,\"column_names\":[\"label\",\"width\",\"fill_alpha\",\"line_color\",\"height\",\"y\",\"color\",\"line_alpha\",\"x\"],\"data\":{\"chart_index\":[\"(68.800000, 69.600000]\"],\"color\":[\"#f22c40\"],\"fill_alpha\":[0.6],\"height\":[5.0],\"label\":[\"(68.800000, 69.600000]\"],\"line_alpha\":[1.0],\"line_color\":[\"black\"],\"width\":[0.7999999999999972],\"x\":[\"69.19999999999999\"],\"y\":[2.5]}},\"id\":\"1a9dac9f-73dc-49d9-851e-a9577d786b2e\",\"type\":\"ColumnDataSource\"},{\"attributes\":{\"data_source\":{\"id\":\"2f80d5d1-8a56-4f35-bbc3-7692f025e11d\",\"type\":\"ColumnDataSource\"},\"glyph\":{\"id\":\"07a9da79-d69b-4b9c-8b04-b588a2b5ad24\",\"type\":\"Rect\"},\"hover_glyph\":null,\"nonselection_glyph\":null,\"selection_glyph\":null},\"id\":\"57c70cea-d2cf-4c3d-b7d4-16b8728c5401\",\"type\":\"GlyphRenderer\"},{\"attributes\":{\"fill_alpha\":{\"field\":\"fill_alpha\"},\"fill_color\":{\"field\":\"color\"},\"height\":{\"field\":\"height\",\"units\":\"data\"},\"line_color\":{\"field\":\"line_color\"},\"width\":{\"field\":\"width\",\"units\":\"data\"},\"x\":{\"field\":\"x\"},\"y\":{\"field\":\"y\"}},\"id\":\"042af80f-d26c-4daf-9513-c03f31671262\",\"type\":\"Rect\"},{\"attributes\":{\"data_source\":{\"id\":\"870e4d18-ddb5-4a85-ab2a-1ebbea23819f\",\"type\":\"ColumnDataSource\"},\"glyph\":{\"id\":\"ebaf46b1-9e87-42a3-b38d-98e6de69e2ff\",\"type\":\"Rect\"},\"hover_glyph\":null,\"nonselection_glyph\":null,\"selection_glyph\":null},\"id\":\"bc21bd45-4bb9-4dc9-9784-70dce14d62c4\",\"type\":\"GlyphRenderer\"},{\"attributes\":{\"data_source\":{\"id\":\"81814fe5-4086-4c36-afae-704ec8515931\",\"type\":\"ColumnDataSource\"},\"glyph\":{\"id\":\"2c3e15c6-3360-4a35-8d1f-ee8824879cbb\",\"type\":\"Rect\"},\"hover_glyph\":null,\"nonselection_glyph\":null,\"selection_glyph\":null},\"id\":\"197a1267-c7f9-443d-8a68-aeda3f09b0ed\",\"type\":\"GlyphRenderer\"},{\"attributes\":{\"data_source\":{\"id\":\"05de33b4-c3e5-4e91-b4f4-27f9b29b9e32\",\"type\":\"ColumnDataSource\"},\"glyph\":{\"id\":\"25539568-6bbe-4b22-a01c-813ce8cd8802\",\"type\":\"Rect\"},\"hover_glyph\":null,\"nonselection_glyph\":null,\"selection_glyph\":null},\"id\":\"8eac5782-bc4c-4b54-92b6-f3cd78656739\",\"type\":\"GlyphRenderer\"},{\"attributes\":{\"data_source\":{\"id\":\"62495c87-f2a3-4e61-b5ea-0441a8dfe1b7\",\"type\":\"ColumnDataSource\"},\"glyph\":{\"id\":\"a18fe048-d5ce-412d-85ff-8f328447f76e\",\"type\":\"Rect\"},\"hover_glyph\":null,\"nonselection_glyph\":null,\"selection_glyph\":null},\"id\":\"833f02df-92de-4655-b234-66830a146dc6\",\"type\":\"GlyphRenderer\"},{\"attributes\":{},\"id\":\"f69eb0bc-de3a-40ca-81c7-cd217ae70ba9\",\"type\":\"BasicTickFormatter\"},{\"attributes\":{\"callback\":null,\"column_names\":[\"label\",\"width\",\"fill_alpha\",\"line_color\",\"height\",\"y\",\"color\",\"line_alpha\",\"x\"],\"data\":{\"chart_index\":[\"(67.200000, 68.000000]\"],\"color\":[\"#f22c40\"],\"fill_alpha\":[0.6],\"height\":[0.0],\"label\":[\"(67.200000, 68.000000]\"],\"line_alpha\":[1.0],\"line_color\":[\"black\"],\"width\":[0.7999999999999972],\"x\":[\"67.6\"],\"y\":[0.0]}},\"id\":\"37e9a35b-89c8-4f19-bdfb-f5dcdca7713b\",\"type\":\"ColumnDataSource\"},{\"attributes\":{\"callback\":null,\"column_names\":[\"label\",\"width\",\"fill_alpha\",\"line_color\",\"height\",\"y\",\"color\",\"line_alpha\",\"x\"],\"data\":{\"chart_index\":[\"(76.200000, 77.133333]\"],\"color\":[\"#5ab738\"],\"fill_alpha\":[0.6],\"height\":[1.0],\"label\":[\"(76.200000, 77.133333]\"],\"line_alpha\":[1.0],\"line_color\":[\"black\"],\"width\":[0.9333333333333229],\"x\":[\"76.66666649999999\"],\"y\":[0.5]}},\"id\":\"27e95018-adfd-419d-95f5-b86e6e3a25a2\",\"type\":\"ColumnDataSource\"},{\"attributes\":{\"callback\":null,\"column_names\":[\"label\",\"width\",\"fill_alpha\",\"line_color\",\"height\",\"y\",\"color\",\"line_alpha\",\"x\"],\"data\":{\"chart_index\":[\"(70.400000, 71.200000]\"],\"color\":[\"#f22c40\"],\"fill_alpha\":[0.6],\"height\":[1.0],\"label\":[\"(70.400000, 71.200000]\"],\"line_alpha\":[1.0],\"line_color\":[\"black\"],\"width\":[0.7999999999999972],\"x\":[\"70.80000000000001\"],\"y\":[0.5]}},\"id\":\"98fcaf42-e497-4776-bcba-0abecb5afe3b\",\"type\":\"ColumnDataSource\"},{\"attributes\":{\"data_source\":{\"id\":\"f719812f-ae38-4fd2-bb2a-2da3b18c4251\",\"type\":\"ColumnDataSource\"},\"glyph\":{\"id\":\"b6ae6aa7-9ee9-4b2c-8a1a-daf2fdc13100\",\"type\":\"Rect\"},\"hover_glyph\":null,\"nonselection_glyph\":null,\"selection_glyph\":null},\"id\":\"1357ae82-9f0a-4eaf-a7c7-da6894fe4ab8\",\"type\":\"GlyphRenderer\"},{\"attributes\":{\"callback\":null,\"column_names\":[\"label\",\"width\",\"fill_alpha\",\"line_color\",\"height\",\"y\",\"color\",\"line_alpha\",\"x\"],\"data\":{\"chart_index\":[\"(62.400000, 63.200000]\"],\"color\":[\"#f22c40\"],\"fill_alpha\":[0.6],\"height\":[2.0],\"label\":[\"(62.400000, 63.200000]\"],\"line_alpha\":[1.0],\"line_color\":[\"black\"],\"width\":[0.8000000000000043],\"x\":[\"62.8\"],\"y\":[1.0]}},\"id\":\"e7829e91-21e4-404f-a9a3-1cb818784578\",\"type\":\"ColumnDataSource\"},{\"attributes\":{\"fill_alpha\":{\"field\":\"fill_alpha\"},\"fill_color\":{\"field\":\"color\"},\"height\":{\"field\":\"height\",\"units\":\"data\"},\"line_color\":{\"field\":\"line_color\"},\"width\":{\"field\":\"width\",\"units\":\"data\"},\"x\":{\"field\":\"x\"},\"y\":{\"field\":\"y\"}},\"id\":\"a6017a40-8645-456a-8417-95c5593386c3\",\"type\":\"Rect\"},{\"attributes\":{\"data_source\":{\"id\":\"1a9dac9f-73dc-49d9-851e-a9577d786b2e\",\"type\":\"ColumnDataSource\"},\"glyph\":{\"id\":\"f9e15c26-b53a-49fc-b306-d8b60882f5aa\",\"type\":\"Rect\"},\"hover_glyph\":null,\"nonselection_glyph\":null,\"selection_glyph\":null},\"id\":\"2c387d07-8ef9-4d9e-bf37-6609d1833a23\",\"type\":\"GlyphRenderer\"},{\"attributes\":{\"below\":[{\"id\":\"7ffd80d1-e932-4ce6-b584-e0a5cc1f6d15\",\"type\":\"LinearAxis\"}],\"css_classes\":null,\"height\":480,\"left\":[{\"id\":\"8ec21171-af52-492b-b002-801a1d29c2d2\",\"type\":\"LinearAxis\"}],\"renderers\":[{\"id\":\"fe3b517e-ce20-467f-bd0c-81000fe21a33\",\"type\":\"BoxAnnotation\"},{\"id\":\"a9291480-9e9d-4e6e-b6b5-bb0e771df70b\",\"type\":\"GlyphRenderer\"},{\"id\":\"91f24bf0-4179-46f9-8cb9-b48b12ffeeb4\",\"type\":\"GlyphRenderer\"},{\"id\":\"9b70b5c5-2847-4153-b877-10f026c1fc72\",\"type\":\"GlyphRenderer\"},{\"id\":\"89547e94-bcf0-4592-b579-b8a8ffb29162\",\"type\":\"GlyphRenderer\"},{\"id\":\"1b408752-c1f1-44f0-a67d-da442f66d0ce\",\"type\":\"GlyphRenderer\"},{\"id\":\"197a1267-c7f9-443d-8a68-aeda3f09b0ed\",\"type\":\"GlyphRenderer\"},{\"id\":\"c6b0e2ea-4f9b-471e-a3dd-4fa45819463f\",\"type\":\"GlyphRenderer\"},{\"id\":\"8d883f48-e247-42d2-9a57-e6841f706996\",\"type\":\"GlyphRenderer\"},{\"id\":\"e37a97a4-4804-4a38-96b5-f97c48eec29d\",\"type\":\"GlyphRenderer\"},{\"id\":\"902f1b32-a7e0-4eca-be39-0d4920208dbe\",\"type\":\"GlyphRenderer\"},{\"id\":\"8eac5782-bc4c-4b54-92b6-f3cd78656739\",\"type\":\"GlyphRenderer\"},{\"id\":\"2c387d07-8ef9-4d9e-bf37-6609d1833a23\",\"type\":\"GlyphRenderer\"},{\"id\":\"57c70cea-d2cf-4c3d-b7d4-16b8728c5401\",\"type\":\"GlyphRenderer\"},{\"id\":\"24ae318b-8358-46c3-9ac3-4ed1f0845c8f\",\"type\":\"GlyphRenderer\"},{\"id\":\"d0870c2e-54e9-4edd-89ee-ec639f6d10be\",\"type\":\"GlyphRenderer\"},{\"id\":\"ea8456b8-2701-494f-a7ea-411d3e6af3df\",\"type\":\"GlyphRenderer\"},{\"id\":\"fc0739b1-1d66-46de-8cae-0b3b1a00abb8\",\"type\":\"GlyphRenderer\"},{\"id\":\"0710bc89-fbff-463b-921b-8ada2ba87436\",\"type\":\"GlyphRenderer\"},{\"id\":\"022a06e9-fb80-42a9-9444-2bf3b4a65844\",\"type\":\"GlyphRenderer\"},{\"id\":\"1357ae82-9f0a-4eaf-a7c7-da6894fe4ab8\",\"type\":\"GlyphRenderer\"},{\"id\":\"1826b31f-7f1a-4a3e-9074-e1fcc562e7d4\",\"type\":\"GlyphRenderer\"},{\"id\":\"fcf8be38-2671-4681-903b-e48a01abe9e1\",\"type\":\"GlyphRenderer\"},{\"id\":\"dbfa8027-ee4b-48f8-9ab4-234dd9b5442b\",\"type\":\"GlyphRenderer\"},{\"id\":\"1206ef41-97a7-4ecf-9451-2dff134fa8f9\",\"type\":\"GlyphRenderer\"},{\"id\":\"847407cd-547f-40c1-9515-5f1d6da26e0c\",\"type\":\"GlyphRenderer\"},{\"id\":\"55368871-5cf7-4e9c-be6b-87d0e304fb24\",\"type\":\"GlyphRenderer\"},{\"id\":\"833f02df-92de-4655-b234-66830a146dc6\",\"type\":\"GlyphRenderer\"},{\"id\":\"c575a117-4618-4cf9-9ebb-b93c74956077\",\"type\":\"GlyphRenderer\"},{\"id\":\"bc21bd45-4bb9-4dc9-9784-70dce14d62c4\",\"type\":\"GlyphRenderer\"},{\"id\":\"1715bb9e-733d-48d2-b9dd-fd17802fd554\",\"type\":\"GlyphRenderer\"},{\"id\":\"4026855a-f0be-40c2-8fe7-c7eb166da3bc\",\"type\":\"Legend\"},{\"id\":\"7ffd80d1-e932-4ce6-b584-e0a5cc1f6d15\",\"type\":\"LinearAxis\"},{\"id\":\"8ec21171-af52-492b-b002-801a1d29c2d2\",\"type\":\"LinearAxis\"},{\"id\":\"e3f48f8e-d5f3-4156-9d41-71351a0f55f3\",\"type\":\"Grid\"}],\"title\":{\"id\":\"83220b97-7f5a-4204-86ec-ffaa8d493ccd\",\"type\":\"Title\"},\"tool_events\":{\"id\":\"2833b2b3-90e2-4077-baa3-a37d2b5c39e6\",\"type\":\"ToolEvents\"},\"toolbar\":{\"id\":\"291f536a-dd38-405f-ad7e-f403cd83b27b\",\"type\":\"Toolbar\"},\"width\":480,\"x_mapper_type\":\"auto\",\"x_range\":{\"id\":\"31261f48-f724-42bd-8b4e-f149f67d6f9f\",\"type\":\"Range1d\"},\"y_mapper_type\":\"auto\",\"y_range\":{\"id\":\"2e2acab3-350c-42de-9c80-737f6a87a0e1\",\"type\":\"Range1d\"}},\"id\":\"783f3516-7436-4487-bf06-df6f77f2c636\",\"subtype\":\"Chart\",\"type\":\"Plot\"},{\"attributes\":{\"fill_alpha\":{\"field\":\"fill_alpha\"},\"fill_color\":{\"field\":\"color\"},\"height\":{\"field\":\"height\",\"units\":\"data\"},\"line_color\":{\"field\":\"line_color\"},\"width\":{\"field\":\"width\",\"units\":\"data\"},\"x\":{\"field\":\"x\"},\"y\":{\"field\":\"y\"}},\"id\":\"fbf5e747-619e-4208-8a0d-f4d0763ecc15\",\"type\":\"Rect\"},{\"attributes\":{\"callback\":null,\"column_names\":[\"label\",\"width\",\"fill_alpha\",\"line_color\",\"height\",\"y\",\"color\",\"line_alpha\",\"x\"],\"data\":{\"chart_index\":[\"(60.800000, 61.600000]\"],\"color\":[\"#f22c40\"],\"fill_alpha\":[0.6],\"height\":[3.0],\"label\":[\"(60.800000, 61.600000]\"],\"line_alpha\":[1.0],\"line_color\":[\"black\"],\"width\":[0.8000000000000043],\"x\":[\"61.2\"],\"y\":[1.5]}},\"id\":\"67bfc9f5-35d5-4ab1-b6b0-4eee780d852c\",\"type\":\"ColumnDataSource\"},{\"attributes\":{\"callback\":null,\"column_names\":[\"label\",\"width\",\"fill_alpha\",\"line_color\",\"height\",\"y\",\"color\",\"line_alpha\",\"x\"],\"data\":{\"chart_index\":[\"(77.133333, 78.066667]\"],\"color\":[\"#5ab738\"],\"fill_alpha\":[0.6],\"height\":[0.0],\"label\":[\"(77.133333, 78.066667]\"],\"line_alpha\":[1.0],\"line_color\":[\"black\"],\"width\":[0.9333333333333371],\"x\":[\"77.6\"],\"y\":[0.0]}},\"id\":\"870e4d18-ddb5-4a85-ab2a-1ebbea23819f\",\"type\":\"ColumnDataSource\"},{\"attributes\":{\"callback\":null,\"column_names\":[\"label\",\"width\",\"fill_alpha\",\"line_color\",\"height\",\"y\",\"color\",\"line_alpha\",\"x\"],\"data\":{\"chart_index\":[\"(68.000000, 68.800000]\"],\"color\":[\"#f22c40\"],\"fill_alpha\":[0.6],\"height\":[6.0],\"label\":[\"(68.000000, 68.800000]\"],\"line_alpha\":[1.0],\"line_color\":[\"black\"],\"width\":[0.7999999999999972],\"x\":[\"68.4\"],\"y\":[3.0]}},\"id\":\"05de33b4-c3e5-4e91-b4f4-27f9b29b9e32\",\"type\":\"ColumnDataSource\"},{\"attributes\":{\"label\":{\"value\":\"1\"},\"renderers\":[{\"id\":\"a9291480-9e9d-4e6e-b6b5-bb0e771df70b\",\"type\":\"GlyphRenderer\"},{\"id\":\"91f24bf0-4179-46f9-8cb9-b48b12ffeeb4\",\"type\":\"GlyphRenderer\"},{\"id\":\"9b70b5c5-2847-4153-b877-10f026c1fc72\",\"type\":\"GlyphRenderer\"},{\"id\":\"89547e94-bcf0-4592-b579-b8a8ffb29162\",\"type\":\"GlyphRenderer\"},{\"id\":\"1b408752-c1f1-44f0-a67d-da442f66d0ce\",\"type\":\"GlyphRenderer\"},{\"id\":\"197a1267-c7f9-443d-8a68-aeda3f09b0ed\",\"type\":\"GlyphRenderer\"},{\"id\":\"c6b0e2ea-4f9b-471e-a3dd-4fa45819463f\",\"type\":\"GlyphRenderer\"},{\"id\":\"8d883f48-e247-42d2-9a57-e6841f706996\",\"type\":\"GlyphRenderer\"},{\"id\":\"e37a97a4-4804-4a38-96b5-f97c48eec29d\",\"type\":\"GlyphRenderer\"},{\"id\":\"902f1b32-a7e0-4eca-be39-0d4920208dbe\",\"type\":\"GlyphRenderer\"},{\"id\":\"8eac5782-bc4c-4b54-92b6-f3cd78656739\",\"type\":\"GlyphRenderer\"},{\"id\":\"2c387d07-8ef9-4d9e-bf37-6609d1833a23\",\"type\":\"GlyphRenderer\"},{\"id\":\"57c70cea-d2cf-4c3d-b7d4-16b8728c5401\",\"type\":\"GlyphRenderer\"},{\"id\":\"24ae318b-8358-46c3-9ac3-4ed1f0845c8f\",\"type\":\"GlyphRenderer\"},{\"id\":\"d0870c2e-54e9-4edd-89ee-ec639f6d10be\",\"type\":\"GlyphRenderer\"}]},\"id\":\"bb22d9b6-d7ab-4a3c-b369-bfa4fac257c4\",\"type\":\"LegendItem\"},{\"attributes\":{\"fill_alpha\":{\"field\":\"fill_alpha\"},\"fill_color\":{\"field\":\"color\"},\"height\":{\"field\":\"height\",\"units\":\"data\"},\"line_color\":{\"field\":\"line_color\"},\"width\":{\"field\":\"width\",\"units\":\"data\"},\"x\":{\"field\":\"x\"},\"y\":{\"field\":\"y\"}},\"id\":\"5bc5b121-618c-4102-b50b-5ec15b3dd4b9\",\"type\":\"Rect\"},{\"attributes\":{\"callback\":null,\"column_names\":[\"label\",\"width\",\"fill_alpha\",\"line_color\",\"height\",\"y\",\"color\",\"line_alpha\",\"x\"],\"data\":{\"chart_index\":[\"[65.000000, 65.933333]\"],\"color\":[\"#5ab738\"],\"fill_alpha\":[0.6],\"height\":[1.0],\"label\":[\"[65.000000, 65.933333]\"],\"line_alpha\":[1.0],\"line_color\":[\"black\"],\"width\":[0.9333333333333371],\"x\":[\"65.4666665\"],\"y\":[0.5]}},\"id\":\"8f46cb54-011b-4e19-83d2-e490bdfdb3be\",\"type\":\"ColumnDataSource\"},{\"attributes\":{\"data_source\":{\"id\":\"8f46cb54-011b-4e19-83d2-e490bdfdb3be\",\"type\":\"ColumnDataSource\"},\"glyph\":{\"id\":\"f686f3b1-cb16-436c-b98d-acd943b1a358\",\"type\":\"Rect\"},\"hover_glyph\":null,\"nonselection_glyph\":null,\"selection_glyph\":null},\"id\":\"ea8456b8-2701-494f-a7ea-411d3e6af3df\",\"type\":\"GlyphRenderer\"},{\"attributes\":{\"data_source\":{\"id\":\"ee4caecb-e057-44e1-9307-776a1ad49ddb\",\"type\":\"ColumnDataSource\"},\"glyph\":{\"id\":\"64785c46-78a5-48b8-b59d-abe4474e25e3\",\"type\":\"Rect\"},\"hover_glyph\":null,\"nonselection_glyph\":null,\"selection_glyph\":null},\"id\":\"fcf8be38-2671-4681-903b-e48a01abe9e1\",\"type\":\"GlyphRenderer\"},{\"attributes\":{},\"id\":\"9c70ac4f-08b9-41c0-a453-bcafa2efeb03\",\"type\":\"BasicTicker\"},{\"attributes\":{\"fill_alpha\":{\"field\":\"fill_alpha\"},\"fill_color\":{\"field\":\"color\"},\"height\":{\"field\":\"height\",\"units\":\"data\"},\"line_color\":{\"field\":\"line_color\"},\"width\":{\"field\":\"width\",\"units\":\"data\"},\"x\":{\"field\":\"x\"},\"y\":{\"field\":\"y\"}},\"id\":\"ac78d8e0-bedc-457f-8254-bd23c5943148\",\"type\":\"Rect\"},{\"attributes\":{\"fill_alpha\":{\"field\":\"fill_alpha\"},\"fill_color\":{\"field\":\"color\"},\"height\":{\"field\":\"height\",\"units\":\"data\"},\"line_color\":{\"field\":\"line_color\"},\"width\":{\"field\":\"width\",\"units\":\"data\"},\"x\":{\"field\":\"x\"},\"y\":{\"field\":\"y\"}},\"id\":\"5b802842-a8bf-41b2-b2cc-e2c4df1c628b\",\"type\":\"Rect\"},{\"attributes\":{\"fill_alpha\":{\"field\":\"fill_alpha\"},\"fill_color\":{\"field\":\"color\"},\"height\":{\"field\":\"height\",\"units\":\"data\"},\"line_color\":{\"field\":\"line_color\"},\"width\":{\"field\":\"width\",\"units\":\"data\"},\"x\":{\"field\":\"x\"},\"y\":{\"field\":\"y\"}},\"id\":\"b6ae6aa7-9ee9-4b2c-8a1a-daf2fdc13100\",\"type\":\"Rect\"},{\"attributes\":{\"data_source\":{\"id\":\"1284598e-42f6-452d-9761-fe42b6fcf004\",\"type\":\"ColumnDataSource\"},\"glyph\":{\"id\":\"0132c5b5-43b9-4800-8a2a-284e743abc08\",\"type\":\"Rect\"},\"hover_glyph\":null,\"nonselection_glyph\":null,\"selection_glyph\":null},\"id\":\"a9291480-9e9d-4e6e-b6b5-bb0e771df70b\",\"type\":\"GlyphRenderer\"},{\"attributes\":{\"callback\":null,\"column_names\":[\"label\",\"width\",\"fill_alpha\",\"line_color\",\"height\",\"y\",\"color\",\"line_alpha\",\"x\"],\"data\":{\"chart_index\":[\"(66.866667, 67.800000]\"],\"color\":[\"#5ab738\"],\"fill_alpha\":[0.6],\"height\":[1.0],\"label\":[\"(66.866667, 67.800000]\"],\"line_alpha\":[1.0],\"line_color\":[\"black\"],\"width\":[0.9333333333333371],\"x\":[\"67.33333350000001\"],\"y\":[0.5]}},\"id\":\"85d8649c-cca9-4da0-8af4-947e36785a0b\",\"type\":\"ColumnDataSource\"},{\"attributes\":{\"fill_alpha\":{\"field\":\"fill_alpha\"},\"fill_color\":{\"field\":\"color\"},\"height\":{\"field\":\"height\",\"units\":\"data\"},\"line_color\":{\"field\":\"line_color\"},\"width\":{\"field\":\"width\",\"units\":\"data\"},\"x\":{\"field\":\"x\"},\"y\":{\"field\":\"y\"}},\"id\":\"f686f3b1-cb16-436c-b98d-acd943b1a358\",\"type\":\"Rect\"},{\"attributes\":{\"callback\":null,\"column_names\":[\"label\",\"width\",\"fill_alpha\",\"line_color\",\"height\",\"y\",\"color\",\"line_alpha\",\"x\"],\"data\":{\"chart_index\":[\"(65.933333, 66.866667]\"],\"color\":[\"#5ab738\"],\"fill_alpha\":[0.6],\"height\":[0.0],\"label\":[\"(65.933333, 66.866667]\"],\"line_alpha\":[1.0],\"line_color\":[\"black\"],\"width\":[0.9333333333333229],\"x\":[\"66.4\"],\"y\":[0.0]}},\"id\":\"5874f7a1-6e11-4a53-8278-7eb5628bc312\",\"type\":\"ColumnDataSource\"},{\"attributes\":{\"callback\":null,\"column_names\":[\"label\",\"width\",\"fill_alpha\",\"line_color\",\"height\",\"y\",\"color\",\"line_alpha\",\"x\"],\"data\":{\"chart_index\":[\"(65.600000, 66.400000]\"],\"color\":[\"#f22c40\"],\"fill_alpha\":[0.6],\"height\":[6.0],\"label\":[\"(65.600000, 66.400000]\"],\"line_alpha\":[1.0],\"line_color\":[\"black\"],\"width\":[0.8000000000000114],\"x\":[\"66.0\"],\"y\":[3.0]}},\"id\":\"edae8dd9-405c-4aa8-90f5-1beb64c384b0\",\"type\":\"ColumnDataSource\"},{\"attributes\":{\"bottom_units\":\"screen\",\"fill_alpha\":{\"value\":0.5},\"fill_color\":{\"value\":\"lightgrey\"},\"left_units\":\"screen\",\"level\":\"overlay\",\"line_alpha\":{\"value\":1.0},\"line_color\":{\"value\":\"black\"},\"line_dash\":[4,4],\"line_width\":{\"value\":2},\"plot\":null,\"render_mode\":\"css\",\"right_units\":\"screen\",\"top_units\":\"screen\"},\"id\":\"fe3b517e-ce20-467f-bd0c-81000fe21a33\",\"type\":\"BoxAnnotation\"},{\"attributes\":{\"fill_alpha\":{\"field\":\"fill_alpha\"},\"fill_color\":{\"field\":\"color\"},\"height\":{\"field\":\"height\",\"units\":\"data\"},\"line_color\":{\"field\":\"line_color\"},\"width\":{\"field\":\"width\",\"units\":\"data\"},\"x\":{\"field\":\"x\"},\"y\":{\"field\":\"y\"}},\"id\":\"a18fe048-d5ce-412d-85ff-8f328447f76e\",\"type\":\"Rect\"},{\"attributes\":{\"callback\":null,\"column_names\":[\"label\",\"width\",\"fill_alpha\",\"line_color\",\"height\",\"y\",\"color\",\"line_alpha\",\"x\"],\"data\":{\"chart_index\":[\"(71.533333, 72.466667]\"],\"color\":[\"#5ab738\"],\"fill_alpha\":[0.6],\"height\":[8.0],\"label\":[\"(71.533333, 72.466667]\"],\"line_alpha\":[1.0],\"line_color\":[\"black\"],\"width\":[0.9333333333333371],\"x\":[\"72.0\"],\"y\":[4.0]}},\"id\":\"ff6501a4-904b-4727-8330-879e6ae36a06\",\"type\":\"ColumnDataSource\"},{\"attributes\":{\"data_source\":{\"id\":\"27e95018-adfd-419d-95f5-b86e6e3a25a2\",\"type\":\"ColumnDataSource\"},\"glyph\":{\"id\":\"4e0ea810-d0a6-4c81-9873-30173bd858eb\",\"type\":\"Rect\"},\"hover_glyph\":null,\"nonselection_glyph\":null,\"selection_glyph\":null},\"id\":\"c575a117-4618-4cf9-9ebb-b93c74956077\",\"type\":\"GlyphRenderer\"},{\"attributes\":{\"callback\":null,\"column_names\":[\"label\",\"width\",\"fill_alpha\",\"line_color\",\"height\",\"y\",\"color\",\"line_alpha\",\"x\"],\"data\":{\"chart_index\":[\"(68.733333, 69.666667]\"],\"color\":[\"#5ab738\"],\"fill_alpha\":[0.6],\"height\":[4.0],\"label\":[\"(68.733333, 69.666667]\"],\"line_alpha\":[1.0],\"line_color\":[\"black\"],\"width\":[0.9333333333333371],\"x\":[\"69.2\"],\"y\":[2.0]}},\"id\":\"f719812f-ae38-4fd2-bb2a-2da3b18c4251\",\"type\":\"ColumnDataSource\"},{\"attributes\":{\"callback\":null,\"column_names\":[\"label\",\"width\",\"fill_alpha\",\"line_color\",\"height\",\"y\",\"color\",\"line_alpha\",\"x\"],\"data\":{\"chart_index\":[\"(66.400000, 67.200000]\"],\"color\":[\"#f22c40\"],\"fill_alpha\":[0.6],\"height\":[12.0],\"label\":[\"(66.400000, 67.200000]\"],\"line_alpha\":[1.0],\"line_color\":[\"black\"],\"width\":[0.7999999999999972],\"x\":[\"66.80000000000001\"],\"y\":[6.0]}},\"id\":\"3e8d9b22-bba7-4a96-96c1-f6c96277531b\",\"type\":\"ColumnDataSource\"},{\"attributes\":{\"callback\":null,\"column_names\":[\"label\",\"width\",\"fill_alpha\",\"line_color\",\"height\",\"y\",\"color\",\"line_alpha\",\"x\"],\"data\":{\"chart_index\":[\"(64.800000, 65.600000]\"],\"color\":[\"#f22c40\"],\"fill_alpha\":[0.6],\"height\":[3.0],\"label\":[\"(64.800000, 65.600000]\"],\"line_alpha\":[1.0],\"line_color\":[\"black\"],\"width\":[0.7999999999999972],\"x\":[\"65.19999999999999\"],\"y\":[1.5]}},\"id\":\"dfb865c2-bea6-415c-99bd-ee5902bad514\",\"type\":\"ColumnDataSource\"},{\"attributes\":{\"fill_alpha\":{\"field\":\"fill_alpha\"},\"fill_color\":{\"field\":\"color\"},\"height\":{\"field\":\"height\",\"units\":\"data\"},\"line_color\":{\"field\":\"line_color\"},\"width\":{\"field\":\"width\",\"units\":\"data\"},\"x\":{\"field\":\"x\"},\"y\":{\"field\":\"y\"}},\"id\":\"c091a370-0559-4a60-84c8-8a55244186cf\",\"type\":\"Rect\"},{\"attributes\":{\"plot\":{\"id\":\"783f3516-7436-4487-bf06-df6f77f2c636\",\"subtype\":\"Chart\",\"type\":\"Plot\"}},\"id\":\"120a2f76-cee1-4e1b-8505-232b635ccb02\",\"type\":\"WheelZoomTool\"},{\"attributes\":{\"plot\":null,\"text\":\"Female / Male height distribution in inches\"},\"id\":\"83220b97-7f5a-4204-86ec-ffaa8d493ccd\",\"type\":\"Title\"},{\"attributes\":{\"axis_label\":\"Count( Height )\",\"formatter\":{\"id\":\"0aaa45f7-d386-4bb1-8f4c-b6ed68f0ce1a\",\"type\":\"BasicTickFormatter\"},\"plot\":{\"id\":\"783f3516-7436-4487-bf06-df6f77f2c636\",\"subtype\":\"Chart\",\"type\":\"Plot\"},\"ticker\":{\"id\":\"f06b8e70-1db6-477d-9f3d-e0cacd562da5\",\"type\":\"BasicTicker\"}},\"id\":\"8ec21171-af52-492b-b002-801a1d29c2d2\",\"type\":\"LinearAxis\"},{\"attributes\":{},\"id\":\"0aaa45f7-d386-4bb1-8f4c-b6ed68f0ce1a\",\"type\":\"BasicTickFormatter\"},{\"attributes\":{\"fill_alpha\":{\"field\":\"fill_alpha\"},\"fill_color\":{\"field\":\"color\"},\"height\":{\"field\":\"height\",\"units\":\"data\"},\"line_color\":{\"field\":\"line_color\"},\"width\":{\"field\":\"width\",\"units\":\"data\"},\"x\":{\"field\":\"x\"},\"y\":{\"field\":\"y\"}},\"id\":\"2c3e15c6-3360-4a35-8d1f-ee8824879cbb\",\"type\":\"Rect\"},{\"attributes\":{\"data_source\":{\"id\":\"dfb865c2-bea6-415c-99bd-ee5902bad514\",\"type\":\"ColumnDataSource\"},\"glyph\":{\"id\":\"8828d0b1-2251-4a69-856b-fbc0ec5be047\",\"type\":\"Rect\"},\"hover_glyph\":null,\"nonselection_glyph\":null,\"selection_glyph\":null},\"id\":\"c6b0e2ea-4f9b-471e-a3dd-4fa45819463f\",\"type\":\"GlyphRenderer\"},{\"attributes\":{\"overlay\":{\"id\":\"fe3b517e-ce20-467f-bd0c-81000fe21a33\",\"type\":\"BoxAnnotation\"},\"plot\":{\"id\":\"783f3516-7436-4487-bf06-df6f77f2c636\",\"subtype\":\"Chart\",\"type\":\"Plot\"}},\"id\":\"11fdfb3f-7fbb-4f36-bd65-f44dfa8d9df1\",\"type\":\"BoxZoomTool\"},{\"attributes\":{\"callback\":null,\"column_names\":[\"label\",\"width\",\"fill_alpha\",\"line_color\",\"height\",\"y\",\"color\",\"line_alpha\",\"x\"],\"data\":{\"chart_index\":[\"(71.200000, 72.000000]\"],\"color\":[\"#f22c40\"],\"fill_alpha\":[0.6],\"height\":[2.0],\"label\":[\"(71.200000, 72.000000]\"],\"line_alpha\":[1.0],\"line_color\":[\"black\"],\"width\":[0.7999999999999972],\"x\":[\"71.6\"],\"y\":[1.0]}},\"id\":\"a2ad54fd-0500-4227-9807-74ffbf6bfac0\",\"type\":\"ColumnDataSource\"},{\"attributes\":{\"label\":{\"value\":\"2\"},\"renderers\":[{\"id\":\"ea8456b8-2701-494f-a7ea-411d3e6af3df\",\"type\":\"GlyphRenderer\"},{\"id\":\"fc0739b1-1d66-46de-8cae-0b3b1a00abb8\",\"type\":\"GlyphRenderer\"},{\"id\":\"0710bc89-fbff-463b-921b-8ada2ba87436\",\"type\":\"GlyphRenderer\"},{\"id\":\"022a06e9-fb80-42a9-9444-2bf3b4a65844\",\"type\":\"GlyphRenderer\"},{\"id\":\"1357ae82-9f0a-4eaf-a7c7-da6894fe4ab8\",\"type\":\"GlyphRenderer\"},{\"id\":\"1826b31f-7f1a-4a3e-9074-e1fcc562e7d4\",\"type\":\"GlyphRenderer\"},{\"id\":\"fcf8be38-2671-4681-903b-e48a01abe9e1\",\"type\":\"GlyphRenderer\"},{\"id\":\"dbfa8027-ee4b-48f8-9ab4-234dd9b5442b\",\"type\":\"GlyphRenderer\"},{\"id\":\"1206ef41-97a7-4ecf-9451-2dff134fa8f9\",\"type\":\"GlyphRenderer\"},{\"id\":\"847407cd-547f-40c1-9515-5f1d6da26e0c\",\"type\":\"GlyphRenderer\"},{\"id\":\"55368871-5cf7-4e9c-be6b-87d0e304fb24\",\"type\":\"GlyphRenderer\"},{\"id\":\"833f02df-92de-4655-b234-66830a146dc6\",\"type\":\"GlyphRenderer\"},{\"id\":\"c575a117-4618-4cf9-9ebb-b93c74956077\",\"type\":\"GlyphRenderer\"},{\"id\":\"bc21bd45-4bb9-4dc9-9784-70dce14d62c4\",\"type\":\"GlyphRenderer\"},{\"id\":\"1715bb9e-733d-48d2-b9dd-fd17802fd554\",\"type\":\"GlyphRenderer\"}]},\"id\":\"8a31e7d6-f3ce-4733-afd8-fc412f3f8c45\",\"type\":\"LegendItem\"},{\"attributes\":{\"fill_alpha\":{\"field\":\"fill_alpha\"},\"fill_color\":{\"field\":\"color\"},\"height\":{\"field\":\"height\",\"units\":\"data\"},\"line_color\":{\"field\":\"line_color\"},\"width\":{\"field\":\"width\",\"units\":\"data\"},\"x\":{\"field\":\"x\"},\"y\":{\"field\":\"y\"}},\"id\":\"f9e15c26-b53a-49fc-b306-d8b60882f5aa\",\"type\":\"Rect\"},{\"attributes\":{\"fill_alpha\":{\"field\":\"fill_alpha\"},\"fill_color\":{\"field\":\"color\"},\"height\":{\"field\":\"height\",\"units\":\"data\"},\"line_color\":{\"field\":\"line_color\"},\"width\":{\"field\":\"width\",\"units\":\"data\"},\"x\":{\"field\":\"x\"},\"y\":{\"field\":\"y\"}},\"id\":\"25539568-6bbe-4b22-a01c-813ce8cd8802\",\"type\":\"Rect\"},{\"attributes\":{\"fill_alpha\":{\"field\":\"fill_alpha\"},\"fill_color\":{\"field\":\"color\"},\"height\":{\"field\":\"height\",\"units\":\"data\"},\"line_color\":{\"field\":\"line_color\"},\"width\":{\"field\":\"width\",\"units\":\"data\"},\"x\":{\"field\":\"x\"},\"y\":{\"field\":\"y\"}},\"id\":\"8828d0b1-2251-4a69-856b-fbc0ec5be047\",\"type\":\"Rect\"},{\"attributes\":{\"fill_alpha\":{\"field\":\"fill_alpha\"},\"fill_color\":{\"field\":\"color\"},\"height\":{\"field\":\"height\",\"units\":\"data\"},\"line_color\":{\"field\":\"line_color\"},\"width\":{\"field\":\"width\",\"units\":\"data\"},\"x\":{\"field\":\"x\"},\"y\":{\"field\":\"y\"}},\"id\":\"5adcbdd3-98d5-4cb1-9460-09e3bc75684b\",\"type\":\"Rect\"},{\"attributes\":{\"plot\":{\"id\":\"783f3516-7436-4487-bf06-df6f77f2c636\",\"subtype\":\"Chart\",\"type\":\"Plot\"}},\"id\":\"5e43ff5a-3d95-412f-b2cc-f5ac31f4e88d\",\"type\":\"HelpTool\"},{\"attributes\":{\"callback\":null,\"column_names\":[\"label\",\"width\",\"fill_alpha\",\"line_color\",\"height\",\"y\",\"color\",\"line_alpha\",\"x\"],\"data\":{\"chart_index\":[\"(67.800000, 68.733333]\"],\"color\":[\"#5ab738\"],\"fill_alpha\":[0.6],\"height\":[1.0],\"label\":[\"(67.800000, 68.733333]\"],\"line_alpha\":[1.0],\"line_color\":[\"black\"],\"width\":[0.9333333333333371],\"x\":[\"68.2666665\"],\"y\":[0.5]}},\"id\":\"652b92b9-d964-43cb-a081-37152c5d45cb\",\"type\":\"ColumnDataSource\"},{\"attributes\":{\"data_source\":{\"id\":\"4aed2d45-5324-4283-bc24-d98b976b154f\",\"type\":\"ColumnDataSource\"},\"glyph\":{\"id\":\"3f62a9f6-a980-4907-9512-6df5184ff33b\",\"type\":\"Rect\"},\"hover_glyph\":null,\"nonselection_glyph\":null,\"selection_glyph\":null},\"id\":\"55368871-5cf7-4e9c-be6b-87d0e304fb24\",\"type\":\"GlyphRenderer\"},{\"attributes\":{\"fill_alpha\":{\"field\":\"fill_alpha\"},\"fill_color\":{\"field\":\"color\"},\"height\":{\"field\":\"height\",\"units\":\"data\"},\"line_color\":{\"field\":\"line_color\"},\"width\":{\"field\":\"width\",\"units\":\"data\"},\"x\":{\"field\":\"x\"},\"y\":{\"field\":\"y\"}},\"id\":\"4dda0916-b419-4c73-af9e-30390c9c394e\",\"type\":\"Rect\"},{\"attributes\":{\"callback\":null,\"end\":82.47500017083334,\"start\":56.52499999583333},\"id\":\"31261f48-f724-42bd-8b4e-f149f67d6f9f\",\"type\":\"Range1d\"},{\"attributes\":{\"fill_alpha\":{\"field\":\"fill_alpha\"},\"fill_color\":{\"field\":\"color\"},\"height\":{\"field\":\"height\",\"units\":\"data\"},\"line_color\":{\"field\":\"line_color\"},\"width\":{\"field\":\"width\",\"units\":\"data\"},\"x\":{\"field\":\"x\"},\"y\":{\"field\":\"y\"}},\"id\":\"7664be84-e16f-4ad8-8ea6-0ea270aff329\",\"type\":\"Rect\"},{\"attributes\":{\"dimension\":1,\"plot\":{\"id\":\"783f3516-7436-4487-bf06-df6f77f2c636\",\"subtype\":\"Chart\",\"type\":\"Plot\"},\"ticker\":{\"id\":\"f06b8e70-1db6-477d-9f3d-e0cacd562da5\",\"type\":\"BasicTicker\"}},\"id\":\"e3f48f8e-d5f3-4156-9d41-71351a0f55f3\",\"type\":\"Grid\"},{\"attributes\":{\"active_drag\":\"auto\",\"active_scroll\":\"auto\",\"active_tap\":\"auto\",\"tools\":[{\"id\":\"9b7b6847-0566-48b9-beda-35ac239f5458\",\"type\":\"PanTool\"},{\"id\":\"120a2f76-cee1-4e1b-8505-232b635ccb02\",\"type\":\"WheelZoomTool\"},{\"id\":\"11fdfb3f-7fbb-4f36-bd65-f44dfa8d9df1\",\"type\":\"BoxZoomTool\"},{\"id\":\"da3aceae-cb3d-45aa-af03-0bf572237eda\",\"type\":\"SaveTool\"},{\"id\":\"683c9724-b9d8-4516-adfc-cdbaed85ccb3\",\"type\":\"ResetTool\"},{\"id\":\"5e43ff5a-3d95-412f-b2cc-f5ac31f4e88d\",\"type\":\"HelpTool\"}]},\"id\":\"291f536a-dd38-405f-ad7e-f403cd83b27b\",\"type\":\"Toolbar\"},{\"attributes\":{\"fill_alpha\":{\"field\":\"fill_alpha\"},\"fill_color\":{\"field\":\"color\"},\"height\":{\"field\":\"height\",\"units\":\"data\"},\"line_color\":{\"field\":\"line_color\"},\"width\":{\"field\":\"width\",\"units\":\"data\"},\"x\":{\"field\":\"x\"},\"y\":{\"field\":\"y\"}},\"id\":\"8a6901fe-5ca2-4edf-b056-5643b2764467\",\"type\":\"Rect\"},{\"attributes\":{\"data_source\":{\"id\":\"85d8649c-cca9-4da0-8af4-947e36785a0b\",\"type\":\"ColumnDataSource\"},\"glyph\":{\"id\":\"a6017a40-8645-456a-8417-95c5593386c3\",\"type\":\"Rect\"},\"hover_glyph\":null,\"nonselection_glyph\":null,\"selection_glyph\":null},\"id\":\"0710bc89-fbff-463b-921b-8ada2ba87436\",\"type\":\"GlyphRenderer\"},{\"attributes\":{\"items\":[{\"id\":\"bb22d9b6-d7ab-4a3c-b369-bfa4fac257c4\",\"type\":\"LegendItem\"},{\"id\":\"8a31e7d6-f3ce-4733-afd8-fc412f3f8c45\",\"type\":\"LegendItem\"}],\"plot\":{\"id\":\"783f3516-7436-4487-bf06-df6f77f2c636\",\"subtype\":\"Chart\",\"type\":\"Plot\"}},\"id\":\"4026855a-f0be-40c2-8fe7-c7eb166da3bc\",\"type\":\"Legend\"},{\"attributes\":{\"data_source\":{\"id\":\"cd783014-20ff-4c9b-903e-6f660855c43f\",\"type\":\"ColumnDataSource\"},\"glyph\":{\"id\":\"ac78d8e0-bedc-457f-8254-bd23c5943148\",\"type\":\"Rect\"},\"hover_glyph\":null,\"nonselection_glyph\":null,\"selection_glyph\":null},\"id\":\"1206ef41-97a7-4ecf-9451-2dff134fa8f9\",\"type\":\"GlyphRenderer\"},{\"attributes\":{\"fill_alpha\":{\"field\":\"fill_alpha\"},\"fill_color\":{\"field\":\"color\"},\"height\":{\"field\":\"height\",\"units\":\"data\"},\"line_color\":{\"field\":\"line_color\"},\"width\":{\"field\":\"width\",\"units\":\"data\"},\"x\":{\"field\":\"x\"},\"y\":{\"field\":\"y\"}},\"id\":\"4e0ea810-d0a6-4c81-9873-30173bd858eb\",\"type\":\"Rect\"},{\"attributes\":{\"fill_alpha\":{\"field\":\"fill_alpha\"},\"fill_color\":{\"field\":\"color\"},\"height\":{\"field\":\"height\",\"units\":\"data\"},\"line_color\":{\"field\":\"line_color\"},\"width\":{\"field\":\"width\",\"units\":\"data\"},\"x\":{\"field\":\"x\"},\"y\":{\"field\":\"y\"}},\"id\":\"ebaf46b1-9e87-42a3-b38d-98e6de69e2ff\",\"type\":\"Rect\"},{\"attributes\":{\"callback\":null,\"column_names\":[\"label\",\"width\",\"fill_alpha\",\"line_color\",\"height\",\"y\",\"color\",\"line_alpha\",\"x\"],\"data\":{\"chart_index\":[\"(69.600000, 70.400000]\"],\"color\":[\"#f22c40\"],\"fill_alpha\":[0.6],\"height\":[3.0],\"label\":[\"(69.600000, 70.400000]\"],\"line_alpha\":[1.0],\"line_color\":[\"black\"],\"width\":[0.8000000000000114],\"x\":[\"70.0\"],\"y\":[1.5]}},\"id\":\"2f80d5d1-8a56-4f35-bbc3-7692f025e11d\",\"type\":\"ColumnDataSource\"},{\"attributes\":{\"data_source\":{\"id\":\"edae8dd9-405c-4aa8-90f5-1beb64c384b0\",\"type\":\"ColumnDataSource\"},\"glyph\":{\"id\":\"7664be84-e16f-4ad8-8ea6-0ea270aff329\",\"type\":\"Rect\"},\"hover_glyph\":null,\"nonselection_glyph\":null,\"selection_glyph\":null},\"id\":\"8d883f48-e247-42d2-9a57-e6841f706996\",\"type\":\"GlyphRenderer\"},{\"attributes\":{\"callback\":null,\"column_names\":[\"label\",\"width\",\"fill_alpha\",\"line_color\",\"height\",\"y\",\"color\",\"line_alpha\",\"x\"],\"data\":{\"chart_index\":[\"(74.333333, 75.266667]\"],\"color\":[\"#5ab738\"],\"fill_alpha\":[0.6],\"height\":[5.0],\"label\":[\"(74.333333, 75.266667]\"],\"line_alpha\":[1.0],\"line_color\":[\"black\"],\"width\":[0.9333333333333371],\"x\":[\"74.8\"],\"y\":[2.5]}},\"id\":\"4aed2d45-5324-4283-bc24-d98b976b154f\",\"type\":\"ColumnDataSource\"},{\"attributes\":{\"fill_alpha\":{\"field\":\"fill_alpha\"},\"fill_color\":{\"field\":\"color\"},\"height\":{\"field\":\"height\",\"units\":\"data\"},\"line_color\":{\"field\":\"line_color\"},\"width\":{\"field\":\"width\",\"units\":\"data\"},\"x\":{\"field\":\"x\"},\"y\":{\"field\":\"y\"}},\"id\":\"6d134357-cc99-4632-bb68-a69f516b93df\",\"type\":\"Rect\"},{\"attributes\":{\"data_source\":{\"id\":\"a860b3e2-04a0-4073-aff0-ac50afddcdb5\",\"type\":\"ColumnDataSource\"},\"glyph\":{\"id\":\"fbf5e747-619e-4208-8a0d-f4d0763ecc15\",\"type\":\"Rect\"},\"hover_glyph\":null,\"nonselection_glyph\":null,\"selection_glyph\":null},\"id\":\"9b70b5c5-2847-4153-b877-10f026c1fc72\",\"type\":\"GlyphRenderer\"},{\"attributes\":{\"fill_alpha\":{\"field\":\"fill_alpha\"},\"fill_color\":{\"field\":\"color\"},\"height\":{\"field\":\"height\",\"units\":\"data\"},\"line_color\":{\"field\":\"line_color\"},\"width\":{\"field\":\"width\",\"units\":\"data\"},\"x\":{\"field\":\"x\"},\"y\":{\"field\":\"y\"}},\"id\":\"dccd0f2d-56a6-4459-8770-34dca0a9e3a1\",\"type\":\"Rect\"},{\"attributes\":{\"axis_label\":\"Height\",\"formatter\":{\"id\":\"f69eb0bc-de3a-40ca-81c7-cd217ae70ba9\",\"type\":\"BasicTickFormatter\"},\"plot\":{\"id\":\"783f3516-7436-4487-bf06-df6f77f2c636\",\"subtype\":\"Chart\",\"type\":\"Plot\"},\"ticker\":{\"id\":\"9c70ac4f-08b9-41c0-a453-bcafa2efeb03\",\"type\":\"BasicTicker\"}},\"id\":\"7ffd80d1-e932-4ce6-b584-e0a5cc1f6d15\",\"type\":\"LinearAxis\"},{\"attributes\":{\"data_source\":{\"id\":\"a2ad54fd-0500-4227-9807-74ffbf6bfac0\",\"type\":\"ColumnDataSource\"},\"glyph\":{\"id\":\"814f5d65-11fc-4250-ade8-ae813bcdbf07\",\"type\":\"Rect\"},\"hover_glyph\":null,\"nonselection_glyph\":null,\"selection_glyph\":null},\"id\":\"d0870c2e-54e9-4edd-89ee-ec639f6d10be\",\"type\":\"GlyphRenderer\"},{\"attributes\":{\"callback\":null,\"column_names\":[\"label\",\"width\",\"fill_alpha\",\"line_color\",\"height\",\"y\",\"color\",\"line_alpha\",\"x\"],\"data\":{\"chart_index\":[\"(70.600000, 71.533333]\"],\"color\":[\"#5ab738\"],\"fill_alpha\":[0.6],\"height\":[5.0],\"label\":[\"(70.600000, 71.533333]\"],\"line_alpha\":[1.0],\"line_color\":[\"black\"],\"width\":[0.9333333333333371],\"x\":[\"71.0666665\"],\"y\":[2.5]}},\"id\":\"ee4caecb-e057-44e1-9307-776a1ad49ddb\",\"type\":\"ColumnDataSource\"},{\"attributes\":{\"callback\":null,\"column_names\":[\"label\",\"width\",\"fill_alpha\",\"line_color\",\"height\",\"y\",\"color\",\"line_alpha\",\"x\"],\"data\":{\"chart_index\":[\"(63.200000, 64.000000]\"],\"color\":[\"#f22c40\"],\"fill_alpha\":[0.6],\"height\":[0.0],\"label\":[\"(63.200000, 64.000000]\"],\"line_alpha\":[1.0],\"line_color\":[\"black\"],\"width\":[0.7999999999999972],\"x\":[\"63.6\"],\"y\":[0.0]}},\"id\":\"93d94534-76ac-48eb-a12d-bad8c31be1af\",\"type\":\"ColumnDataSource\"},{\"attributes\":{\"data_source\":{\"id\":\"93d94534-76ac-48eb-a12d-bad8c31be1af\",\"type\":\"ColumnDataSource\"},\"glyph\":{\"id\":\"4a7484e4-0133-4d39-bf43-072823bbee78\",\"type\":\"Rect\"},\"hover_glyph\":null,\"nonselection_glyph\":null,\"selection_glyph\":null},\"id\":\"1b408752-c1f1-44f0-a67d-da442f66d0ce\",\"type\":\"GlyphRenderer\"},{\"attributes\":{\"data_source\":{\"id\":\"652b92b9-d964-43cb-a081-37152c5d45cb\",\"type\":\"ColumnDataSource\"},\"glyph\":{\"id\":\"5bc5b121-618c-4102-b50b-5ec15b3dd4b9\",\"type\":\"Rect\"},\"hover_glyph\":null,\"nonselection_glyph\":null,\"selection_glyph\":null},\"id\":\"022a06e9-fb80-42a9-9444-2bf3b4a65844\",\"type\":\"GlyphRenderer\"},{\"attributes\":{\"data_source\":{\"id\":\"98fcaf42-e497-4776-bcba-0abecb5afe3b\",\"type\":\"ColumnDataSource\"},\"glyph\":{\"id\":\"c091a370-0559-4a60-84c8-8a55244186cf\",\"type\":\"Rect\"},\"hover_glyph\":null,\"nonselection_glyph\":null,\"selection_glyph\":null},\"id\":\"24ae318b-8358-46c3-9ac3-4ed1f0845c8f\",\"type\":\"GlyphRenderer\"},{\"attributes\":{\"data_source\":{\"id\":\"67bfc9f5-35d5-4ab1-b6b0-4eee780d852c\",\"type\":\"ColumnDataSource\"},\"glyph\":{\"id\":\"06da290c-6514-4882-acf3-e9cbc08d5179\",\"type\":\"Rect\"},\"hover_glyph\":null,\"nonselection_glyph\":null,\"selection_glyph\":null},\"id\":\"91f24bf0-4179-46f9-8cb9-b48b12ffeeb4\",\"type\":\"GlyphRenderer\"},{\"attributes\":{\"callback\":null,\"column_names\":[\"label\",\"width\",\"fill_alpha\",\"line_color\",\"height\",\"y\",\"color\",\"line_alpha\",\"x\"],\"data\":{\"chart_index\":[\"(75.266667, 76.200000]\"],\"color\":[\"#5ab738\"],\"fill_alpha\":[0.6],\"height\":[2.0],\"label\":[\"(75.266667, 76.200000]\"],\"line_alpha\":[1.0],\"line_color\":[\"black\"],\"width\":[0.9333333333333371],\"x\":[\"75.7333335\"],\"y\":[1.0]}},\"id\":\"62495c87-f2a3-4e61-b5ea-0441a8dfe1b7\",\"type\":\"ColumnDataSource\"},{\"attributes\":{\"data_source\":{\"id\":\"3e8d9b22-bba7-4a96-96c1-f6c96277531b\",\"type\":\"ColumnDataSource\"},\"glyph\":{\"id\":\"5adcbdd3-98d5-4cb1-9460-09e3bc75684b\",\"type\":\"Rect\"},\"hover_glyph\":null,\"nonselection_glyph\":null,\"selection_glyph\":null},\"id\":\"e37a97a4-4804-4a38-96b5-f97c48eec29d\",\"type\":\"GlyphRenderer\"}],\"root_ids\":[\"783f3516-7436-4487-bf06-df6f77f2c636\"]},\"title\":\"Bokeh Application\",\"version\":\"0.12.4\"}};\n",
       "            var render_items = [{\"docid\":\"931f8546-50c6-4482-a115-e65a964d3566\",\"elementid\":\"a54be60e-a9aa-4480-9dd3-1be8f63a3889\",\"modelid\":\"783f3516-7436-4487-bf06-df6f77f2c636\"}];\n",
       "            \n",
       "            Bokeh.embed.embed_items(docs_json, render_items);\n",
       "          };\n",
       "          if (document.readyState != \"loading\") fn();\n",
       "          else document.addEventListener(\"DOMContentLoaded\", fn);\n",
       "        })();\n",
       "      },\n",
       "      function(Bokeh) {\n",
       "      }\n",
       "    ];\n",
       "  \n",
       "    function run_inline_js() {\n",
       "      \n",
       "      if ((window.Bokeh !== undefined) || (force === true)) {\n",
       "        for (var i = 0; i < inline_js.length; i++) {\n",
       "          inline_js[i](window.Bokeh);\n",
       "        }if (force === true) {\n",
       "          display_loaded();\n",
       "        }} else if (Date.now() < window._bokeh_timeout) {\n",
       "        setTimeout(run_inline_js, 100);\n",
       "      } else if (!window._bokeh_failed_load) {\n",
       "        console.log(\"Bokeh: BokehJS failed to load within specified timeout.\");\n",
       "        window._bokeh_failed_load = true;\n",
       "      } else if (force !== true) {\n",
       "        var cell = $(document.getElementById(\"a54be60e-a9aa-4480-9dd3-1be8f63a3889\")).parents('.cell').data().cell;\n",
       "        cell.output_area.append_execute_result(NB_LOAD_WARNING)\n",
       "      }\n",
       "  \n",
       "    }\n",
       "  \n",
       "    if (window._bokeh_is_loading === 0) {\n",
       "      console.log(\"Bokeh: BokehJS loaded, going straight to plotting\");\n",
       "      run_inline_js();\n",
       "    } else {\n",
       "      load_libs(js_urls, function() {\n",
       "        console.log(\"Bokeh: BokehJS plotting callback run at\", now());\n",
       "        run_inline_js();\n",
       "      });\n",
       "    }\n",
       "  }(this));\n",
       "</script>"
      ]
     },
     "metadata": {},
     "output_type": "display_data"
    }
   ],
   "source": [
    "hist = Histogram(heights,values='Height',color='Gender',\n",
    "                 title=\"Female / Male height distribution in inches\",legend='top_right',bins=15,width=480,height=480)\n",
    "show(hist)"
   ]
  },
  {
   "cell_type": "markdown",
   "metadata": {},
   "source": [
    "![](bokeh_plot3.png)"
   ]
  },
  {
   "cell_type": "markdown",
   "metadata": {},
   "source": [
    "From the plot, it appears that there is difference between the heights of the students by gender, but let's evaluate that.\n",
    "\n",
    "To do so we evaluate the distributions with the standard two samples t-test (that assumes same variance) and the Welch t-test (which accounts for different variances).\n",
    "\n",
    "Since the variances appear to be very similar, no significant difference should result between the t-tests. If in doubt about similarity of the variances, go with the Welch t-test which is more robust."
   ]
  },
  {
   "cell_type": "code",
   "execution_count": 312,
   "metadata": {
    "collapsed": false
   },
   "outputs": [
    {
     "name": "stdout",
     "output_type": "stream",
     "text": [
      "t-test, same variance: Ttest_indResult(statistic=-10.765002322370973, pvalue=2.943862106509838e-18)\n",
      "t-test, diff variance: Ttest_indResult(statistic=-10.765002322370973, pvalue=2.66630615826245e-18)\n"
     ]
    }
   ],
   "source": [
    "print('t-test, same variance: {0}'.format(scipy.stats.ttest_ind(fheight['Height'].values,\n",
    "                                                                mheight['Height'].values,equal_var=False)))\n",
    "print('t-test, diff variance: {0}'.format(scipy.stats.ttest_ind(fheight['Height'].values,\n",
    "                                                                mheight['Height'].values,equal_var=True)))"
   ]
  },
  {
   "cell_type": "markdown",
   "metadata": {},
   "source": [
    "The results tell us that we were right, there is evidence to reject the Null Hypothesis (as the p-value far less than our alpha) so there is statistical difference between the height of male and female students.\n",
    "\n",
    "Also as we guessed, there isn't real difference between the results of the two t-tests."
   ]
  },
  {
   "cell_type": "markdown",
   "metadata": {},
   "source": [
    "### Paired sample t-test<a id='Paired'></a>\n",
    "\n",
    "For the paired t-test we need another dataset, in this case it is the measurements of systolic and diastolic blood pressure from a group of individuals before and after a treatment.\n",
    "\n",
    "The aim of the t-test is to assert if there is statistical evidence that the treatment has an effect on blood pressure.\n",
    "\n",
    "Start by downloading and having a glimpse of the dataset."
   ]
  },
  {
   "cell_type": "code",
   "execution_count": 313,
   "metadata": {
    "collapsed": false,
    "scrolled": true
   },
   "outputs": [
    {
     "data": {
      "text/html": [
       "<div>\n",
       "<table border=\"1\" class=\"dataframe\">\n",
       "  <thead>\n",
       "    <tr style=\"text-align: right;\">\n",
       "      <th></th>\n",
       "      <th>sbefore</th>\n",
       "      <th>safter</th>\n",
       "      <th>sdif</th>\n",
       "      <th>dbefore</th>\n",
       "      <th>dafter</th>\n",
       "      <th>ddif</th>\n",
       "    </tr>\n",
       "  </thead>\n",
       "  <tbody>\n",
       "    <tr>\n",
       "      <th>0</th>\n",
       "      <td>210</td>\n",
       "      <td>201</td>\n",
       "      <td>-9</td>\n",
       "      <td>130</td>\n",
       "      <td>125</td>\n",
       "      <td>-5</td>\n",
       "    </tr>\n",
       "    <tr>\n",
       "      <th>1</th>\n",
       "      <td>169</td>\n",
       "      <td>165</td>\n",
       "      <td>-4</td>\n",
       "      <td>122</td>\n",
       "      <td>121</td>\n",
       "      <td>-1</td>\n",
       "    </tr>\n",
       "    <tr>\n",
       "      <th>2</th>\n",
       "      <td>187</td>\n",
       "      <td>166</td>\n",
       "      <td>-21</td>\n",
       "      <td>124</td>\n",
       "      <td>121</td>\n",
       "      <td>-3</td>\n",
       "    </tr>\n",
       "    <tr>\n",
       "      <th>3</th>\n",
       "      <td>160</td>\n",
       "      <td>157</td>\n",
       "      <td>-3</td>\n",
       "      <td>104</td>\n",
       "      <td>106</td>\n",
       "      <td>2</td>\n",
       "    </tr>\n",
       "    <tr>\n",
       "      <th>4</th>\n",
       "      <td>167</td>\n",
       "      <td>147</td>\n",
       "      <td>-20</td>\n",
       "      <td>112</td>\n",
       "      <td>101</td>\n",
       "      <td>-11</td>\n",
       "    </tr>\n",
       "  </tbody>\n",
       "</table>\n",
       "</div>"
      ],
      "text/plain": [
       "   sbefore  safter  sdif  dbefore  dafter  ddif\n",
       "0      210     201    -9      130     125    -5\n",
       "1      169     165    -4      122     121    -1\n",
       "2      187     166   -21      124     121    -3\n",
       "3      160     157    -3      104     106     2\n",
       "4      167     147   -20      112     101   -11"
      ]
     },
     "execution_count": 313,
     "metadata": {},
     "output_type": "execute_result"
    }
   ],
   "source": [
    "blood = pd.read_table('http://www.stat.ucla.edu/~rgould/datasets/bloodpressure.dat')\n",
    "blood.head()"
   ]
  },
  {
   "cell_type": "markdown",
   "metadata": {},
   "source": [
    "The dataset is in a wide format, we will need it in a long format and for that we use the pandas function melt. After this, we will create indices for each type of blood preasure."
   ]
  },
  {
   "cell_type": "code",
   "execution_count": 314,
   "metadata": {
    "collapsed": true
   },
   "outputs": [],
   "source": [
    "melted      = pd.melt(blood)\n",
    "\n",
    "index_sys_b = melted['variable'] == 'sbefore'\n",
    "index_sys_a = melted['variable'] == 'safter'\n",
    "index_sys   = index_sys_b | index_sys_a\n",
    "\n",
    "index_dia_b = melted['variable'] == 'dbefore'\n",
    "index_dia_a = melted['variable'] == 'dafter'\n",
    "index_dia   = index_dia_b | index_dia_a"
   ]
  },
  {
   "cell_type": "markdown",
   "metadata": {},
   "source": [
    "Proceed to visualize them, green being before and red being after for the first two histograms, for the second ones the difference for same individuals after and before is plotted."
   ]
  },
  {
   "cell_type": "code",
   "execution_count": 315,
   "metadata": {
    "collapsed": false,
    "scrolled": true
   },
   "outputs": [
    {
     "data": {
      "text/html": [
       "\n",
       "\n",
       "    <div class=\"bk-root\">\n",
       "        <div class=\"bk-plotdiv\" id=\"d6d3478c-b411-41e7-9428-83b3f29fd4f1\"></div>\n",
       "    </div>\n",
       "<script type=\"text/javascript\">\n",
       "  \n",
       "  (function(global) {\n",
       "    function now() {\n",
       "      return new Date();\n",
       "    }\n",
       "  \n",
       "    var force = false;\n",
       "  \n",
       "    if (typeof (window._bokeh_onload_callbacks) === \"undefined\" || force === true) {\n",
       "      window._bokeh_onload_callbacks = [];\n",
       "      window._bokeh_is_loading = undefined;\n",
       "    }\n",
       "  \n",
       "  \n",
       "    \n",
       "    if (typeof (window._bokeh_timeout) === \"undefined\" || force === true) {\n",
       "      window._bokeh_timeout = Date.now() + 0;\n",
       "      window._bokeh_failed_load = false;\n",
       "    }\n",
       "  \n",
       "    var NB_LOAD_WARNING = {'data': {'text/html':\n",
       "       \"<div style='background-color: #fdd'>\\n\"+\n",
       "       \"<p>\\n\"+\n",
       "       \"BokehJS does not appear to have successfully loaded. If loading BokehJS from CDN, this \\n\"+\n",
       "       \"may be due to a slow or bad network connection. Possible fixes:\\n\"+\n",
       "       \"</p>\\n\"+\n",
       "       \"<ul>\\n\"+\n",
       "       \"<li>re-rerun `output_notebook()` to attempt to load from CDN again, or</li>\\n\"+\n",
       "       \"<li>use INLINE resources instead, as so:</li>\\n\"+\n",
       "       \"</ul>\\n\"+\n",
       "       \"<code>\\n\"+\n",
       "       \"from bokeh.resources import INLINE\\n\"+\n",
       "       \"output_notebook(resources=INLINE)\\n\"+\n",
       "       \"</code>\\n\"+\n",
       "       \"</div>\"}};\n",
       "  \n",
       "    function display_loaded() {\n",
       "      if (window.Bokeh !== undefined) {\n",
       "        document.getElementById(\"d6d3478c-b411-41e7-9428-83b3f29fd4f1\").textContent = \"BokehJS successfully loaded.\";\n",
       "      } else if (Date.now() < window._bokeh_timeout) {\n",
       "        setTimeout(display_loaded, 100)\n",
       "      }\n",
       "    }\n",
       "  \n",
       "    function run_callbacks() {\n",
       "      window._bokeh_onload_callbacks.forEach(function(callback) { callback() });\n",
       "      delete window._bokeh_onload_callbacks\n",
       "      console.info(\"Bokeh: all callbacks have finished\");\n",
       "    }\n",
       "  \n",
       "    function load_libs(js_urls, callback) {\n",
       "      window._bokeh_onload_callbacks.push(callback);\n",
       "      if (window._bokeh_is_loading > 0) {\n",
       "        console.log(\"Bokeh: BokehJS is being loaded, scheduling callback at\", now());\n",
       "        return null;\n",
       "      }\n",
       "      if (js_urls == null || js_urls.length === 0) {\n",
       "        run_callbacks();\n",
       "        return null;\n",
       "      }\n",
       "      console.log(\"Bokeh: BokehJS not loaded, scheduling load and callback at\", now());\n",
       "      window._bokeh_is_loading = js_urls.length;\n",
       "      for (var i = 0; i < js_urls.length; i++) {\n",
       "        var url = js_urls[i];\n",
       "        var s = document.createElement('script');\n",
       "        s.src = url;\n",
       "        s.async = false;\n",
       "        s.onreadystatechange = s.onload = function() {\n",
       "          window._bokeh_is_loading--;\n",
       "          if (window._bokeh_is_loading === 0) {\n",
       "            console.log(\"Bokeh: all BokehJS libraries loaded\");\n",
       "            run_callbacks()\n",
       "          }\n",
       "        };\n",
       "        s.onerror = function() {\n",
       "          console.warn(\"failed to load library \" + url);\n",
       "        };\n",
       "        console.log(\"Bokeh: injecting script tag for BokehJS library: \", url);\n",
       "        document.getElementsByTagName(\"head\")[0].appendChild(s);\n",
       "      }\n",
       "    };var element = document.getElementById(\"d6d3478c-b411-41e7-9428-83b3f29fd4f1\");\n",
       "    if (element == null) {\n",
       "      console.log(\"Bokeh: ERROR: autoload.js configured with elementid 'd6d3478c-b411-41e7-9428-83b3f29fd4f1' but no matching script tag was found. \")\n",
       "      return false;\n",
       "    }\n",
       "  \n",
       "    var js_urls = [];\n",
       "  \n",
       "    var inline_js = [\n",
       "      function(Bokeh) {\n",
       "        (function() {\n",
       "          var fn = function() {\n",
       "            var docs_json = {\"e3aba1ac-9de2-4377-b4da-32d848ca4602\":{\"roots\":{\"references\":[{\"attributes\":{\"plot\":{\"id\":\"0394d956-6e75-4277-8eea-68b538600a61\",\"subtype\":\"Chart\",\"type\":\"Plot\"}},\"id\":\"e9787594-2ca7-4c54-ab1c-4ffb474ff39d\",\"type\":\"WheelZoomTool\"},{\"attributes\":{\"fill_alpha\":{\"field\":\"fill_alpha\"},\"fill_color\":{\"field\":\"color\"},\"height\":{\"field\":\"height\",\"units\":\"data\"},\"line_color\":{\"field\":\"line_color\"},\"width\":{\"field\":\"width\",\"units\":\"data\"},\"x\":{\"field\":\"x\"},\"y\":{\"field\":\"y\"}},\"id\":\"ceb8d9ce-4462-4ce1-b88d-9666645aa4a5\",\"type\":\"Rect\"},{\"attributes\":{\"plot\":{\"id\":\"0394d956-6e75-4277-8eea-68b538600a61\",\"subtype\":\"Chart\",\"type\":\"Plot\"}},\"id\":\"c4792060-a561-415e-8b82-d26ca7dad379\",\"type\":\"SaveTool\"},{\"attributes\":{},\"id\":\"8e85ddf6-1998-4f1d-9133-3dfbbd1f3bd3\",\"type\":\"BasicTicker\"},{\"attributes\":{\"below\":[{\"id\":\"23fc815c-2ce3-4b8b-ac5d-c8be1e49e5e5\",\"type\":\"LinearAxis\"}],\"css_classes\":null,\"height\":480,\"left\":[{\"id\":\"82791aa7-c9b1-4a6e-ba85-b0b340bb1d08\",\"type\":\"LinearAxis\"}],\"renderers\":[{\"id\":\"2928eef8-d8d7-4804-b3f7-4d88ff037ac4\",\"type\":\"BoxAnnotation\"},{\"id\":\"f7b81ea9-a274-4c31-b18d-cf633cf6d1ec\",\"type\":\"GlyphRenderer\"},{\"id\":\"c7d65909-01dc-4618-80ed-38015cdcb507\",\"type\":\"GlyphRenderer\"},{\"id\":\"448c5ec7-0a78-4b6f-8ddd-ae51e7de8ae6\",\"type\":\"GlyphRenderer\"},{\"id\":\"6bb971e8-37df-44ab-9eed-fd3ff808f771\",\"type\":\"GlyphRenderer\"},{\"id\":\"3b2056da-3827-420f-85a4-8ee7a4afe413\",\"type\":\"GlyphRenderer\"},{\"id\":\"1fb56e15-ae10-405e-9a5f-8035b41f938e\",\"type\":\"Legend\"},{\"id\":\"23fc815c-2ce3-4b8b-ac5d-c8be1e49e5e5\",\"type\":\"LinearAxis\"},{\"id\":\"82791aa7-c9b1-4a6e-ba85-b0b340bb1d08\",\"type\":\"LinearAxis\"},{\"id\":\"f3d05618-63a1-486c-b719-95c391d26441\",\"type\":\"Grid\"}],\"title\":{\"id\":\"dc946539-61b2-49d4-9c54-c6aa7d27f447\",\"type\":\"Title\"},\"tool_events\":{\"id\":\"167be257-817a-4413-951f-1733c52fec41\",\"type\":\"ToolEvents\"},\"toolbar\":{\"id\":\"73e1e467-680d-4f04-a5a5-9e190d937267\",\"type\":\"Toolbar\"},\"toolbar_location\":null,\"width\":480,\"x_mapper_type\":\"auto\",\"x_range\":{\"id\":\"804350d8-b857-4935-8c0e-616c1b35e6db\",\"type\":\"Range1d\"},\"y_mapper_type\":\"auto\",\"y_range\":{\"id\":\"1a280adb-2930-4dba-92f0-83047d7caa59\",\"type\":\"Range1d\"}},\"id\":\"c524588b-1bc5-4bf2-8247-3153e8bfa736\",\"subtype\":\"Chart\",\"type\":\"Plot\"},{\"attributes\":{\"dimension\":1,\"plot\":{\"id\":\"c524588b-1bc5-4bf2-8247-3153e8bfa736\",\"subtype\":\"Chart\",\"type\":\"Plot\"},\"ticker\":{\"id\":\"287db95b-5996-4c47-81b2-8b41fb691410\",\"type\":\"BasicTicker\"}},\"id\":\"f3d05618-63a1-486c-b719-95c391d26441\",\"type\":\"Grid\"},{\"attributes\":{\"fill_alpha\":{\"field\":\"fill_alpha\"},\"fill_color\":{\"field\":\"color\"},\"height\":{\"field\":\"height\",\"units\":\"data\"},\"line_color\":{\"field\":\"line_color\"},\"width\":{\"field\":\"width\",\"units\":\"data\"},\"x\":{\"field\":\"x\"},\"y\":{\"field\":\"y\"}},\"id\":\"5c459b05-3ae9-44ea-b5f6-0c356e713553\",\"type\":\"Rect\"},{\"attributes\":{\"active_drag\":\"auto\",\"active_scroll\":\"auto\",\"active_tap\":\"auto\",\"tools\":[{\"id\":\"f6cb84b6-05c6-4cc7-98b6-35cf727a4a98\",\"type\":\"PanTool\"},{\"id\":\"e9787594-2ca7-4c54-ab1c-4ffb474ff39d\",\"type\":\"WheelZoomTool\"},{\"id\":\"e023043c-d9b1-43ca-b0ba-08eac61d44f2\",\"type\":\"BoxZoomTool\"},{\"id\":\"c4792060-a561-415e-8b82-d26ca7dad379\",\"type\":\"SaveTool\"},{\"id\":\"ac5375df-2a48-424a-a149-ced6749d2006\",\"type\":\"ResetTool\"},{\"id\":\"3c5ae4d4-4936-4c8a-98bf-d5816798eac0\",\"type\":\"HelpTool\"}]},\"id\":\"daa68ccb-636c-4f05-8359-1aac19c2652b\",\"type\":\"Toolbar\"},{\"attributes\":{\"plot\":{\"id\":\"c89f67d9-19b8-4654-aad1-6eeb8f6e09b5\",\"subtype\":\"Chart\",\"type\":\"Plot\"}},\"id\":\"03e9ce7f-070b-4076-ad4a-5d176b90b4d1\",\"type\":\"ResetTool\"},{\"attributes\":{},\"id\":\"dbacfbda-9315-43db-81fd-ea8f68dc25e7\",\"type\":\"BasicTickFormatter\"},{\"attributes\":{\"data_source\":{\"id\":\"7608ef41-bf77-46eb-b15e-f802cdd7b40e\",\"type\":\"ColumnDataSource\"},\"glyph\":{\"id\":\"f277e4d0-cf94-4cd6-bba9-b5e7e3242dde\",\"type\":\"Rect\"},\"hover_glyph\":null,\"nonselection_glyph\":null,\"selection_glyph\":null},\"id\":\"0dc611b6-483d-459b-b368-a141a70ab3ba\",\"type\":\"GlyphRenderer\"},{\"attributes\":{\"data_source\":{\"id\":\"a3986ba8-b116-4d52-9aba-c2ee7ad3d757\",\"type\":\"ColumnDataSource\"},\"glyph\":{\"id\":\"589a801b-8e6d-4877-9f23-ebceddeb1560\",\"type\":\"Rect\"},\"hover_glyph\":null,\"nonselection_glyph\":null,\"selection_glyph\":null},\"id\":\"6bb971e8-37df-44ab-9eed-fd3ff808f771\",\"type\":\"GlyphRenderer\"},{\"attributes\":{\"callback\":null,\"column_names\":[\"label\",\"width\",\"fill_alpha\",\"line_color\",\"height\",\"y\",\"color\",\"line_alpha\",\"x\"],\"data\":{\"chart_index\":[\"(157.800000, 165.000000]\"],\"color\":[\"#f22c40\"],\"fill_alpha\":[0.6],\"height\":[0.0],\"label\":[\"(157.800000, 165.000000]\"],\"line_alpha\":[1.0],\"line_color\":[\"black\"],\"width\":[7.199999999999989],\"x\":[\"161.4\"],\"y\":[0.0]}},\"id\":\"e57a4152-c1c2-462b-8f83-d512507475d7\",\"type\":\"ColumnDataSource\"},{\"attributes\":{\"plot\":{\"id\":\"ad32cd6e-51bf-476a-9892-8808b5f127c0\",\"subtype\":\"Chart\",\"type\":\"Plot\"}},\"id\":\"2413bd4d-d71a-4a9d-a919-2a214f6abc97\",\"type\":\"ResetTool\"},{\"attributes\":{\"fill_alpha\":{\"field\":\"fill_alpha\"},\"fill_color\":{\"field\":\"color\"},\"height\":{\"field\":\"height\",\"units\":\"data\"},\"line_color\":{\"field\":\"line_color\"},\"width\":{\"field\":\"width\",\"units\":\"data\"},\"x\":{\"field\":\"x\"},\"y\":{\"field\":\"y\"}},\"id\":\"3886d628-b24d-4371-94b0-5b9bfcab6116\",\"type\":\"Rect\"},{\"attributes\":{\"callback\":null,\"column_names\":[\"label\",\"width\",\"fill_alpha\",\"line_color\",\"height\",\"y\",\"color\",\"line_alpha\",\"x\"],\"data\":{\"chart_index\":[\"(152.400000, 158.800000]\"],\"color\":[\"#5ab738\"],\"fill_alpha\":[0.6],\"height\":[1.0],\"label\":[\"(152.400000, 158.800000]\"],\"line_alpha\":[1.0],\"line_color\":[\"black\"],\"width\":[6.400000000000006],\"x\":[\"155.60000000000002\"],\"y\":[0.5]}},\"id\":\"71aad5a7-e936-43e6-b8df-bdf21c24fec9\",\"type\":\"ColumnDataSource\"},{\"attributes\":{\"data_source\":{\"id\":\"d7f4726e-7586-4605-b056-2549b82dd124\",\"type\":\"ColumnDataSource\"},\"glyph\":{\"id\":\"ba0500e7-c300-4101-b82f-ac6e6d82ec19\",\"type\":\"Rect\"},\"hover_glyph\":null,\"nonselection_glyph\":null,\"selection_glyph\":null},\"id\":\"57173114-3692-4bf9-b17f-ba874e1d45fe\",\"type\":\"GlyphRenderer\"},{\"attributes\":{\"callback\":null,\"end\":-3.9,\"start\":-32.1},\"id\":\"09eac160-c261-40e5-a792-0cffcef1d18e\",\"type\":\"Range1d\"},{\"attributes\":{\"overlay\":{\"id\":\"9377a8e7-cb7d-4fbf-b26e-e2b371abe81f\",\"type\":\"BoxAnnotation\"},\"plot\":{\"id\":\"ad32cd6e-51bf-476a-9892-8808b5f127c0\",\"subtype\":\"Chart\",\"type\":\"Plot\"}},\"id\":\"b519496f-6fac-47ad-9c0c-59f4687bb803\",\"type\":\"BoxZoomTool\"},{\"attributes\":{\"fill_alpha\":{\"field\":\"fill_alpha\"},\"fill_color\":{\"field\":\"color\"},\"height\":{\"field\":\"height\",\"units\":\"data\"},\"line_color\":{\"field\":\"line_color\"},\"width\":{\"field\":\"width\",\"units\":\"data\"},\"x\":{\"field\":\"x\"},\"y\":{\"field\":\"y\"}},\"id\":\"cbd779b4-8366-4481-9703-239092059d16\",\"type\":\"Rect\"},{\"attributes\":{\"fill_alpha\":{\"field\":\"fill_alpha\"},\"fill_color\":{\"field\":\"color\"},\"height\":{\"field\":\"height\",\"units\":\"data\"},\"line_color\":{\"field\":\"line_color\"},\"width\":{\"field\":\"width\",\"units\":\"data\"},\"x\":{\"field\":\"x\"},\"y\":{\"field\":\"y\"}},\"id\":\"217d7b1a-e401-4767-a741-594d8cbef69c\",\"type\":\"Rect\"},{\"attributes\":{\"data_source\":{\"id\":\"7a961d4d-b5fd-4275-8b8f-4001c6b05522\",\"type\":\"ColumnDataSource\"},\"glyph\":{\"id\":\"adf0122c-c2be-4295-9aef-838567ab3cfd\",\"type\":\"Rect\"},\"hover_glyph\":null,\"nonselection_glyph\":null,\"selection_glyph\":null},\"id\":\"a0e9f9b0-6dc1-4cba-b8ca-e054da72ad31\",\"type\":\"GlyphRenderer\"},{\"attributes\":{\"data_source\":{\"id\":\"8649843a-7234-4709-8624-d99d34da5b5b\",\"type\":\"ColumnDataSource\"},\"glyph\":{\"id\":\"3565b7b2-5b26-48ab-9cfd-5966e7775e10\",\"type\":\"Rect\"},\"hover_glyph\":null,\"nonselection_glyph\":null,\"selection_glyph\":null},\"id\":\"3e5dbf74-2362-4363-942b-ccab2a22fd00\",\"type\":\"GlyphRenderer\"},{\"attributes\":{\"fill_alpha\":{\"field\":\"fill_alpha\"},\"fill_color\":{\"field\":\"color\"},\"height\":{\"field\":\"height\",\"units\":\"data\"},\"line_color\":{\"field\":\"line_color\"},\"width\":{\"field\":\"width\",\"units\":\"data\"},\"x\":{\"field\":\"x\"},\"y\":{\"field\":\"y\"}},\"id\":\"ef2deb92-1c13-43b4-b909-9ecbeca0b9cc\",\"type\":\"Rect\"},{\"attributes\":{\"data_source\":{\"id\":\"71aad5a7-e936-43e6-b8df-bdf21c24fec9\",\"type\":\"ColumnDataSource\"},\"glyph\":{\"id\":\"26883a83-117e-4a21-805e-5f318ba6b279\",\"type\":\"Rect\"},\"hover_glyph\":null,\"nonselection_glyph\":null,\"selection_glyph\":null},\"id\":\"9a196982-da06-4d9c-9524-9bc52e38aef5\",\"type\":\"GlyphRenderer\"},{\"attributes\":{\"callback\":null,\"column_names\":[\"label\",\"width\",\"fill_alpha\",\"line_color\",\"height\",\"y\",\"color\",\"line_alpha\",\"x\"],\"data\":{\"chart_index\":[\"(112.100000, 116.400000]\"],\"color\":[\"#f22c40\"],\"fill_alpha\":[0.6],\"height\":[0.0],\"label\":[\"(112.100000, 116.400000]\"],\"line_alpha\":[1.0],\"line_color\":[\"black\"],\"width\":[4.300000000000011],\"x\":[\"114.25\"],\"y\":[0.0]}},\"id\":\"90f87570-21f3-45c0-953d-d13503ffe862\",\"type\":\"ColumnDataSource\"},{\"attributes\":{},\"id\":\"ff17137d-2766-4777-a9c4-80b1cd86ffd1\",\"type\":\"BasicTickFormatter\"},{\"attributes\":{\"data_source\":{\"id\":\"e57a4152-c1c2-462b-8f83-d512507475d7\",\"type\":\"ColumnDataSource\"},\"glyph\":{\"id\":\"75c36bee-524a-47bf-9e6e-963f0e7b2c0f\",\"type\":\"Rect\"},\"hover_glyph\":null,\"nonselection_glyph\":null,\"selection_glyph\":null},\"id\":\"fb684e1c-42ba-4f07-87f1-454af68a0600\",\"type\":\"GlyphRenderer\"},{\"attributes\":{\"data_source\":{\"id\":\"b7b82a7a-d842-43e7-acbc-299549fb2ae8\",\"type\":\"ColumnDataSource\"},\"glyph\":{\"id\":\"d2954dc1-91d0-4036-8f7e-bfdcdbd845fc\",\"type\":\"Rect\"},\"hover_glyph\":null,\"nonselection_glyph\":null,\"selection_glyph\":null},\"id\":\"9c6cd3eb-cb60-4605-904b-5f85240ee714\",\"type\":\"GlyphRenderer\"},{\"attributes\":{\"children\":[{\"id\":\"20e6d604-b91d-412b-bc73-2ac858139da7\",\"type\":\"Row\"},{\"id\":\"a35cca81-1888-4161-a033-6316c7613d48\",\"type\":\"Row\"}]},\"id\":\"3a74a38f-129b-4eae-8cce-8770112ca0c0\",\"type\":\"Column\"},{\"attributes\":{\"data_source\":{\"id\":\"3d525976-c384-4d24-ba92-905d66f79a4a\",\"type\":\"ColumnDataSource\"},\"glyph\":{\"id\":\"90960c36-3860-4d48-9d77-7c3d462db05d\",\"type\":\"Rect\"},\"hover_glyph\":null,\"nonselection_glyph\":null,\"selection_glyph\":null},\"id\":\"3ec77775-8947-41ca-8ff9-3349bb2fcdf0\",\"type\":\"GlyphRenderer\"},{\"attributes\":{\"callback\":null,\"column_names\":[\"label\",\"width\",\"fill_alpha\",\"line_color\",\"height\",\"y\",\"color\",\"line_alpha\",\"x\"],\"data\":{\"chart_index\":[\"[146.000000, 152.400000]\"],\"color\":[\"#5ab738\"],\"fill_alpha\":[0.6],\"height\":[2.0],\"label\":[\"[146.000000, 152.400000]\"],\"line_alpha\":[1.0],\"line_color\":[\"black\"],\"width\":[6.400000000000006],\"x\":[\"149.2\"],\"y\":[1.0]}},\"id\":\"d7f4726e-7586-4605-b056-2549b82dd124\",\"type\":\"ColumnDataSource\"},{\"attributes\":{\"fill_alpha\":{\"field\":\"fill_alpha\"},\"fill_color\":{\"field\":\"color\"},\"height\":{\"field\":\"height\",\"units\":\"data\"},\"line_color\":{\"field\":\"line_color\"},\"width\":{\"field\":\"width\",\"units\":\"data\"},\"x\":{\"field\":\"x\"},\"y\":{\"field\":\"y\"}},\"id\":\"9901c453-b5b5-4233-af13-3197606f4d4a\",\"type\":\"Rect\"},{\"attributes\":{\"dimension\":1,\"plot\":{\"id\":\"c89f67d9-19b8-4654-aad1-6eeb8f6e09b5\",\"subtype\":\"Chart\",\"type\":\"Plot\"},\"ticker\":{\"id\":\"a67e066c-7553-4b56-aa95-6f5cb7d1f3b2\",\"type\":\"BasicTicker\"}},\"id\":\"c34c363b-31a5-4dd8-824a-37d567fa6afd\",\"type\":\"Grid\"},{\"attributes\":{\"callback\":null,\"end\":218.475,\"start\":120.525},\"id\":\"77e3d1e5-c5e0-43bd-a216-3f88d41e843c\",\"type\":\"Range1d\"},{\"attributes\":{\"fill_alpha\":{\"field\":\"fill_alpha\"},\"fill_color\":{\"field\":\"color\"},\"height\":{\"field\":\"height\",\"units\":\"data\"},\"line_color\":{\"field\":\"line_color\"},\"width\":{\"field\":\"width\",\"units\":\"data\"},\"x\":{\"field\":\"x\"},\"y\":{\"field\":\"y\"}},\"id\":\"78390800-e0d5-4952-8ddc-8eb0b0156f7a\",\"type\":\"Rect\"},{\"attributes\":{\"fill_alpha\":{\"field\":\"fill_alpha\"},\"fill_color\":{\"field\":\"color\"},\"height\":{\"field\":\"height\",\"units\":\"data\"},\"line_color\":{\"field\":\"line_color\"},\"width\":{\"field\":\"width\",\"units\":\"data\"},\"x\":{\"field\":\"x\"},\"y\":{\"field\":\"y\"}},\"id\":\"1b9645e4-9c2e-4771-ac95-9693f18da6c2\",\"type\":\"Rect\"},{\"attributes\":{\"data_source\":{\"id\":\"9d208de6-f39f-4e50-945f-e54462bd753a\",\"type\":\"ColumnDataSource\"},\"glyph\":{\"id\":\"94da5f65-5ecd-4399-b0c4-7f2ca04ef321\",\"type\":\"Rect\"},\"hover_glyph\":null,\"nonselection_glyph\":null,\"selection_glyph\":null},\"id\":\"448c5ec7-0a78-4b6f-8ddd-ae51e7de8ae6\",\"type\":\"GlyphRenderer\"},{\"attributes\":{\"fill_alpha\":{\"field\":\"fill_alpha\"},\"fill_color\":{\"field\":\"color\"},\"height\":{\"field\":\"height\",\"units\":\"data\"},\"line_color\":{\"field\":\"line_color\"},\"width\":{\"field\":\"width\",\"units\":\"data\"},\"x\":{\"field\":\"x\"},\"y\":{\"field\":\"y\"}},\"id\":\"64152dd5-2749-48c3-a4fe-1bfdad72f4e6\",\"type\":\"Rect\"},{\"attributes\":{\"data_source\":{\"id\":\"bb83bac2-ec1b-4bb8-8564-582456d772d6\",\"type\":\"ColumnDataSource\"},\"glyph\":{\"id\":\"b695ef56-8127-4f0d-8bd9-12f57a4b2aa4\",\"type\":\"Rect\"},\"hover_glyph\":null,\"nonselection_glyph\":null,\"selection_glyph\":null},\"id\":\"9545b7f5-7ea5-42c1-be09-841e47d28383\",\"type\":\"GlyphRenderer\"},{\"attributes\":{\"data_source\":{\"id\":\"6d56969d-8a45-4792-8b70-17f9297811ff\",\"type\":\"ColumnDataSource\"},\"glyph\":{\"id\":\"e1bb27d6-91a2-45e0-8a62-462d2aac5291\",\"type\":\"Rect\"},\"hover_glyph\":null,\"nonselection_glyph\":null,\"selection_glyph\":null},\"id\":\"a7809d6f-e71b-4eff-90b3-4a820e51a8da\",\"type\":\"GlyphRenderer\"},{\"attributes\":{\"data_source\":{\"id\":\"01dee5c9-6d23-43e6-8709-10030886bd3c\",\"type\":\"ColumnDataSource\"},\"glyph\":{\"id\":\"2cb4aeb8-db28-43bd-927e-57d5ce3a9fac\",\"type\":\"Rect\"},\"hover_glyph\":null,\"nonselection_glyph\":null,\"selection_glyph\":null},\"id\":\"38a6b380-c2a0-4feb-ab72-c1e5bfb6ac74\",\"type\":\"GlyphRenderer\"},{\"attributes\":{\"fill_alpha\":{\"field\":\"fill_alpha\"},\"fill_color\":{\"field\":\"color\"},\"height\":{\"field\":\"height\",\"units\":\"data\"},\"line_color\":{\"field\":\"line_color\"},\"width\":{\"field\":\"width\",\"units\":\"data\"},\"x\":{\"field\":\"x\"},\"y\":{\"field\":\"y\"}},\"id\":\"d0bcd309-13cb-48af-b4a9-87e63333b950\",\"type\":\"Rect\"},{\"attributes\":{\"fill_alpha\":{\"field\":\"fill_alpha\"},\"fill_color\":{\"field\":\"color\"},\"height\":{\"field\":\"height\",\"units\":\"data\"},\"line_color\":{\"field\":\"line_color\"},\"width\":{\"field\":\"width\",\"units\":\"data\"},\"x\":{\"field\":\"x\"},\"y\":{\"field\":\"y\"}},\"id\":\"5f7b0b89-71c9-45cf-86e7-6665268f6934\",\"type\":\"Rect\"},{\"attributes\":{\"fill_alpha\":{\"field\":\"fill_alpha\"},\"fill_color\":{\"field\":\"color\"},\"height\":{\"field\":\"height\",\"units\":\"data\"},\"line_color\":{\"field\":\"line_color\"},\"width\":{\"field\":\"width\",\"units\":\"data\"},\"x\":{\"field\":\"x\"},\"y\":{\"field\":\"y\"}},\"id\":\"b695ef56-8127-4f0d-8bd9-12f57a4b2aa4\",\"type\":\"Rect\"},{\"attributes\":{\"children\":[{\"id\":\"ad32cd6e-51bf-476a-9892-8808b5f127c0\",\"subtype\":\"Chart\",\"type\":\"Plot\"},{\"id\":\"c89f67d9-19b8-4654-aad1-6eeb8f6e09b5\",\"subtype\":\"Chart\",\"type\":\"Plot\"}]},\"id\":\"20e6d604-b91d-412b-bc73-2ac858139da7\",\"type\":\"Row\"},{\"attributes\":{\"axis_label\":\"Count( Ddif )\",\"formatter\":{\"id\":\"dbacfbda-9315-43db-81fd-ea8f68dc25e7\",\"type\":\"BasicTickFormatter\"},\"plot\":{\"id\":\"c524588b-1bc5-4bf2-8247-3153e8bfa736\",\"subtype\":\"Chart\",\"type\":\"Plot\"},\"ticker\":{\"id\":\"287db95b-5996-4c47-81b2-8b41fb691410\",\"type\":\"BasicTicker\"}},\"id\":\"82791aa7-c9b1-4a6e-ba85-b0b340bb1d08\",\"type\":\"LinearAxis\"},{\"attributes\":{\"callback\":null,\"end\":5.5},\"id\":\"78ce2618-1018-49c5-b168-66cc76ab0c70\",\"type\":\"Range1d\"},{\"attributes\":{\"data_source\":{\"id\":\"db09b177-f5a4-48b6-a643-3f501758beb5\",\"type\":\"ColumnDataSource\"},\"glyph\":{\"id\":\"ea824af9-2a19-489d-bd51-d3ae4552b786\",\"type\":\"Rect\"},\"hover_glyph\":null,\"nonselection_glyph\":null,\"selection_glyph\":null},\"id\":\"4ba6584e-8ddd-4e18-ba66-ea1e2ce3e7a7\",\"type\":\"GlyphRenderer\"},{\"attributes\":{\"data_source\":{\"id\":\"aa90d4f9-a3e5-4064-a666-15902d6b9408\",\"type\":\"ColumnDataSource\"},\"glyph\":{\"id\":\"5c459b05-3ae9-44ea-b5f6-0c356e713553\",\"type\":\"Rect\"},\"hover_glyph\":null,\"nonselection_glyph\":null,\"selection_glyph\":null},\"id\":\"c7d65909-01dc-4618-80ed-38015cdcb507\",\"type\":\"GlyphRenderer\"},{\"attributes\":{\"dimension\":1,\"plot\":{\"id\":\"ad32cd6e-51bf-476a-9892-8808b5f127c0\",\"subtype\":\"Chart\",\"type\":\"Plot\"},\"ticker\":{\"id\":\"9e6edbb4-bd14-4084-a207-7600ebc29513\",\"type\":\"BasicTicker\"}},\"id\":\"f89f4e94-1178-45b5-a624-7da56ef4f87b\",\"type\":\"Grid\"},{\"attributes\":{\"callback\":null,\"column_names\":[\"label\",\"width\",\"fill_alpha\",\"line_color\",\"height\",\"y\",\"color\",\"line_alpha\",\"x\"],\"data\":{\"chart_index\":[\"[-23.000000, -17.600000]\"],\"color\":[\"#0000AA\"],\"fill_alpha\":[0.8],\"height\":[4.0],\"label\":[\"[-23.000000, -17.600000]\"],\"line_alpha\":[1.0],\"line_color\":[\"black\"],\"width\":[5.399999999999999],\"x\":[\"-20.3\"],\"y\":[2.0]}},\"id\":\"85bf8f9d-0685-4e71-8f7e-583e4d0eaeaa\",\"type\":\"ColumnDataSource\"},{\"attributes\":{\"plot\":{\"id\":\"c89f67d9-19b8-4654-aad1-6eeb8f6e09b5\",\"subtype\":\"Chart\",\"type\":\"Plot\"}},\"id\":\"2d6b7d39-c5d4-4326-9afe-93db55d14762\",\"type\":\"SaveTool\"},{\"attributes\":{\"below\":[{\"id\":\"4c2e61f4-54b5-4631-ae0a-0b5d852f3337\",\"type\":\"LinearAxis\"}],\"css_classes\":null,\"height\":480,\"left\":[{\"id\":\"dcf4006b-02ec-4019-bb00-324f44fa995f\",\"type\":\"LinearAxis\"}],\"renderers\":[{\"id\":\"e6c38c5d-86e8-49a7-a642-95949de2222b\",\"type\":\"BoxAnnotation\"},{\"id\":\"54085c11-0059-4869-9554-0ba5eebeae13\",\"type\":\"GlyphRenderer\"},{\"id\":\"0116c9b5-0199-4676-b447-e040ab9fbd78\",\"type\":\"GlyphRenderer\"},{\"id\":\"448b3d88-695f-4e19-9beb-fcd475257a56\",\"type\":\"GlyphRenderer\"},{\"id\":\"81a21e2f-a1e4-4e44-88f9-cab5b50e09ea\",\"type\":\"GlyphRenderer\"},{\"id\":\"2fde0b02-fab5-4e75-868f-0a0c61eea6b9\",\"type\":\"GlyphRenderer\"},{\"id\":\"e5adc15c-4b73-4395-be8a-cce450740ec2\",\"type\":\"GlyphRenderer\"},{\"id\":\"67e95c8f-d98f-4123-9dc8-ca2c3a749275\",\"type\":\"GlyphRenderer\"},{\"id\":\"8518a7ed-fb62-4b0e-9b5c-712a06128a8b\",\"type\":\"GlyphRenderer\"},{\"id\":\"a7809d6f-e71b-4eff-90b3-4a820e51a8da\",\"type\":\"GlyphRenderer\"},{\"id\":\"69d2ed17-c299-4a15-b873-29ce7b986212\",\"type\":\"GlyphRenderer\"},{\"id\":\"24f59fdb-8d1d-4b3a-bb5a-e0733b6ed71c\",\"type\":\"GlyphRenderer\"},{\"id\":\"91130d68-5b3b-444a-8b69-0a471ef83fb0\",\"type\":\"GlyphRenderer\"},{\"id\":\"540b8954-90d6-46d5-b892-ac5970047b92\",\"type\":\"GlyphRenderer\"},{\"id\":\"9545b7f5-7ea5-42c1-be09-841e47d28383\",\"type\":\"GlyphRenderer\"},{\"id\":\"d7d046dc-dc05-480f-bcf2-ad27da481f36\",\"type\":\"GlyphRenderer\"},{\"id\":\"668304cc-96b1-4c26-a096-163793613c44\",\"type\":\"GlyphRenderer\"},{\"id\":\"426f2147-0f11-48e1-a1d2-75d790c2703a\",\"type\":\"GlyphRenderer\"},{\"id\":\"c4bc068b-8226-47e8-8ec1-50138ac84154\",\"type\":\"GlyphRenderer\"},{\"id\":\"a0a28ed4-0cb2-4e26-942e-adccb8d5f50d\",\"type\":\"GlyphRenderer\"},{\"id\":\"01aa6a6e-bc84-4eb2-a4a9-5b808a145890\",\"type\":\"GlyphRenderer\"},{\"id\":\"33eaf7d8-83c0-4f2d-a71f-648bf042f7b8\",\"type\":\"Legend\"},{\"id\":\"4c2e61f4-54b5-4631-ae0a-0b5d852f3337\",\"type\":\"LinearAxis\"},{\"id\":\"dcf4006b-02ec-4019-bb00-324f44fa995f\",\"type\":\"LinearAxis\"},{\"id\":\"c34c363b-31a5-4dd8-824a-37d567fa6afd\",\"type\":\"Grid\"}],\"title\":{\"id\":\"180df25f-8e93-447e-9867-febe1583a074\",\"type\":\"Title\"},\"tool_events\":{\"id\":\"0d76ff16-47ef-4e2b-9b26-c9ea2932c418\",\"type\":\"ToolEvents\"},\"toolbar\":{\"id\":\"f9a77899-9178-4718-bc1f-710fdf1804f2\",\"type\":\"Toolbar\"},\"toolbar_location\":null,\"width\":480,\"x_mapper_type\":\"auto\",\"x_range\":{\"id\":\"64e01d5c-737e-4311-99f7-933807845222\",\"type\":\"Range1d\"},\"y_mapper_type\":\"auto\",\"y_range\":{\"id\":\"75a731d2-a503-475e-96b1-9912e9837fc1\",\"type\":\"Range1d\"}},\"id\":\"c89f67d9-19b8-4654-aad1-6eeb8f6e09b5\",\"subtype\":\"Chart\",\"type\":\"Plot\"},{\"attributes\":{\"data_source\":{\"id\":\"8cbcaaaf-8105-4da3-9399-ea1f6f7a9453\",\"type\":\"ColumnDataSource\"},\"glyph\":{\"id\":\"e34117b4-d878-4ae1-aeca-59bfe1a567cb\",\"type\":\"Rect\"},\"hover_glyph\":null,\"nonselection_glyph\":null,\"selection_glyph\":null},\"id\":\"3b2056da-3827-420f-85a4-8ee7a4afe413\",\"type\":\"GlyphRenderer\"},{\"attributes\":{\"fill_alpha\":{\"field\":\"fill_alpha\"},\"fill_color\":{\"field\":\"color\"},\"height\":{\"field\":\"height\",\"units\":\"data\"},\"line_color\":{\"field\":\"line_color\"},\"width\":{\"field\":\"width\",\"units\":\"data\"},\"x\":{\"field\":\"x\"},\"y\":{\"field\":\"y\"}},\"id\":\"75c36bee-524a-47bf-9e6e-963f0e7b2c0f\",\"type\":\"Rect\"},{\"attributes\":{\"plot\":{\"id\":\"ad32cd6e-51bf-476a-9892-8808b5f127c0\",\"subtype\":\"Chart\",\"type\":\"Plot\"}},\"id\":\"e0b7af10-a0f2-41e8-ba46-bf2577b51801\",\"type\":\"SaveTool\"},{\"attributes\":{\"callback\":null,\"column_names\":[\"label\",\"width\",\"fill_alpha\",\"line_color\",\"height\",\"y\",\"color\",\"line_alpha\",\"x\"],\"data\":{\"chart_index\":[\"(86.300000, 90.600000]\"],\"color\":[\"#f22c40\"],\"fill_alpha\":[0.6],\"height\":[1.0],\"label\":[\"(86.300000, 90.600000]\"],\"line_alpha\":[1.0],\"line_color\":[\"black\"],\"width\":[4.299999999999997],\"x\":[\"88.44999999999999\"],\"y\":[0.5]}},\"id\":\"3bc7e31d-9951-4845-9993-5f643ab94d44\",\"type\":\"ColumnDataSource\"},{\"attributes\":{\"bottom_units\":\"screen\",\"fill_alpha\":{\"value\":0.5},\"fill_color\":{\"value\":\"lightgrey\"},\"left_units\":\"screen\",\"level\":\"overlay\",\"line_alpha\":{\"value\":1.0},\"line_color\":{\"value\":\"black\"},\"line_dash\":[4,4],\"line_width\":{\"value\":2},\"plot\":null,\"render_mode\":\"css\",\"right_units\":\"screen\",\"top_units\":\"screen\"},\"id\":\"e6c38c5d-86e8-49a7-a642-95949de2222b\",\"type\":\"BoxAnnotation\"},{\"attributes\":{\"plot\":null,\"text\":\"After-Before Dia Blood Preasure\"},\"id\":\"dc946539-61b2-49d4-9c54-c6aa7d27f447\",\"type\":\"Title\"},{\"attributes\":{\"active_drag\":\"auto\",\"active_scroll\":\"auto\",\"active_tap\":\"auto\",\"tools\":[{\"id\":\"ab874634-7d80-425e-a021-7b5aff3d4daf\",\"type\":\"PanTool\"},{\"id\":\"7d7c07ce-47f1-4873-a63c-3783bd166f85\",\"type\":\"WheelZoomTool\"},{\"id\":\"b519496f-6fac-47ad-9c0c-59f4687bb803\",\"type\":\"BoxZoomTool\"},{\"id\":\"e0b7af10-a0f2-41e8-ba46-bf2577b51801\",\"type\":\"SaveTool\"},{\"id\":\"2413bd4d-d71a-4a9d-a919-2a214f6abc97\",\"type\":\"ResetTool\"},{\"id\":\"fd4a63c4-0938-45d1-9718-a4a8a3842f75\",\"type\":\"HelpTool\"}]},\"id\":\"1ab751a8-9899-40cb-b8f3-f69df7b2b569\",\"type\":\"Toolbar\"},{\"attributes\":{\"bottom_units\":\"screen\",\"fill_alpha\":{\"value\":0.5},\"fill_color\":{\"value\":\"lightgrey\"},\"left_units\":\"screen\",\"level\":\"overlay\",\"line_alpha\":{\"value\":1.0},\"line_color\":{\"value\":\"black\"},\"line_dash\":[4,4],\"line_width\":{\"value\":2},\"plot\":null,\"render_mode\":\"css\",\"right_units\":\"screen\",\"top_units\":\"screen\"},\"id\":\"e361577e-7f14-46a2-951f-1dbe2381f7d2\",\"type\":\"BoxAnnotation\"},{\"attributes\":{},\"id\":\"6f8b3cee-6644-4753-be7c-f052d695938f\",\"type\":\"ToolEvents\"},{\"attributes\":{\"data_source\":{\"id\":\"bd9d861f-96ff-4335-be8f-c4de7cc1e21b\",\"type\":\"ColumnDataSource\"},\"glyph\":{\"id\":\"1ecf87f9-62be-4b1a-9303-4f902becdeac\",\"type\":\"Rect\"},\"hover_glyph\":null,\"nonselection_glyph\":null,\"selection_glyph\":null},\"id\":\"ad6b2d4c-b2d5-4460-b737-2c0832d760d7\",\"type\":\"GlyphRenderer\"},{\"attributes\":{},\"id\":\"8265f14a-4fb0-41ec-a281-b4ab07ea6ed8\",\"type\":\"BasicTickFormatter\"},{\"attributes\":{\"data_source\":{\"id\":\"eeb52f6f-b9cf-43c4-a552-8e12d417b0a0\",\"type\":\"ColumnDataSource\"},\"glyph\":{\"id\":\"1b9645e4-9c2e-4771-ac95-9693f18da6c2\",\"type\":\"Rect\"},\"hover_glyph\":null,\"nonselection_glyph\":null,\"selection_glyph\":null},\"id\":\"7d735df5-a066-4227-bb56-80f477a734b9\",\"type\":\"GlyphRenderer\"},{\"attributes\":{\"callback\":null,\"column_names\":[\"label\",\"width\",\"fill_alpha\",\"line_color\",\"height\",\"y\",\"color\",\"line_alpha\",\"x\"],\"data\":{\"chart_index\":[\"[98.000000, 101.200000]\"],\"color\":[\"#5ab738\"],\"fill_alpha\":[0.6],\"height\":[3.0],\"label\":[\"[98.000000, 101.200000]\"],\"line_alpha\":[1.0],\"line_color\":[\"black\"],\"width\":[3.200000000000003],\"x\":[\"99.6\"],\"y\":[1.5]}},\"id\":\"598cea74-c6f6-4c44-b6b2-e95c4c712eed\",\"type\":\"ColumnDataSource\"},{\"attributes\":{\"data_source\":{\"id\":\"03758de1-423c-4849-b100-b83726394964\",\"type\":\"ColumnDataSource\"},\"glyph\":{\"id\":\"0921f03e-6569-4efb-8aaf-b36d22e11741\",\"type\":\"Rect\"},\"hover_glyph\":null,\"nonselection_glyph\":null,\"selection_glyph\":null},\"id\":\"d77faefa-9cfd-41b2-8686-f117ec244d0b\",\"type\":\"GlyphRenderer\"},{\"attributes\":{\"items\":[{\"id\":\"2403e628-5813-4025-a6d6-7f8744a468d8\",\"type\":\"LegendItem\"},{\"id\":\"160daf59-badb-47b8-a153-0f9a36052b8b\",\"type\":\"LegendItem\"}],\"plot\":{\"id\":\"ad32cd6e-51bf-476a-9892-8808b5f127c0\",\"subtype\":\"Chart\",\"type\":\"Plot\"}},\"id\":\"b8fa1d4e-6eb9-4c1b-9eb7-72402f46eea8\",\"type\":\"Legend\"},{\"attributes\":{\"plot\":{\"id\":\"c524588b-1bc5-4bf2-8247-3153e8bfa736\",\"subtype\":\"Chart\",\"type\":\"Plot\"}},\"id\":\"86a9baa3-28aa-4d9f-ab6b-07393ca12791\",\"type\":\"WheelZoomTool\"},{\"attributes\":{\"plot\":{\"id\":\"c524588b-1bc5-4bf2-8247-3153e8bfa736\",\"subtype\":\"Chart\",\"type\":\"Plot\"}},\"id\":\"c4dc9b65-75a6-4512-9a76-9009a2afe2b5\",\"type\":\"ResetTool\"},{\"attributes\":{\"plot\":null,\"text\":\"After-Before Sys Blood Preasure\"},\"id\":\"be43a484-60c6-4380-82f6-f02d94f1a52c\",\"type\":\"Title\"},{\"attributes\":{\"fill_alpha\":{\"field\":\"fill_alpha\"},\"fill_color\":{\"field\":\"color\"},\"height\":{\"field\":\"height\",\"units\":\"data\"},\"line_color\":{\"field\":\"line_color\"},\"width\":{\"field\":\"width\",\"units\":\"data\"},\"x\":{\"field\":\"x\"},\"y\":{\"field\":\"y\"}},\"id\":\"90960c36-3860-4d48-9d77-7c3d462db05d\",\"type\":\"Rect\"},{\"attributes\":{\"plot\":{\"id\":\"0394d956-6e75-4277-8eea-68b538600a61\",\"subtype\":\"Chart\",\"type\":\"Plot\"}},\"id\":\"3c5ae4d4-4936-4c8a-98bf-d5816798eac0\",\"type\":\"HelpTool\"},{\"attributes\":{\"fill_alpha\":{\"field\":\"fill_alpha\"},\"fill_color\":{\"field\":\"color\"},\"height\":{\"field\":\"height\",\"units\":\"data\"},\"line_color\":{\"field\":\"line_color\"},\"width\":{\"field\":\"width\",\"units\":\"data\"},\"x\":{\"field\":\"x\"},\"y\":{\"field\":\"y\"}},\"id\":\"ba0500e7-c300-4101-b82f-ac6e6d82ec19\",\"type\":\"Rect\"},{\"attributes\":{\"callback\":null,\"column_names\":[\"label\",\"width\",\"fill_alpha\",\"line_color\",\"height\",\"y\",\"color\",\"line_alpha\",\"x\"],\"data\":{\"chart_index\":[\"(179.400000, 186.600000]\"],\"color\":[\"#f22c40\"],\"fill_alpha\":[0.6],\"height\":[1.0],\"label\":[\"(179.400000, 186.600000]\"],\"line_alpha\":[1.0],\"line_color\":[\"black\"],\"width\":[7.199999999999989],\"x\":[\"183.0\"],\"y\":[0.5]}},\"id\":\"bc0f296c-0b8d-44b0-b6e0-ca5fe4466959\",\"type\":\"ColumnDataSource\"},{\"attributes\":{\"data_source\":{\"id\":\"b0fbbe35-2e00-4b42-bb35-e2226970ecd1\",\"type\":\"ColumnDataSource\"},\"glyph\":{\"id\":\"5f7b0b89-71c9-45cf-86e7-6665268f6934\",\"type\":\"Rect\"},\"hover_glyph\":null,\"nonselection_glyph\":null,\"selection_glyph\":null},\"id\":\"426f2147-0f11-48e1-a1d2-75d790c2703a\",\"type\":\"GlyphRenderer\"},{\"attributes\":{\"callback\":null,\"column_names\":[\"label\",\"width\",\"fill_alpha\",\"line_color\",\"height\",\"y\",\"color\",\"line_alpha\",\"x\"],\"data\":{\"chart_index\":[\"(165.200000, 171.600000]\"],\"color\":[\"#5ab738\"],\"fill_alpha\":[0.6],\"height\":[2.0],\"label\":[\"(165.200000, 171.600000]\"],\"line_alpha\":[1.0],\"line_color\":[\"black\"],\"width\":[6.400000000000006],\"x\":[\"168.39999999999998\"],\"y\":[1.0]}},\"id\":\"c9d8e745-b6cc-48f5-94e2-832e14f394d1\",\"type\":\"ColumnDataSource\"},{\"attributes\":{\"fill_alpha\":{\"field\":\"fill_alpha\"},\"fill_color\":{\"field\":\"color\"},\"height\":{\"field\":\"height\",\"units\":\"data\"},\"line_color\":{\"field\":\"line_color\"},\"width\":{\"field\":\"width\",\"units\":\"data\"},\"x\":{\"field\":\"x\"},\"y\":{\"field\":\"y\"}},\"id\":\"1773090a-ba3a-494d-9c03-399f21a4e6b1\",\"type\":\"Rect\"},{\"attributes\":{},\"id\":\"3b31ae8d-8c3b-4695-bcd3-e1662673b958\",\"type\":\"BasicTickFormatter\"},{\"attributes\":{\"callback\":null,\"column_names\":[\"label\",\"width\",\"fill_alpha\",\"line_color\",\"height\",\"y\",\"color\",\"line_alpha\",\"x\"],\"data\":{\"chart_index\":[\"(104.400000, 107.600000]\"],\"color\":[\"#5ab738\"],\"fill_alpha\":[0.6],\"height\":[2.0],\"label\":[\"(104.400000, 107.600000]\"],\"line_alpha\":[1.0],\"line_color\":[\"black\"],\"width\":[3.1999999999999886],\"x\":[\"106.0\"],\"y\":[1.0]}},\"id\":\"454111bb-ccd2-4b5f-bb83-2a148825cee3\",\"type\":\"ColumnDataSource\"},{\"attributes\":{\"plot\":{\"id\":\"0394d956-6e75-4277-8eea-68b538600a61\",\"subtype\":\"Chart\",\"type\":\"Plot\"}},\"id\":\"f6cb84b6-05c6-4cc7-98b6-35cf727a4a98\",\"type\":\"PanTool\"},{\"attributes\":{\"callback\":null,\"column_names\":[\"label\",\"width\",\"fill_alpha\",\"line_color\",\"height\",\"y\",\"color\",\"line_alpha\",\"x\"],\"data\":{\"chart_index\":[\"(-1.400000, 4.000000]\"],\"color\":[\"#0000AA\"],\"fill_alpha\":[0.8],\"height\":[3.0],\"label\":[\"(-1.400000, 4.000000]\"],\"line_alpha\":[1.0],\"line_color\":[\"black\"],\"width\":[5.399999999999999],\"x\":[\"1.3\"],\"y\":[1.5]}},\"id\":\"8cbcaaaf-8105-4da3-9399-ea1f6f7a9453\",\"type\":\"ColumnDataSource\"},{\"attributes\":{\"fill_alpha\":{\"field\":\"fill_alpha\"},\"fill_color\":{\"field\":\"color\"},\"height\":{\"field\":\"height\",\"units\":\"data\"},\"line_color\":{\"field\":\"line_color\"},\"width\":{\"field\":\"width\",\"units\":\"data\"},\"x\":{\"field\":\"x\"},\"y\":{\"field\":\"y\"}},\"id\":\"ea824af9-2a19-489d-bd51-d3ae4552b786\",\"type\":\"Rect\"},{\"attributes\":{\"fill_alpha\":{\"field\":\"fill_alpha\"},\"fill_color\":{\"field\":\"color\"},\"height\":{\"field\":\"height\",\"units\":\"data\"},\"line_color\":{\"field\":\"line_color\"},\"width\":{\"field\":\"width\",\"units\":\"data\"},\"x\":{\"field\":\"x\"},\"y\":{\"field\":\"y\"}},\"id\":\"4c900218-7fa7-4316-8644-6f885834b983\",\"type\":\"Rect\"},{\"attributes\":{\"plot\":null,\"text\":\"Before and After Sys Blood Preasure\"},\"id\":\"180df25f-8e93-447e-9867-febe1583a074\",\"type\":\"Title\"},{\"attributes\":{\"data_source\":{\"id\":\"c9d8e745-b6cc-48f5-94e2-832e14f394d1\",\"type\":\"ColumnDataSource\"},\"glyph\":{\"id\":\"217d7b1a-e401-4767-a741-594d8cbef69c\",\"type\":\"Rect\"},\"hover_glyph\":null,\"nonselection_glyph\":null,\"selection_glyph\":null},\"id\":\"c9d65dca-7820-4542-b0c6-e57f62ab6885\",\"type\":\"GlyphRenderer\"},{\"attributes\":{},\"id\":\"ab46170f-0bab-430a-8a17-75c5b045a0b0\",\"type\":\"BasicTickFormatter\"},{\"attributes\":{\"data_source\":{\"id\":\"1c32c57f-db48-4229-8a54-55c4a71ad83d\",\"type\":\"ColumnDataSource\"},\"glyph\":{\"id\":\"f33c91af-0bb0-49e4-a776-8e569ec64c5c\",\"type\":\"Rect\"},\"hover_glyph\":null,\"nonselection_glyph\":null,\"selection_glyph\":null},\"id\":\"bd89e4ff-941d-45a8-a8a8-946eb40c383b\",\"type\":\"GlyphRenderer\"},{\"attributes\":{\"callback\":null,\"column_names\":[\"label\",\"width\",\"fill_alpha\",\"line_color\",\"height\",\"y\",\"color\",\"line_alpha\",\"x\"],\"data\":{\"chart_index\":[\"(-21.000000, -15.000000]\"],\"color\":[\"#00AA00\"],\"fill_alpha\":[0.8],\"height\":[5.0],\"label\":[\"(-21.000000, -15.000000]\"],\"line_alpha\":[1.0],\"line_color\":[\"black\"],\"width\":[6.0],\"x\":[\"-18.0\"],\"y\":[2.5]}},\"id\":\"b7b82a7a-d842-43e7-acbc-299549fb2ae8\",\"type\":\"ColumnDataSource\"},{\"attributes\":{\"callback\":null,\"column_names\":[\"label\",\"width\",\"fill_alpha\",\"line_color\",\"height\",\"y\",\"color\",\"line_alpha\",\"x\"],\"data\":{\"chart_index\":[\"[82.000000, 86.300000]\"],\"color\":[\"#f22c40\"],\"fill_alpha\":[0.6],\"height\":[2.0],\"label\":[\"[82.000000, 86.300000]\"],\"line_alpha\":[1.0],\"line_color\":[\"black\"],\"width\":[4.299999999999997],\"x\":[\"84.15\"],\"y\":[1.0]}},\"id\":\"982a704d-f36a-47da-b159-2cff1fa29b4e\",\"type\":\"ColumnDataSource\"},{\"attributes\":{\"fill_alpha\":{\"field\":\"fill_alpha\"},\"fill_color\":{\"field\":\"color\"},\"height\":{\"field\":\"height\",\"units\":\"data\"},\"line_color\":{\"field\":\"line_color\"},\"width\":{\"field\":\"width\",\"units\":\"data\"},\"x\":{\"field\":\"x\"},\"y\":{\"field\":\"y\"}},\"id\":\"adf0122c-c2be-4295-9aef-838567ab3cfd\",\"type\":\"Rect\"},{\"attributes\":{},\"id\":\"287db95b-5996-4c47-81b2-8b41fb691410\",\"type\":\"BasicTicker\"},{\"attributes\":{\"fill_alpha\":{\"field\":\"fill_alpha\"},\"fill_color\":{\"field\":\"color\"},\"height\":{\"field\":\"height\",\"units\":\"data\"},\"line_color\":{\"field\":\"line_color\"},\"width\":{\"field\":\"width\",\"units\":\"data\"},\"x\":{\"field\":\"x\"},\"y\":{\"field\":\"y\"}},\"id\":\"2fe9e9b8-cf0d-4bed-a7d8-43067d278259\",\"type\":\"Rect\"},{\"attributes\":{\"label\":{\"value\":\"dbefore\"},\"renderers\":[{\"id\":\"54085c11-0059-4869-9554-0ba5eebeae13\",\"type\":\"GlyphRenderer\"},{\"id\":\"0116c9b5-0199-4676-b447-e040ab9fbd78\",\"type\":\"GlyphRenderer\"},{\"id\":\"448b3d88-695f-4e19-9beb-fcd475257a56\",\"type\":\"GlyphRenderer\"},{\"id\":\"81a21e2f-a1e4-4e44-88f9-cab5b50e09ea\",\"type\":\"GlyphRenderer\"},{\"id\":\"2fde0b02-fab5-4e75-868f-0a0c61eea6b9\",\"type\":\"GlyphRenderer\"},{\"id\":\"e5adc15c-4b73-4395-be8a-cce450740ec2\",\"type\":\"GlyphRenderer\"},{\"id\":\"67e95c8f-d98f-4123-9dc8-ca2c3a749275\",\"type\":\"GlyphRenderer\"},{\"id\":\"8518a7ed-fb62-4b0e-9b5c-712a06128a8b\",\"type\":\"GlyphRenderer\"},{\"id\":\"a7809d6f-e71b-4eff-90b3-4a820e51a8da\",\"type\":\"GlyphRenderer\"},{\"id\":\"69d2ed17-c299-4a15-b873-29ce7b986212\",\"type\":\"GlyphRenderer\"}]},\"id\":\"7991273c-b79c-40de-8ffa-009bdeefddbf\",\"type\":\"LegendItem\"},{\"attributes\":{\"callback\":null,\"column_names\":[\"label\",\"width\",\"fill_alpha\",\"line_color\",\"height\",\"y\",\"color\",\"line_alpha\",\"x\"],\"data\":{\"chart_index\":[\"(-12.200000, -6.800000]\"],\"color\":[\"#0000AA\"],\"fill_alpha\":[0.8],\"height\":[3.0],\"label\":[\"(-12.200000, -6.800000]\"],\"line_alpha\":[1.0],\"line_color\":[\"black\"],\"width\":[5.400000000000002],\"x\":[\"-9.5\"],\"y\":[1.5]}},\"id\":\"9d208de6-f39f-4e50-945f-e54462bd753a\",\"type\":\"ColumnDataSource\"},{\"attributes\":{\"fill_alpha\":{\"field\":\"fill_alpha\"},\"fill_color\":{\"field\":\"color\"},\"height\":{\"field\":\"height\",\"units\":\"data\"},\"line_color\":{\"field\":\"line_color\"},\"width\":{\"field\":\"width\",\"units\":\"data\"},\"x\":{\"field\":\"x\"},\"y\":{\"field\":\"y\"}},\"id\":\"f33c91af-0bb0-49e4-a776-8e569ec64c5c\",\"type\":\"Rect\"},{\"attributes\":{\"data_source\":{\"id\":\"408634a9-ae59-4504-9cac-eec1c6dadda9\",\"type\":\"ColumnDataSource\"},\"glyph\":{\"id\":\"d0bcd309-13cb-48af-b4a9-87e63333b950\",\"type\":\"Rect\"},\"hover_glyph\":null,\"nonselection_glyph\":null,\"selection_glyph\":null},\"id\":\"67e95c8f-d98f-4123-9dc8-ca2c3a749275\",\"type\":\"GlyphRenderer\"},{\"attributes\":{\"callback\":null,\"column_names\":[\"label\",\"width\",\"fill_alpha\",\"line_color\",\"height\",\"y\",\"color\",\"line_alpha\",\"x\"],\"data\":{\"chart_index\":[\"(120.400000, 123.600000]\"],\"color\":[\"#5ab738\"],\"fill_alpha\":[0.6],\"height\":[2.0],\"label\":[\"(120.400000, 123.600000]\"],\"line_alpha\":[1.0],\"line_color\":[\"black\"],\"width\":[3.1999999999999886],\"x\":[\"122.0\"],\"y\":[1.0]}},\"id\":\"3abf57d5-5987-4abc-94cd-04adb5d28411\",\"type\":\"ColumnDataSource\"},{\"attributes\":{},\"id\":\"167be257-817a-4413-951f-1733c52fec41\",\"type\":\"ToolEvents\"},{\"attributes\":{\"fill_alpha\":{\"field\":\"fill_alpha\"},\"fill_color\":{\"field\":\"color\"},\"height\":{\"field\":\"height\",\"units\":\"data\"},\"line_color\":{\"field\":\"line_color\"},\"width\":{\"field\":\"width\",\"units\":\"data\"},\"x\":{\"field\":\"x\"},\"y\":{\"field\":\"y\"}},\"id\":\"79d52657-41f4-44af-a076-47956ab706a3\",\"type\":\"Rect\"},{\"attributes\":{\"data_source\":{\"id\":\"f1014228-eddb-4dbe-9c39-129d430c9259\",\"type\":\"ColumnDataSource\"},\"glyph\":{\"id\":\"7f4586d3-1e5a-41bc-be7a-60eb322a8224\",\"type\":\"Rect\"},\"hover_glyph\":null,\"nonselection_glyph\":null,\"selection_glyph\":null},\"id\":\"69d2ed17-c299-4a15-b873-29ce7b986212\",\"type\":\"GlyphRenderer\"},{\"attributes\":{},\"id\":\"ec968c47-4260-485d-aabf-f6312ce4f9b3\",\"type\":\"BasicTicker\"},{\"attributes\":{},\"id\":\"0d76ff16-47ef-4e2b-9b26-c9ea2932c418\",\"type\":\"ToolEvents\"},{\"attributes\":{\"callback\":null,\"column_names\":[\"label\",\"width\",\"fill_alpha\",\"line_color\",\"height\",\"y\",\"color\",\"line_alpha\",\"x\"],\"data\":{\"chart_index\":[\"(94.900000, 99.200000]\"],\"color\":[\"#f22c40\"],\"fill_alpha\":[0.6],\"height\":[3.0],\"label\":[\"(94.900000, 99.200000]\"],\"line_alpha\":[1.0],\"line_color\":[\"black\"],\"width\":[4.299999999999997],\"x\":[\"97.05000000000001\"],\"y\":[1.5]}},\"id\":\"bb83bac2-ec1b-4bb8-8564-582456d772d6\",\"type\":\"ColumnDataSource\"},{\"attributes\":{\"callback\":null,\"column_names\":[\"label\",\"width\",\"fill_alpha\",\"line_color\",\"height\",\"y\",\"color\",\"line_alpha\",\"x\"],\"data\":{\"chart_index\":[\"(172.200000, 179.400000]\"],\"color\":[\"#f22c40\"],\"fill_alpha\":[0.6],\"height\":[1.0],\"label\":[\"(172.200000, 179.400000]\"],\"line_alpha\":[1.0],\"line_color\":[\"black\"],\"width\":[7.200000000000017],\"x\":[\"175.8\"],\"y\":[0.5]}},\"id\":\"43efd9f1-2aff-45b6-9a0c-18cccb039cb1\",\"type\":\"ColumnDataSource\"},{\"attributes\":{},\"id\":\"59b01527-6612-4ebc-b25d-70fd25cf19a6\",\"type\":\"BasicTickFormatter\"},{\"attributes\":{\"fill_alpha\":{\"field\":\"fill_alpha\"},\"fill_color\":{\"field\":\"color\"},\"height\":{\"field\":\"height\",\"units\":\"data\"},\"line_color\":{\"field\":\"line_color\"},\"width\":{\"field\":\"width\",\"units\":\"data\"},\"x\":{\"field\":\"x\"},\"y\":{\"field\":\"y\"}},\"id\":\"501c6818-5994-46a3-9661-98014bcda6f3\",\"type\":\"Rect\"},{\"attributes\":{\"callback\":null,\"end\":3.3000000000000003},\"id\":\"75a731d2-a503-475e-96b1-9912e9837fc1\",\"type\":\"Range1d\"},{\"attributes\":{\"data_source\":{\"id\":\"343b00a1-126b-40e3-be35-9240c01e9790\",\"type\":\"ColumnDataSource\"},\"glyph\":{\"id\":\"bb15c178-46e7-4764-9948-5e3e46f53cde\",\"type\":\"Rect\"},\"hover_glyph\":null,\"nonselection_glyph\":null,\"selection_glyph\":null},\"id\":\"d66fbbf3-2739-4364-87de-3f3f9656f973\",\"type\":\"GlyphRenderer\"},{\"attributes\":{\"fill_alpha\":{\"field\":\"fill_alpha\"},\"fill_color\":{\"field\":\"color\"},\"height\":{\"field\":\"height\",\"units\":\"data\"},\"line_color\":{\"field\":\"line_color\"},\"width\":{\"field\":\"width\",\"units\":\"data\"},\"x\":{\"field\":\"x\"},\"y\":{\"field\":\"y\"}},\"id\":\"7b25a8e3-b9a6-4686-81ee-f9244729e620\",\"type\":\"Rect\"},{\"attributes\":{\"data_source\":{\"id\":\"3bc7e31d-9951-4845-9993-5f643ab94d44\",\"type\":\"ColumnDataSource\"},\"glyph\":{\"id\":\"8c7c4a3d-9f5a-41d0-bd68-75c0b4205cc6\",\"type\":\"Rect\"},\"hover_glyph\":null,\"nonselection_glyph\":null,\"selection_glyph\":null},\"id\":\"91130d68-5b3b-444a-8b69-0a471ef83fb0\",\"type\":\"GlyphRenderer\"},{\"attributes\":{\"fill_alpha\":{\"field\":\"fill_alpha\"},\"fill_color\":{\"field\":\"color\"},\"height\":{\"field\":\"height\",\"units\":\"data\"},\"line_color\":{\"field\":\"line_color\"},\"width\":{\"field\":\"width\",\"units\":\"data\"},\"x\":{\"field\":\"x\"},\"y\":{\"field\":\"y\"}},\"id\":\"2ffaed39-ad74-467d-b0f2-3a45842608ae\",\"type\":\"Rect\"},{\"attributes\":{\"axis_label\":\"Count( Value )\",\"formatter\":{\"id\":\"ab46170f-0bab-430a-8a17-75c5b045a0b0\",\"type\":\"BasicTickFormatter\"},\"plot\":{\"id\":\"ad32cd6e-51bf-476a-9892-8808b5f127c0\",\"subtype\":\"Chart\",\"type\":\"Plot\"},\"ticker\":{\"id\":\"9e6edbb4-bd14-4084-a207-7600ebc29513\",\"type\":\"BasicTicker\"}},\"id\":\"137f4edb-e8ba-4f49-9cc1-4ce54b64a79d\",\"type\":\"LinearAxis\"},{\"attributes\":{\"fill_alpha\":{\"field\":\"fill_alpha\"},\"fill_color\":{\"field\":\"color\"},\"height\":{\"field\":\"height\",\"units\":\"data\"},\"line_color\":{\"field\":\"line_color\"},\"width\":{\"field\":\"width\",\"units\":\"data\"},\"x\":{\"field\":\"x\"},\"y\":{\"field\":\"y\"}},\"id\":\"e1bb27d6-91a2-45e0-8a62-462d2aac5291\",\"type\":\"Rect\"},{\"attributes\":{\"axis_label\":\"Count( Sdif )\",\"formatter\":{\"id\":\"ff17137d-2766-4777-a9c4-80b1cd86ffd1\",\"type\":\"BasicTickFormatter\"},\"plot\":{\"id\":\"0394d956-6e75-4277-8eea-68b538600a61\",\"subtype\":\"Chart\",\"type\":\"Plot\"},\"ticker\":{\"id\":\"8e85ddf6-1998-4f1d-9133-3dfbbd1f3bd3\",\"type\":\"BasicTicker\"}},\"id\":\"a776ae10-8033-479d-9dc6-b35f8b18d5b7\",\"type\":\"LinearAxis\"},{\"attributes\":{\"fill_alpha\":{\"field\":\"fill_alpha\"},\"fill_color\":{\"field\":\"color\"},\"height\":{\"field\":\"height\",\"units\":\"data\"},\"line_color\":{\"field\":\"line_color\"},\"width\":{\"field\":\"width\",\"units\":\"data\"},\"x\":{\"field\":\"x\"},\"y\":{\"field\":\"y\"}},\"id\":\"2a5465f5-a59d-47b7-b79a-99dfa69ee61c\",\"type\":\"Rect\"},{\"attributes\":{\"callback\":null,\"column_names\":[\"label\",\"width\",\"fill_alpha\",\"line_color\",\"height\",\"y\",\"color\",\"line_alpha\",\"x\"],\"data\":{\"chart_index\":[\"(165.000000, 172.200000]\"],\"color\":[\"#f22c40\"],\"fill_alpha\":[0.6],\"height\":[4.0],\"label\":[\"(165.000000, 172.200000]\"],\"line_alpha\":[1.0],\"line_color\":[\"black\"],\"width\":[7.199999999999989],\"x\":[\"168.6\"],\"y\":[2.0]}},\"id\":\"1c32c57f-db48-4229-8a54-55c4a71ad83d\",\"type\":\"ColumnDataSource\"},{\"attributes\":{\"data_source\":{\"id\":\"4871b0ed-3de4-4cb3-86b5-1cf401a7b87e\",\"type\":\"ColumnDataSource\"},\"glyph\":{\"id\":\"cbd779b4-8366-4481-9703-239092059d16\",\"type\":\"Rect\"},\"hover_glyph\":null,\"nonselection_glyph\":null,\"selection_glyph\":null},\"id\":\"9c568d44-a3e7-4ec3-84bc-8ce552bb71a4\",\"type\":\"GlyphRenderer\"},{\"attributes\":{\"plot\":{\"id\":\"c524588b-1bc5-4bf2-8247-3153e8bfa736\",\"subtype\":\"Chart\",\"type\":\"Plot\"}},\"id\":\"a30024c6-19ee-409a-ba1a-b46fec6a9c1c\",\"type\":\"SaveTool\"},{\"attributes\":{\"callback\":null,\"column_names\":[\"label\",\"width\",\"fill_alpha\",\"line_color\",\"height\",\"y\",\"color\",\"line_alpha\",\"x\"],\"data\":{\"chart_index\":[\"(90.600000, 94.900000]\"],\"color\":[\"#f22c40\"],\"fill_alpha\":[0.6],\"height\":[0.0],\"label\":[\"(90.600000, 94.900000]\"],\"line_alpha\":[1.0],\"line_color\":[\"black\"],\"width\":[4.300000000000011],\"x\":[\"92.75\"],\"y\":[0.0]}},\"id\":\"d82c84ec-891e-49a9-9cfb-32c82758ce33\",\"type\":\"ColumnDataSource\"},{\"attributes\":{\"callback\":null,\"column_names\":[\"label\",\"width\",\"fill_alpha\",\"line_color\",\"height\",\"y\",\"color\",\"line_alpha\",\"x\"],\"data\":{\"chart_index\":[\"(101.200000, 104.400000]\"],\"color\":[\"#5ab738\"],\"fill_alpha\":[0.6],\"height\":[2.0],\"label\":[\"(101.200000, 104.400000]\"],\"line_alpha\":[1.0],\"line_color\":[\"black\"],\"width\":[3.200000000000003],\"x\":[\"102.80000000000001\"],\"y\":[1.0]}},\"id\":\"46891aeb-2ef4-4b08-a68e-7be481c4ad22\",\"type\":\"ColumnDataSource\"},{\"attributes\":{\"data_source\":{\"id\":\"598cea74-c6f6-4c44-b6b2-e95c4c712eed\",\"type\":\"ColumnDataSource\"},\"glyph\":{\"id\":\"2ffaed39-ad74-467d-b0f2-3a45842608ae\",\"type\":\"Rect\"},\"hover_glyph\":null,\"nonselection_glyph\":null,\"selection_glyph\":null},\"id\":\"54085c11-0059-4869-9554-0ba5eebeae13\",\"type\":\"GlyphRenderer\"},{\"attributes\":{\"dimension\":1,\"plot\":{\"id\":\"0394d956-6e75-4277-8eea-68b538600a61\",\"subtype\":\"Chart\",\"type\":\"Plot\"},\"ticker\":{\"id\":\"8e85ddf6-1998-4f1d-9133-3dfbbd1f3bd3\",\"type\":\"BasicTicker\"}},\"id\":\"511ca3c8-e37b-4dc8-a74e-cd7f93246c77\",\"type\":\"Grid\"},{\"attributes\":{\"data_source\":{\"id\":\"25d57d0f-63b4-4419-80c2-747f0cefd077\",\"type\":\"ColumnDataSource\"},\"glyph\":{\"id\":\"792b2162-1029-43fd-8c95-1b3416f94782\",\"type\":\"Rect\"},\"hover_glyph\":null,\"nonselection_glyph\":null,\"selection_glyph\":null},\"id\":\"48aca083-f23d-48a8-bb28-24a235642775\",\"type\":\"GlyphRenderer\"},{\"attributes\":{\"bottom_units\":\"screen\",\"fill_alpha\":{\"value\":0.5},\"fill_color\":{\"value\":\"lightgrey\"},\"left_units\":\"screen\",\"level\":\"overlay\",\"line_alpha\":{\"value\":1.0},\"line_color\":{\"value\":\"black\"},\"line_dash\":[4,4],\"line_width\":{\"value\":2},\"plot\":null,\"render_mode\":\"css\",\"right_units\":\"screen\",\"top_units\":\"screen\"},\"id\":\"9377a8e7-cb7d-4fbf-b26e-e2b371abe81f\",\"type\":\"BoxAnnotation\"},{\"attributes\":{\"data_source\":{\"id\":\"8dcbc249-d178-4a51-8217-b80256496730\",\"type\":\"ColumnDataSource\"},\"glyph\":{\"id\":\"309ce38a-8641-4cf2-a336-4875b69dc0f6\",\"type\":\"Rect\"},\"hover_glyph\":null,\"nonselection_glyph\":null,\"selection_glyph\":null},\"id\":\"8804a30f-1b45-421c-a423-e0ba23180203\",\"type\":\"GlyphRenderer\"},{\"attributes\":{\"children\":[{\"id\":\"0394d956-6e75-4277-8eea-68b538600a61\",\"subtype\":\"Chart\",\"type\":\"Plot\"},{\"id\":\"c524588b-1bc5-4bf2-8247-3153e8bfa736\",\"subtype\":\"Chart\",\"type\":\"Plot\"}]},\"id\":\"a35cca81-1888-4161-a033-6316c7613d48\",\"type\":\"Row\"},{\"attributes\":{\"callback\":null,\"column_names\":[\"label\",\"width\",\"fill_alpha\",\"line_color\",\"height\",\"y\",\"color\",\"line_alpha\",\"x\"],\"data\":{\"chart_index\":[\"(171.600000, 178.000000]\"],\"color\":[\"#5ab738\"],\"fill_alpha\":[0.6],\"height\":[3.0],\"label\":[\"(171.600000, 178.000000]\"],\"line_alpha\":[1.0],\"line_color\":[\"black\"],\"width\":[6.400000000000006],\"x\":[\"174.8\"],\"y\":[1.5]}},\"id\":\"01dee5c9-6d23-43e6-8709-10030886bd3c\",\"type\":\"ColumnDataSource\"},{\"attributes\":{\"data_source\":{\"id\":\"1f1d6f15-1e22-4383-b61d-1609be980a2f\",\"type\":\"ColumnDataSource\"},\"glyph\":{\"id\":\"6711e8c0-a459-4195-bbb5-36db402b87d9\",\"type\":\"Rect\"},\"hover_glyph\":null,\"nonselection_glyph\":null,\"selection_glyph\":null},\"id\":\"5e84919a-020b-4989-841b-b3e314d5593d\",\"type\":\"GlyphRenderer\"},{\"attributes\":{},\"id\":\"b0363e70-22a0-4d1b-ab24-8d3ca3905cd6\",\"type\":\"BasicTicker\"},{\"attributes\":{\"callback\":null,\"column_names\":[\"label\",\"width\",\"fill_alpha\",\"line_color\",\"height\",\"y\",\"color\",\"line_alpha\",\"x\"],\"data\":{\"chart_index\":[\"(-9.000000, -3.000000]\"],\"color\":[\"#00AA00\"],\"fill_alpha\":[0.8],\"height\":[3.0],\"label\":[\"(-9.000000, -3.000000]\"],\"line_alpha\":[1.0],\"line_color\":[\"black\"],\"width\":[6.0],\"x\":[\"-6.0\"],\"y\":[1.5]}},\"id\":\"3d525976-c384-4d24-ba92-905d66f79a4a\",\"type\":\"ColumnDataSource\"},{\"attributes\":{\"data_source\":{\"id\":\"43efd9f1-2aff-45b6-9a0c-18cccb039cb1\",\"type\":\"ColumnDataSource\"},\"glyph\":{\"id\":\"4c900218-7fa7-4316-8644-6f885834b983\",\"type\":\"Rect\"},\"hover_glyph\":null,\"nonselection_glyph\":null,\"selection_glyph\":null},\"id\":\"30ad818a-abf7-40cd-a115-78807dadeb0d\",\"type\":\"GlyphRenderer\"},{\"attributes\":{\"plot\":{\"id\":\"ad32cd6e-51bf-476a-9892-8808b5f127c0\",\"subtype\":\"Chart\",\"type\":\"Plot\"}},\"id\":\"fd4a63c4-0938-45d1-9718-a4a8a3842f75\",\"type\":\"HelpTool\"},{\"attributes\":{\"data_source\":{\"id\":\"5b80ac2a-26a9-4893-b4f5-67e4a970d4c8\",\"type\":\"ColumnDataSource\"},\"glyph\":{\"id\":\"2669fb09-4f40-4e1b-8db6-ee17ae4e834f\",\"type\":\"Rect\"},\"hover_glyph\":null,\"nonselection_glyph\":null,\"selection_glyph\":null},\"id\":\"d7d046dc-dc05-480f-bcf2-ad27da481f36\",\"type\":\"GlyphRenderer\"},{\"attributes\":{\"fill_alpha\":{\"field\":\"fill_alpha\"},\"fill_color\":{\"field\":\"color\"},\"height\":{\"field\":\"height\",\"units\":\"data\"},\"line_color\":{\"field\":\"line_color\"},\"width\":{\"field\":\"width\",\"units\":\"data\"},\"x\":{\"field\":\"x\"},\"y\":{\"field\":\"y\"}},\"id\":\"f16b9ae7-bbe1-4484-8a88-9be2e331b21d\",\"type\":\"Rect\"},{\"attributes\":{},\"id\":\"291f2266-b8b3-42dc-bbbf-61fa5a1c4532\",\"type\":\"BasicTicker\"},{\"attributes\":{\"axis_label\":\"sdif\",\"formatter\":{\"id\":\"8265f14a-4fb0-41ec-a281-b4ab07ea6ed8\",\"type\":\"BasicTickFormatter\"},\"plot\":{\"id\":\"0394d956-6e75-4277-8eea-68b538600a61\",\"subtype\":\"Chart\",\"type\":\"Plot\"},\"ticker\":{\"id\":\"b0363e70-22a0-4d1b-ab24-8d3ca3905cd6\",\"type\":\"BasicTicker\"}},\"id\":\"7d9f7a7e-7269-46f7-a3d6-9919ba8b447b\",\"type\":\"LinearAxis\"},{\"attributes\":{\"fill_alpha\":{\"field\":\"fill_alpha\"},\"fill_color\":{\"field\":\"color\"},\"height\":{\"field\":\"height\",\"units\":\"data\"},\"line_color\":{\"field\":\"line_color\"},\"width\":{\"field\":\"width\",\"units\":\"data\"},\"x\":{\"field\":\"x\"},\"y\":{\"field\":\"y\"}},\"id\":\"0921f03e-6569-4efb-8aaf-b36d22e11741\",\"type\":\"Rect\"},{\"attributes\":{\"label\":{\"value\":\"dafter\"},\"renderers\":[{\"id\":\"24f59fdb-8d1d-4b3a-bb5a-e0733b6ed71c\",\"type\":\"GlyphRenderer\"},{\"id\":\"91130d68-5b3b-444a-8b69-0a471ef83fb0\",\"type\":\"GlyphRenderer\"},{\"id\":\"540b8954-90d6-46d5-b892-ac5970047b92\",\"type\":\"GlyphRenderer\"},{\"id\":\"9545b7f5-7ea5-42c1-be09-841e47d28383\",\"type\":\"GlyphRenderer\"},{\"id\":\"d7d046dc-dc05-480f-bcf2-ad27da481f36\",\"type\":\"GlyphRenderer\"},{\"id\":\"668304cc-96b1-4c26-a096-163793613c44\",\"type\":\"GlyphRenderer\"},{\"id\":\"426f2147-0f11-48e1-a1d2-75d790c2703a\",\"type\":\"GlyphRenderer\"},{\"id\":\"c4bc068b-8226-47e8-8ec1-50138ac84154\",\"type\":\"GlyphRenderer\"},{\"id\":\"a0a28ed4-0cb2-4e26-942e-adccb8d5f50d\",\"type\":\"GlyphRenderer\"},{\"id\":\"01aa6a6e-bc84-4eb2-a4a9-5b808a145890\",\"type\":\"GlyphRenderer\"}]},\"id\":\"996c5cfc-0973-41bd-a973-59e6fe2e07b9\",\"type\":\"LegendItem\"},{\"attributes\":{\"callback\":null,\"end\":4.4},\"id\":\"8c38c53f-3109-408a-9b2a-4e7a697af5da\",\"type\":\"Range1d\"},{\"attributes\":{\"data_source\":{\"id\":\"aca84fad-f3a2-429a-9c45-591a000023d9\",\"type\":\"ColumnDataSource\"},\"glyph\":{\"id\":\"ceb8d9ce-4462-4ce1-b88d-9666645aa4a5\",\"type\":\"Rect\"},\"hover_glyph\":null,\"nonselection_glyph\":null,\"selection_glyph\":null},\"id\":\"81a21e2f-a1e4-4e44-88f9-cab5b50e09ea\",\"type\":\"GlyphRenderer\"},{\"attributes\":{\"fill_alpha\":{\"field\":\"fill_alpha\"},\"fill_color\":{\"field\":\"color\"},\"height\":{\"field\":\"height\",\"units\":\"data\"},\"line_color\":{\"field\":\"line_color\"},\"width\":{\"field\":\"width\",\"units\":\"data\"},\"x\":{\"field\":\"x\"},\"y\":{\"field\":\"y\"}},\"id\":\"309ce38a-8641-4cf2-a336-4875b69dc0f6\",\"type\":\"Rect\"},{\"attributes\":{\"fill_alpha\":{\"field\":\"fill_alpha\"},\"fill_color\":{\"field\":\"color\"},\"height\":{\"field\":\"height\",\"units\":\"data\"},\"line_color\":{\"field\":\"line_color\"},\"width\":{\"field\":\"width\",\"units\":\"data\"},\"x\":{\"field\":\"x\"},\"y\":{\"field\":\"y\"}},\"id\":\"e109b6a9-33fa-433e-b348-8e8d957e8d8a\",\"type\":\"Rect\"},{\"attributes\":{\"plot\":{\"id\":\"c524588b-1bc5-4bf2-8247-3153e8bfa736\",\"subtype\":\"Chart\",\"type\":\"Plot\"}},\"id\":\"2d16de5e-521d-4e2b-b9d3-0a75969b56ab\",\"type\":\"HelpTool\"},{\"attributes\":{\"callback\":null,\"column_names\":[\"label\",\"width\",\"fill_alpha\",\"line_color\",\"height\",\"y\",\"color\",\"line_alpha\",\"x\"],\"data\":{\"chart_index\":[\"(186.600000, 193.800000]\"],\"color\":[\"#f22c40\"],\"fill_alpha\":[0.6],\"height\":[0.0],\"label\":[\"(186.600000, 193.800000]\"],\"line_alpha\":[1.0],\"line_color\":[\"black\"],\"width\":[7.200000000000017],\"x\":[\"190.2\"],\"y\":[0.0]}},\"id\":\"56d4dcec-7bf6-4a9e-a196-6d1138873df6\",\"type\":\"ColumnDataSource\"},{\"attributes\":{\"plot\":{\"id\":\"c89f67d9-19b8-4654-aad1-6eeb8f6e09b5\",\"subtype\":\"Chart\",\"type\":\"Plot\"}},\"id\":\"a64d5256-a0e0-4564-b0d9-93b72481fee5\",\"type\":\"PanTool\"},{\"attributes\":{\"callback\":null,\"column_names\":[\"label\",\"width\",\"fill_alpha\",\"line_color\",\"height\",\"y\",\"color\",\"line_alpha\",\"x\"],\"data\":{\"chart_index\":[\"(193.800000, 201.000000]\"],\"color\":[\"#f22c40\"],\"fill_alpha\":[0.6],\"height\":[1.0],\"label\":[\"(193.800000, 201.000000]\"],\"line_alpha\":[1.0],\"line_color\":[\"black\"],\"width\":[7.199999999999989],\"x\":[\"197.4\"],\"y\":[0.5]}},\"id\":\"eeb52f6f-b9cf-43c4-a552-8e12d417b0a0\",\"type\":\"ColumnDataSource\"},{\"attributes\":{\"fill_alpha\":{\"field\":\"fill_alpha\"},\"fill_color\":{\"field\":\"color\"},\"height\":{\"field\":\"height\",\"units\":\"data\"},\"line_color\":{\"field\":\"line_color\"},\"width\":{\"field\":\"width\",\"units\":\"data\"},\"x\":{\"field\":\"x\"},\"y\":{\"field\":\"y\"}},\"id\":\"c9486648-632d-4db4-878c-6c5985352522\",\"type\":\"Rect\"},{\"attributes\":{},\"id\":\"a67e066c-7553-4b56-aa95-6f5cb7d1f3b2\",\"type\":\"BasicTicker\"},{\"attributes\":{\"plot\":{\"id\":\"c524588b-1bc5-4bf2-8247-3153e8bfa736\",\"subtype\":\"Chart\",\"type\":\"Plot\"}},\"id\":\"1fb56e15-ae10-405e-9a5f-8035b41f938e\",\"type\":\"Legend\"},{\"attributes\":{},\"id\":\"4e4ca3ff-aed6-4bf6-ae0d-cb1ad78cb12f\",\"type\":\"ToolEvents\"},{\"attributes\":{\"callback\":null,\"column_names\":[\"label\",\"width\",\"fill_alpha\",\"line_color\",\"height\",\"y\",\"color\",\"line_alpha\",\"x\"],\"data\":{\"chart_index\":[\"(158.800000, 165.200000]\"],\"color\":[\"#5ab738\"],\"fill_alpha\":[0.6],\"height\":[1.0],\"label\":[\"(158.800000, 165.200000]\"],\"line_alpha\":[1.0],\"line_color\":[\"black\"],\"width\":[6.399999999999977],\"x\":[\"162.0\"],\"y\":[0.5]}},\"id\":\"d306d050-0e73-48c5-ac49-66af6b94951f\",\"type\":\"ColumnDataSource\"},{\"attributes\":{\"fill_alpha\":{\"field\":\"fill_alpha\"},\"fill_color\":{\"field\":\"color\"},\"height\":{\"field\":\"height\",\"units\":\"data\"},\"line_color\":{\"field\":\"line_color\"},\"width\":{\"field\":\"width\",\"units\":\"data\"},\"x\":{\"field\":\"x\"},\"y\":{\"field\":\"y\"}},\"id\":\"e34117b4-d878-4ae1-aeca-59bfe1a567cb\",\"type\":\"Rect\"},{\"attributes\":{\"data_source\":{\"id\":\"982a704d-f36a-47da-b159-2cff1fa29b4e\",\"type\":\"ColumnDataSource\"},\"glyph\":{\"id\":\"64152dd5-2749-48c3-a4fe-1bfdad72f4e6\",\"type\":\"Rect\"},\"hover_glyph\":null,\"nonselection_glyph\":null,\"selection_glyph\":null},\"id\":\"24f59fdb-8d1d-4b3a-bb5a-e0733b6ed71c\",\"type\":\"GlyphRenderer\"},{\"attributes\":{\"callback\":null,\"column_names\":[\"label\",\"width\",\"fill_alpha\",\"line_color\",\"height\",\"y\",\"color\",\"line_alpha\",\"x\"],\"data\":{\"chart_index\":[\"(-15.000000, -9.000000]\"],\"color\":[\"#00AA00\"],\"fill_alpha\":[0.8],\"height\":[1.0],\"label\":[\"(-15.000000, -9.000000]\"],\"line_alpha\":[1.0],\"line_color\":[\"black\"],\"width\":[6.0],\"x\":[\"-12.0\"],\"y\":[0.5]}},\"id\":\"8dcbc249-d178-4a51-8217-b80256496730\",\"type\":\"ColumnDataSource\"},{\"attributes\":{\"callback\":null,\"column_names\":[\"label\",\"width\",\"fill_alpha\",\"line_color\",\"height\",\"y\",\"color\",\"line_alpha\",\"x\"],\"data\":{\"chart_index\":[\"(116.400000, 120.700000]\"],\"color\":[\"#f22c40\"],\"fill_alpha\":[0.6],\"height\":[0.0],\"label\":[\"(116.400000, 120.700000]\"],\"line_alpha\":[1.0],\"line_color\":[\"black\"],\"width\":[4.299999999999983],\"x\":[\"118.55000000000001\"],\"y\":[0.0]}},\"id\":\"edf5e085-90f5-4af9-81ff-7d487352ee3d\",\"type\":\"ColumnDataSource\"},{\"attributes\":{\"fill_alpha\":{\"field\":\"fill_alpha\"},\"fill_color\":{\"field\":\"color\"},\"height\":{\"field\":\"height\",\"units\":\"data\"},\"line_color\":{\"field\":\"line_color\"},\"width\":{\"field\":\"width\",\"units\":\"data\"},\"x\":{\"field\":\"x\"},\"y\":{\"field\":\"y\"}},\"id\":\"2669fb09-4f40-4e1b-8db6-ee17ae4e834f\",\"type\":\"Rect\"},{\"attributes\":{\"axis_label\":\"value\",\"formatter\":{\"id\":\"3b31ae8d-8c3b-4695-bcd3-e1662673b958\",\"type\":\"BasicTickFormatter\"},\"plot\":{\"id\":\"ad32cd6e-51bf-476a-9892-8808b5f127c0\",\"subtype\":\"Chart\",\"type\":\"Plot\"},\"ticker\":{\"id\":\"291f2266-b8b3-42dc-bbbf-61fa5a1c4532\",\"type\":\"BasicTicker\"}},\"id\":\"8a740c7c-5904-4896-81b7-492567de2881\",\"type\":\"LinearAxis\"},{\"attributes\":{\"callback\":null,\"column_names\":[\"label\",\"width\",\"fill_alpha\",\"line_color\",\"height\",\"y\",\"color\",\"line_alpha\",\"x\"],\"data\":{\"chart_index\":[\"(178.000000, 184.400000]\"],\"color\":[\"#5ab738\"],\"fill_alpha\":[0.6],\"height\":[0.0],\"label\":[\"(178.000000, 184.400000]\"],\"line_alpha\":[1.0],\"line_color\":[\"black\"],\"width\":[6.400000000000006],\"x\":[\"181.2\"],\"y\":[0.0]}},\"id\":\"03758de1-423c-4849-b100-b83726394964\",\"type\":\"ColumnDataSource\"},{\"attributes\":{\"callback\":null,\"column_names\":[\"label\",\"width\",\"fill_alpha\",\"line_color\",\"height\",\"y\",\"color\",\"line_alpha\",\"x\"],\"data\":{\"chart_index\":[\"(150.600000, 157.800000]\"],\"color\":[\"#f22c40\"],\"fill_alpha\":[0.6],\"height\":[2.0],\"label\":[\"(150.600000, 157.800000]\"],\"line_alpha\":[1.0],\"line_color\":[\"black\"],\"width\":[7.200000000000017],\"x\":[\"154.2\"],\"y\":[1.0]}},\"id\":\"1f1d6f15-1e22-4383-b61d-1609be980a2f\",\"type\":\"ColumnDataSource\"},{\"attributes\":{\"fill_alpha\":{\"field\":\"fill_alpha\"},\"fill_color\":{\"field\":\"color\"},\"height\":{\"field\":\"height\",\"units\":\"data\"},\"line_color\":{\"field\":\"line_color\"},\"width\":{\"field\":\"width\",\"units\":\"data\"},\"x\":{\"field\":\"x\"},\"y\":{\"field\":\"y\"}},\"id\":\"6711e8c0-a459-4195-bbb5-36db402b87d9\",\"type\":\"Rect\"},{\"attributes\":{\"fill_alpha\":{\"field\":\"fill_alpha\"},\"fill_color\":{\"field\":\"color\"},\"height\":{\"field\":\"height\",\"units\":\"data\"},\"line_color\":{\"field\":\"line_color\"},\"width\":{\"field\":\"width\",\"units\":\"data\"},\"x\":{\"field\":\"x\"},\"y\":{\"field\":\"y\"}},\"id\":\"bb15c178-46e7-4764-9948-5e3e46f53cde\",\"type\":\"Rect\"},{\"attributes\":{\"plot\":{\"id\":\"c524588b-1bc5-4bf2-8247-3153e8bfa736\",\"subtype\":\"Chart\",\"type\":\"Plot\"}},\"id\":\"5cd31bb4-cdba-49a9-8285-0c64c99351a6\",\"type\":\"PanTool\"},{\"attributes\":{\"data_source\":{\"id\":\"56d4dcec-7bf6-4a9e-a196-6d1138873df6\",\"type\":\"ColumnDataSource\"},\"glyph\":{\"id\":\"78390800-e0d5-4952-8ddc-8eb0b0156f7a\",\"type\":\"Rect\"},\"hover_glyph\":null,\"nonselection_glyph\":null,\"selection_glyph\":null},\"id\":\"1dc2632c-436b-48ff-aa2d-7e6e054854b1\",\"type\":\"GlyphRenderer\"},{\"attributes\":{\"fill_alpha\":{\"field\":\"fill_alpha\"},\"fill_color\":{\"field\":\"color\"},\"height\":{\"field\":\"height\",\"units\":\"data\"},\"line_color\":{\"field\":\"line_color\"},\"width\":{\"field\":\"width\",\"units\":\"data\"},\"x\":{\"field\":\"x\"},\"y\":{\"field\":\"y\"}},\"id\":\"2cb4aeb8-db28-43bd-927e-57d5ce3a9fac\",\"type\":\"Rect\"},{\"attributes\":{\"fill_alpha\":{\"field\":\"fill_alpha\"},\"fill_color\":{\"field\":\"color\"},\"height\":{\"field\":\"height\",\"units\":\"data\"},\"line_color\":{\"field\":\"line_color\"},\"width\":{\"field\":\"width\",\"units\":\"data\"},\"x\":{\"field\":\"x\"},\"y\":{\"field\":\"y\"}},\"id\":\"d9abe49d-3d60-4d1b-aa86-5e27f8124d27\",\"type\":\"Rect\"},{\"attributes\":{\"fill_alpha\":{\"field\":\"fill_alpha\"},\"fill_color\":{\"field\":\"color\"},\"height\":{\"field\":\"height\",\"units\":\"data\"},\"line_color\":{\"field\":\"line_color\"},\"width\":{\"field\":\"width\",\"units\":\"data\"},\"x\":{\"field\":\"x\"},\"y\":{\"field\":\"y\"}},\"id\":\"792b2162-1029-43fd-8c95-1b3416f94782\",\"type\":\"Rect\"},{\"attributes\":{\"callback\":null,\"column_names\":[\"label\",\"width\",\"fill_alpha\",\"line_color\",\"height\",\"y\",\"color\",\"line_alpha\",\"x\"],\"data\":{\"chart_index\":[\"(-17.600000, -12.200000]\"],\"color\":[\"#0000AA\"],\"fill_alpha\":[0.8],\"height\":[1.0],\"label\":[\"(-17.600000, -12.200000]\"],\"line_alpha\":[1.0],\"line_color\":[\"black\"],\"width\":[5.400000000000002],\"x\":[\"-14.9\"],\"y\":[0.5]}},\"id\":\"aa90d4f9-a3e5-4064-a666-15902d6b9408\",\"type\":\"ColumnDataSource\"},{\"attributes\":{\"fill_alpha\":{\"field\":\"fill_alpha\"},\"fill_color\":{\"field\":\"color\"},\"height\":{\"field\":\"height\",\"units\":\"data\"},\"line_color\":{\"field\":\"line_color\"},\"width\":{\"field\":\"width\",\"units\":\"data\"},\"x\":{\"field\":\"x\"},\"y\":{\"field\":\"y\"}},\"id\":\"589a801b-8e6d-4877-9f23-ebceddeb1560\",\"type\":\"Rect\"},{\"attributes\":{\"plot\":{\"id\":\"c89f67d9-19b8-4654-aad1-6eeb8f6e09b5\",\"subtype\":\"Chart\",\"type\":\"Plot\"}},\"id\":\"e68a9057-9879-4b2a-9bd8-91c618214c5e\",\"type\":\"HelpTool\"},{\"attributes\":{\"callback\":null,\"column_names\":[\"label\",\"width\",\"fill_alpha\",\"line_color\",\"height\",\"y\",\"color\",\"line_alpha\",\"x\"],\"data\":{\"chart_index\":[\"(99.200000, 103.500000]\"],\"color\":[\"#f22c40\"],\"fill_alpha\":[0.6],\"height\":[3.0],\"label\":[\"(99.200000, 103.500000]\"],\"line_alpha\":[1.0],\"line_color\":[\"black\"],\"width\":[4.299999999999997],\"x\":[\"101.35\"],\"y\":[1.5]}},\"id\":\"5b80ac2a-26a9-4893-b4f5-67e4a970d4c8\",\"type\":\"ColumnDataSource\"},{\"attributes\":{\"plot\":{\"id\":\"ad32cd6e-51bf-476a-9892-8808b5f127c0\",\"subtype\":\"Chart\",\"type\":\"Plot\"}},\"id\":\"ab874634-7d80-425e-a021-7b5aff3d4daf\",\"type\":\"PanTool\"},{\"attributes\":{\"plot\":{\"id\":\"ad32cd6e-51bf-476a-9892-8808b5f127c0\",\"subtype\":\"Chart\",\"type\":\"Plot\"}},\"id\":\"7d7c07ce-47f1-4873-a63c-3783bd166f85\",\"type\":\"WheelZoomTool\"},{\"attributes\":{\"items\":[{\"id\":\"7991273c-b79c-40de-8ffa-009bdeefddbf\",\"type\":\"LegendItem\"},{\"id\":\"996c5cfc-0973-41bd-a973-59e6fe2e07b9\",\"type\":\"LegendItem\"}],\"plot\":{\"id\":\"c89f67d9-19b8-4654-aad1-6eeb8f6e09b5\",\"subtype\":\"Chart\",\"type\":\"Plot\"}},\"id\":\"33eaf7d8-83c0-4f2d-a71f-648bf042f7b8\",\"type\":\"Legend\"},{\"attributes\":{},\"id\":\"5005ac65-3025-4dd6-a235-9ae6e2154a1a\",\"type\":\"BasicTickFormatter\"},{\"attributes\":{\"callback\":null,\"column_names\":[\"label\",\"width\",\"fill_alpha\",\"line_color\",\"height\",\"y\",\"color\",\"line_alpha\",\"x\"],\"data\":{\"chart_index\":[\"(114.000000, 117.200000]\"],\"color\":[\"#5ab738\"],\"fill_alpha\":[0.6],\"height\":[1.0],\"label\":[\"(114.000000, 117.200000]\"],\"line_alpha\":[1.0],\"line_color\":[\"black\"],\"width\":[3.200000000000003],\"x\":[\"115.6\"],\"y\":[0.5]}},\"id\":\"0addc88d-5761-4828-af3d-81f2b264c13c\",\"type\":\"ColumnDataSource\"},{\"attributes\":{\"callback\":null,\"column_names\":[\"label\",\"width\",\"fill_alpha\",\"line_color\",\"height\",\"y\",\"color\",\"line_alpha\",\"x\"],\"data\":{\"chart_index\":[\"(107.600000, 110.800000]\"],\"color\":[\"#5ab738\"],\"fill_alpha\":[0.6],\"height\":[0.0],\"label\":[\"(107.600000, 110.800000]\"],\"line_alpha\":[1.0],\"line_color\":[\"black\"],\"width\":[3.200000000000003],\"x\":[\"109.19999999999999\"],\"y\":[0.0]}},\"id\":\"aca84fad-f3a2-429a-9c45-591a000023d9\",\"type\":\"ColumnDataSource\"},{\"attributes\":{\"callback\":null,\"column_names\":[\"label\",\"width\",\"fill_alpha\",\"line_color\",\"height\",\"y\",\"color\",\"line_alpha\",\"x\"],\"data\":{\"chart_index\":[\"(-27.000000, -21.000000]\"],\"color\":[\"#00AA00\"],\"fill_alpha\":[0.8],\"height\":[4.0],\"label\":[\"(-27.000000, -21.000000]\"],\"line_alpha\":[1.0],\"line_color\":[\"black\"],\"width\":[6.0],\"x\":[\"-24.0\"],\"y\":[2.0]}},\"id\":\"db09b177-f5a4-48b6-a643-3f501758beb5\",\"type\":\"ColumnDataSource\"},{\"attributes\":{},\"id\":\"9e6edbb4-bd14-4084-a207-7600ebc29513\",\"type\":\"BasicTicker\"},{\"attributes\":{\"data_source\":{\"id\":\"46891aeb-2ef4-4b08-a68e-7be481c4ad22\",\"type\":\"ColumnDataSource\"},\"glyph\":{\"id\":\"e109b6a9-33fa-433e-b348-8e8d957e8d8a\",\"type\":\"Rect\"},\"hover_glyph\":null,\"nonselection_glyph\":null,\"selection_glyph\":null},\"id\":\"0116c9b5-0199-4676-b447-e040ab9fbd78\",\"type\":\"GlyphRenderer\"},{\"attributes\":{\"callback\":null,\"column_names\":[\"label\",\"width\",\"fill_alpha\",\"line_color\",\"height\",\"y\",\"color\",\"line_alpha\",\"x\"],\"data\":{\"chart_index\":[\"(117.200000, 120.400000]\"],\"color\":[\"#5ab738\"],\"fill_alpha\":[0.6],\"height\":[1.0],\"label\":[\"(117.200000, 120.400000]\"],\"line_alpha\":[1.0],\"line_color\":[\"black\"],\"width\":[3.200000000000003],\"x\":[\"118.80000000000001\"],\"y\":[0.5]}},\"id\":\"408634a9-ae59-4504-9cac-eec1c6dadda9\",\"type\":\"ColumnDataSource\"},{\"attributes\":{\"sizing_mode\":\"scale_width\",\"toolbar_location\":\"above\",\"tools\":[{\"id\":\"ab874634-7d80-425e-a021-7b5aff3d4daf\",\"type\":\"PanTool\"},{\"id\":\"7d7c07ce-47f1-4873-a63c-3783bd166f85\",\"type\":\"WheelZoomTool\"},{\"id\":\"b519496f-6fac-47ad-9c0c-59f4687bb803\",\"type\":\"BoxZoomTool\"},{\"id\":\"e0b7af10-a0f2-41e8-ba46-bf2577b51801\",\"type\":\"SaveTool\"},{\"id\":\"2413bd4d-d71a-4a9d-a919-2a214f6abc97\",\"type\":\"ResetTool\"},{\"id\":\"fd4a63c4-0938-45d1-9718-a4a8a3842f75\",\"type\":\"HelpTool\"},{\"id\":\"a64d5256-a0e0-4564-b0d9-93b72481fee5\",\"type\":\"PanTool\"},{\"id\":\"1cb48093-a937-4438-bffe-529cc4f44e15\",\"type\":\"WheelZoomTool\"},{\"id\":\"953ca4d3-5a17-49dc-9a4e-608df26a11e0\",\"type\":\"BoxZoomTool\"},{\"id\":\"2d6b7d39-c5d4-4326-9afe-93db55d14762\",\"type\":\"SaveTool\"},{\"id\":\"03e9ce7f-070b-4076-ad4a-5d176b90b4d1\",\"type\":\"ResetTool\"},{\"id\":\"e68a9057-9879-4b2a-9bd8-91c618214c5e\",\"type\":\"HelpTool\"},{\"id\":\"f6cb84b6-05c6-4cc7-98b6-35cf727a4a98\",\"type\":\"PanTool\"},{\"id\":\"e9787594-2ca7-4c54-ab1c-4ffb474ff39d\",\"type\":\"WheelZoomTool\"},{\"id\":\"e023043c-d9b1-43ca-b0ba-08eac61d44f2\",\"type\":\"BoxZoomTool\"},{\"id\":\"c4792060-a561-415e-8b82-d26ca7dad379\",\"type\":\"SaveTool\"},{\"id\":\"ac5375df-2a48-424a-a149-ced6749d2006\",\"type\":\"ResetTool\"},{\"id\":\"3c5ae4d4-4936-4c8a-98bf-d5816798eac0\",\"type\":\"HelpTool\"},{\"id\":\"5cd31bb4-cdba-49a9-8285-0c64c99351a6\",\"type\":\"PanTool\"},{\"id\":\"86a9baa3-28aa-4d9f-ab6b-07393ca12791\",\"type\":\"WheelZoomTool\"},{\"id\":\"3afe8b7f-a3f0-4e4c-a87a-105b016a345c\",\"type\":\"BoxZoomTool\"},{\"id\":\"a30024c6-19ee-409a-ba1a-b46fec6a9c1c\",\"type\":\"SaveTool\"},{\"id\":\"c4dc9b65-75a6-4512-9a76-9009a2afe2b5\",\"type\":\"ResetTool\"},{\"id\":\"2d16de5e-521d-4e2b-b9d3-0a75969b56ab\",\"type\":\"HelpTool\"}]},\"id\":\"57d55bbd-bf4e-4afd-a911-27f36ea0349f\",\"type\":\"ToolbarBox\"},{\"attributes\":{\"callback\":null,\"column_names\":[\"label\",\"width\",\"fill_alpha\",\"line_color\",\"height\",\"y\",\"color\",\"line_alpha\",\"x\"],\"data\":{\"chart_index\":[\"(110.800000, 114.000000]\"],\"color\":[\"#5ab738\"],\"fill_alpha\":[0.6],\"height\":[1.0],\"label\":[\"(110.800000, 114.000000]\"],\"line_alpha\":[1.0],\"line_color\":[\"black\"],\"width\":[3.200000000000003],\"x\":[\"112.4\"],\"y\":[0.5]}},\"id\":\"ab060149-a6bf-4b61-bfca-8fc644b56aa8\",\"type\":\"ColumnDataSource\"},{\"attributes\":{\"callback\":null,\"column_names\":[\"label\",\"width\",\"fill_alpha\",\"line_color\",\"height\",\"y\",\"color\",\"line_alpha\",\"x\"],\"data\":{\"chart_index\":[\"(-6.800000, -1.400000]\"],\"color\":[\"#0000AA\"],\"fill_alpha\":[0.8],\"height\":[4.0],\"label\":[\"(-6.800000, -1.400000]\"],\"line_alpha\":[1.0],\"line_color\":[\"black\"],\"width\":[5.399999999999999],\"x\":[\"-4.1\"],\"y\":[2.0]}},\"id\":\"a3986ba8-b116-4d52-9aba-c2ee7ad3d757\",\"type\":\"ColumnDataSource\"},{\"attributes\":{\"axis_label\":\"Count( Value )\",\"formatter\":{\"id\":\"f15c8781-1a33-4045-bad9-34399bf52a93\",\"type\":\"BasicTickFormatter\"},\"plot\":{\"id\":\"c89f67d9-19b8-4654-aad1-6eeb8f6e09b5\",\"subtype\":\"Chart\",\"type\":\"Plot\"},\"ticker\":{\"id\":\"a67e066c-7553-4b56-aa95-6f5cb7d1f3b2\",\"type\":\"BasicTicker\"}},\"id\":\"dcf4006b-02ec-4019-bb00-324f44fa995f\",\"type\":\"LinearAxis\"},{\"attributes\":{\"overlay\":{\"id\":\"2928eef8-d8d7-4804-b3f7-4d88ff037ac4\",\"type\":\"BoxAnnotation\"},\"plot\":{\"id\":\"c524588b-1bc5-4bf2-8247-3153e8bfa736\",\"subtype\":\"Chart\",\"type\":\"Plot\"}},\"id\":\"3afe8b7f-a3f0-4e4c-a87a-105b016a345c\",\"type\":\"BoxZoomTool\"},{\"attributes\":{\"fill_alpha\":{\"field\":\"fill_alpha\"},\"fill_color\":{\"field\":\"color\"},\"height\":{\"field\":\"height\",\"units\":\"data\"},\"line_color\":{\"field\":\"line_color\"},\"width\":{\"field\":\"width\",\"units\":\"data\"},\"x\":{\"field\":\"x\"},\"y\":{\"field\":\"y\"}},\"id\":\"3565b7b2-5b26-48ab-9cfd-5966e7775e10\",\"type\":\"Rect\"},{\"attributes\":{\"callback\":null,\"column_names\":[\"label\",\"width\",\"fill_alpha\",\"line_color\",\"height\",\"y\",\"color\",\"line_alpha\",\"x\"],\"data\":{\"chart_index\":[\"(107.800000, 112.100000]\"],\"color\":[\"#f22c40\"],\"fill_alpha\":[0.6],\"height\":[1.0],\"label\":[\"(107.800000, 112.100000]\"],\"line_alpha\":[1.0],\"line_color\":[\"black\"],\"width\":[4.299999999999997],\"x\":[\"109.94999999999999\"],\"y\":[0.5]}},\"id\":\"b0fbbe35-2e00-4b42-bb35-e2226970ecd1\",\"type\":\"ColumnDataSource\"},{\"attributes\":{\"children\":[{\"id\":\"57d55bbd-bf4e-4afd-a911-27f36ea0349f\",\"type\":\"ToolbarBox\"},{\"id\":\"3a74a38f-129b-4eae-8cce-8770112ca0c0\",\"type\":\"Column\"}]},\"id\":\"18bdeab2-74c1-44b6-be4d-58a2fda32ccd\",\"type\":\"Column\"},{\"attributes\":{\"plot\":{\"id\":\"0394d956-6e75-4277-8eea-68b538600a61\",\"subtype\":\"Chart\",\"type\":\"Plot\"}},\"id\":\"50377b51-53f2-4736-9e1d-cd3814619858\",\"type\":\"Legend\"},{\"attributes\":{\"callback\":null,\"end\":4.4},\"id\":\"1a280adb-2930-4dba-92f0-83047d7caa59\",\"type\":\"Range1d\"},{\"attributes\":{\"below\":[{\"id\":\"7d9f7a7e-7269-46f7-a3d6-9919ba8b447b\",\"type\":\"LinearAxis\"}],\"css_classes\":null,\"height\":480,\"left\":[{\"id\":\"a776ae10-8033-479d-9dc6-b35f8b18d5b7\",\"type\":\"LinearAxis\"}],\"renderers\":[{\"id\":\"e361577e-7f14-46a2-951f-1dbe2381f7d2\",\"type\":\"BoxAnnotation\"},{\"id\":\"d66fbbf3-2739-4364-87de-3f3f9656f973\",\"type\":\"GlyphRenderer\"},{\"id\":\"4ba6584e-8ddd-4e18-ba66-ea1e2ce3e7a7\",\"type\":\"GlyphRenderer\"},{\"id\":\"9c6cd3eb-cb60-4605-904b-5f85240ee714\",\"type\":\"GlyphRenderer\"},{\"id\":\"8804a30f-1b45-421c-a423-e0ba23180203\",\"type\":\"GlyphRenderer\"},{\"id\":\"3ec77775-8947-41ca-8ff9-3349bb2fcdf0\",\"type\":\"GlyphRenderer\"},{\"id\":\"50377b51-53f2-4736-9e1d-cd3814619858\",\"type\":\"Legend\"},{\"id\":\"7d9f7a7e-7269-46f7-a3d6-9919ba8b447b\",\"type\":\"LinearAxis\"},{\"id\":\"a776ae10-8033-479d-9dc6-b35f8b18d5b7\",\"type\":\"LinearAxis\"},{\"id\":\"511ca3c8-e37b-4dc8-a74e-cd7f93246c77\",\"type\":\"Grid\"}],\"title\":{\"id\":\"be43a484-60c6-4380-82f6-f02d94f1a52c\",\"type\":\"Title\"},\"tool_events\":{\"id\":\"6f8b3cee-6644-4753-be7c-f052d695938f\",\"type\":\"ToolEvents\"},\"toolbar\":{\"id\":\"daa68ccb-636c-4f05-8359-1aac19c2652b\",\"type\":\"Toolbar\"},\"toolbar_location\":null,\"width\":480,\"x_mapper_type\":\"auto\",\"x_range\":{\"id\":\"09eac160-c261-40e5-a792-0cffcef1d18e\",\"type\":\"Range1d\"},\"y_mapper_type\":\"auto\",\"y_range\":{\"id\":\"78ce2618-1018-49c5-b168-66cc76ab0c70\",\"type\":\"Range1d\"}},\"id\":\"0394d956-6e75-4277-8eea-68b538600a61\",\"subtype\":\"Chart\",\"type\":\"Plot\"},{\"attributes\":{\"callback\":null,\"column_names\":[\"label\",\"width\",\"fill_alpha\",\"line_color\",\"height\",\"y\",\"color\",\"line_alpha\",\"x\"],\"data\":{\"chart_index\":[\"[-33.000000, -27.000000]\"],\"color\":[\"#00AA00\"],\"fill_alpha\":[0.8],\"height\":[2.0],\"label\":[\"[-33.000000, -27.000000]\"],\"line_alpha\":[1.0],\"line_color\":[\"black\"],\"width\":[6.0],\"x\":[\"-30.0\"],\"y\":[1.0]}},\"id\":\"343b00a1-126b-40e3-be35-9240c01e9790\",\"type\":\"ColumnDataSource\"},{\"attributes\":{\"callback\":null,\"column_names\":[\"label\",\"width\",\"fill_alpha\",\"line_color\",\"height\",\"y\",\"color\",\"line_alpha\",\"x\"],\"data\":{\"chart_index\":[\"(143.400000, 150.600000]\"],\"color\":[\"#f22c40\"],\"fill_alpha\":[0.6],\"height\":[3.0],\"label\":[\"(143.400000, 150.600000]\"],\"line_alpha\":[1.0],\"line_color\":[\"black\"],\"width\":[7.199999999999989],\"x\":[\"147.0\"],\"y\":[1.5]}},\"id\":\"25d57d0f-63b4-4419-80c2-747f0cefd077\",\"type\":\"ColumnDataSource\"},{\"attributes\":{\"data_source\":{\"id\":\"90f87570-21f3-45c0-953d-d13503ffe862\",\"type\":\"ColumnDataSource\"},\"glyph\":{\"id\":\"9901c453-b5b5-4233-af13-3197606f4d4a\",\"type\":\"Rect\"},\"hover_glyph\":null,\"nonselection_glyph\":null,\"selection_glyph\":null},\"id\":\"c4bc068b-8226-47e8-8ec1-50138ac84154\",\"type\":\"GlyphRenderer\"},{\"attributes\":{\"fill_alpha\":{\"field\":\"fill_alpha\"},\"fill_color\":{\"field\":\"color\"},\"height\":{\"field\":\"height\",\"units\":\"data\"},\"line_color\":{\"field\":\"line_color\"},\"width\":{\"field\":\"width\",\"units\":\"data\"},\"x\":{\"field\":\"x\"},\"y\":{\"field\":\"y\"}},\"id\":\"7f4586d3-1e5a-41bc-be7a-60eb322a8224\",\"type\":\"Rect\"},{\"attributes\":{\"overlay\":{\"id\":\"e361577e-7f14-46a2-951f-1dbe2381f7d2\",\"type\":\"BoxAnnotation\"},\"plot\":{\"id\":\"0394d956-6e75-4277-8eea-68b538600a61\",\"subtype\":\"Chart\",\"type\":\"Plot\"}},\"id\":\"e023043c-d9b1-43ca-b0ba-08eac61d44f2\",\"type\":\"BoxZoomTool\"},{\"attributes\":{\"data_source\":{\"id\":\"edf5e085-90f5-4af9-81ff-7d487352ee3d\",\"type\":\"ColumnDataSource\"},\"glyph\":{\"id\":\"1773090a-ba3a-494d-9c03-399f21a4e6b1\",\"type\":\"Rect\"},\"hover_glyph\":null,\"nonselection_glyph\":null,\"selection_glyph\":null},\"id\":\"a0a28ed4-0cb2-4e26-942e-adccb8d5f50d\",\"type\":\"GlyphRenderer\"},{\"attributes\":{\"data_source\":{\"id\":\"ab060149-a6bf-4b61-bfca-8fc644b56aa8\",\"type\":\"ColumnDataSource\"},\"glyph\":{\"id\":\"7b25a8e3-b9a6-4686-81ee-f9244729e620\",\"type\":\"Rect\"},\"hover_glyph\":null,\"nonselection_glyph\":null,\"selection_glyph\":null},\"id\":\"2fde0b02-fab5-4e75-868f-0a0c61eea6b9\",\"type\":\"GlyphRenderer\"},{\"attributes\":{\"callback\":null,\"column_names\":[\"label\",\"width\",\"fill_alpha\",\"line_color\",\"height\",\"y\",\"color\",\"line_alpha\",\"x\"],\"data\":{\"chart_index\":[\"[129.000000, 136.200000]\"],\"color\":[\"#f22c40\"],\"fill_alpha\":[0.6],\"height\":[3.0],\"label\":[\"[129.000000, 136.200000]\"],\"line_alpha\":[1.0],\"line_color\":[\"black\"],\"width\":[7.199999999999989],\"x\":[\"132.6\"],\"y\":[1.5]}},\"id\":\"4871b0ed-3de4-4cb3-86b5-1cf401a7b87e\",\"type\":\"ColumnDataSource\"},{\"attributes\":{\"data_source\":{\"id\":\"67d1ead2-32d5-438d-a57e-415cc7689e4f\",\"type\":\"ColumnDataSource\"},\"glyph\":{\"id\":\"d9abe49d-3d60-4d1b-aa86-5e27f8124d27\",\"type\":\"Rect\"},\"hover_glyph\":null,\"nonselection_glyph\":null,\"selection_glyph\":null},\"id\":\"668304cc-96b1-4c26-a096-163793613c44\",\"type\":\"GlyphRenderer\"},{\"attributes\":{\"callback\":null,\"column_names\":[\"label\",\"width\",\"fill_alpha\",\"line_color\",\"height\",\"y\",\"color\",\"line_alpha\",\"x\"],\"data\":{\"chart_index\":[\"(103.500000, 107.800000]\"],\"color\":[\"#f22c40\"],\"fill_alpha\":[0.6],\"height\":[2.0],\"label\":[\"(103.500000, 107.800000]\"],\"line_alpha\":[1.0],\"line_color\":[\"black\"],\"width\":[4.299999999999997],\"x\":[\"105.65\"],\"y\":[1.0]}},\"id\":\"67d1ead2-32d5-438d-a57e-415cc7689e4f\",\"type\":\"ColumnDataSource\"},{\"attributes\":{\"fill_alpha\":{\"field\":\"fill_alpha\"},\"fill_color\":{\"field\":\"color\"},\"height\":{\"field\":\"height\",\"units\":\"data\"},\"line_color\":{\"field\":\"line_color\"},\"width\":{\"field\":\"width\",\"units\":\"data\"},\"x\":{\"field\":\"x\"},\"y\":{\"field\":\"y\"}},\"id\":\"f277e4d0-cf94-4cd6-bba9-b5e7e3242dde\",\"type\":\"Rect\"},{\"attributes\":{\"plot\":{\"id\":\"c89f67d9-19b8-4654-aad1-6eeb8f6e09b5\",\"subtype\":\"Chart\",\"type\":\"Plot\"}},\"id\":\"1cb48093-a937-4438-bffe-529cc4f44e15\",\"type\":\"WheelZoomTool\"},{\"attributes\":{\"fill_alpha\":{\"field\":\"fill_alpha\"},\"fill_color\":{\"field\":\"color\"},\"height\":{\"field\":\"height\",\"units\":\"data\"},\"line_color\":{\"field\":\"line_color\"},\"width\":{\"field\":\"width\",\"units\":\"data\"},\"x\":{\"field\":\"x\"},\"y\":{\"field\":\"y\"}},\"id\":\"26883a83-117e-4a21-805e-5f318ba6b279\",\"type\":\"Rect\"},{\"attributes\":{\"callback\":null,\"end\":135.3,\"start\":76.7},\"id\":\"64e01d5c-737e-4311-99f7-933807845222\",\"type\":\"Range1d\"},{\"attributes\":{\"callback\":null,\"column_names\":[\"label\",\"width\",\"fill_alpha\",\"line_color\",\"height\",\"y\",\"color\",\"line_alpha\",\"x\"],\"data\":{\"chart_index\":[\"(197.200000, 203.600000]\"],\"color\":[\"#5ab738\"],\"fill_alpha\":[0.6],\"height\":[2.0],\"label\":[\"(197.200000, 203.600000]\"],\"line_alpha\":[1.0],\"line_color\":[\"black\"],\"width\":[6.400000000000006],\"x\":[\"200.39999999999998\"],\"y\":[1.0]}},\"id\":\"7a961d4d-b5fd-4275-8b8f-4001c6b05522\",\"type\":\"ColumnDataSource\"},{\"attributes\":{\"fill_alpha\":{\"field\":\"fill_alpha\"},\"fill_color\":{\"field\":\"color\"},\"height\":{\"field\":\"height\",\"units\":\"data\"},\"line_color\":{\"field\":\"line_color\"},\"width\":{\"field\":\"width\",\"units\":\"data\"},\"x\":{\"field\":\"x\"},\"y\":{\"field\":\"y\"}},\"id\":\"1ecf87f9-62be-4b1a-9303-4f902becdeac\",\"type\":\"Rect\"},{\"attributes\":{\"data_source\":{\"id\":\"0addc88d-5761-4828-af3d-81f2b264c13c\",\"type\":\"ColumnDataSource\"},\"glyph\":{\"id\":\"2a5465f5-a59d-47b7-b79a-99dfa69ee61c\",\"type\":\"Rect\"},\"hover_glyph\":null,\"nonselection_glyph\":null,\"selection_glyph\":null},\"id\":\"e5adc15c-4b73-4395-be8a-cce450740ec2\",\"type\":\"GlyphRenderer\"},{\"attributes\":{\"plot\":null,\"text\":\"Before and After Sys Blood Preasure\"},\"id\":\"458be64d-52b8-4a88-b2a8-1cfa40479d20\",\"type\":\"Title\"},{\"attributes\":{\"active_drag\":\"auto\",\"active_scroll\":\"auto\",\"active_tap\":\"auto\",\"tools\":[{\"id\":\"5cd31bb4-cdba-49a9-8285-0c64c99351a6\",\"type\":\"PanTool\"},{\"id\":\"86a9baa3-28aa-4d9f-ab6b-07393ca12791\",\"type\":\"WheelZoomTool\"},{\"id\":\"3afe8b7f-a3f0-4e4c-a87a-105b016a345c\",\"type\":\"BoxZoomTool\"},{\"id\":\"a30024c6-19ee-409a-ba1a-b46fec6a9c1c\",\"type\":\"SaveTool\"},{\"id\":\"c4dc9b65-75a6-4512-9a76-9009a2afe2b5\",\"type\":\"ResetTool\"},{\"id\":\"2d16de5e-521d-4e2b-b9d3-0a75969b56ab\",\"type\":\"HelpTool\"}]},\"id\":\"73e1e467-680d-4f04-a5a5-9e190d937267\",\"type\":\"Toolbar\"},{\"attributes\":{\"data_source\":{\"id\":\"d306d050-0e73-48c5-ac49-66af6b94951f\",\"type\":\"ColumnDataSource\"},\"glyph\":{\"id\":\"2fe9e9b8-cf0d-4bed-a7d8-43067d278259\",\"type\":\"Rect\"},\"hover_glyph\":null,\"nonselection_glyph\":null,\"selection_glyph\":null},\"id\":\"14b66670-71ed-4291-aaa5-c520c017747a\",\"type\":\"GlyphRenderer\"},{\"attributes\":{\"fill_alpha\":{\"field\":\"fill_alpha\"},\"fill_color\":{\"field\":\"color\"},\"height\":{\"field\":\"height\",\"units\":\"data\"},\"line_color\":{\"field\":\"line_color\"},\"width\":{\"field\":\"width\",\"units\":\"data\"},\"x\":{\"field\":\"x\"},\"y\":{\"field\":\"y\"}},\"id\":\"7d3965f1-50f8-437f-a7ea-e18d8998828d\",\"type\":\"Rect\"},{\"attributes\":{\"data_source\":{\"id\":\"454111bb-ccd2-4b5f-bb83-2a148825cee3\",\"type\":\"ColumnDataSource\"},\"glyph\":{\"id\":\"7d3965f1-50f8-437f-a7ea-e18d8998828d\",\"type\":\"Rect\"},\"hover_glyph\":null,\"nonselection_glyph\":null,\"selection_glyph\":null},\"id\":\"448b3d88-695f-4e19-9beb-fcd475257a56\",\"type\":\"GlyphRenderer\"},{\"attributes\":{\"data_source\":{\"id\":\"bc0f296c-0b8d-44b0-b6e0-ca5fe4466959\",\"type\":\"ColumnDataSource\"},\"glyph\":{\"id\":\"f16b9ae7-bbe1-4484-8a88-9be2e331b21d\",\"type\":\"Rect\"},\"hover_glyph\":null,\"nonselection_glyph\":null,\"selection_glyph\":null},\"id\":\"18625aa0-a6eb-4fe7-a93a-944ff1a1c074\",\"type\":\"GlyphRenderer\"},{\"attributes\":{\"callback\":null,\"column_names\":[\"label\",\"width\",\"fill_alpha\",\"line_color\",\"height\",\"y\",\"color\",\"line_alpha\",\"x\"],\"data\":{\"chart_index\":[\"(136.200000, 143.400000]\"],\"color\":[\"#f22c40\"],\"fill_alpha\":[0.6],\"height\":[0.0],\"label\":[\"(136.200000, 143.400000]\"],\"line_alpha\":[1.0],\"line_color\":[\"black\"],\"width\":[7.200000000000017],\"x\":[\"139.8\"],\"y\":[0.0]}},\"id\":\"bc7414f5-a294-416f-8f45-f75f90bd3acf\",\"type\":\"ColumnDataSource\"},{\"attributes\":{},\"id\":\"2e5838d8-0ad9-42d5-b631-75e9ba4fe4a4\",\"type\":\"BasicTicker\"},{\"attributes\":{\"callback\":null,\"column_names\":[\"label\",\"width\",\"fill_alpha\",\"line_color\",\"height\",\"y\",\"color\",\"line_alpha\",\"x\"],\"data\":{\"chart_index\":[\"(190.800000, 197.200000]\"],\"color\":[\"#5ab738\"],\"fill_alpha\":[0.6],\"height\":[0.0],\"label\":[\"(190.800000, 197.200000]\"],\"line_alpha\":[1.0],\"line_color\":[\"black\"],\"width\":[6.399999999999977],\"x\":[\"194.0\"],\"y\":[0.0]}},\"id\":\"8649843a-7234-4709-8624-d99d34da5b5b\",\"type\":\"ColumnDataSource\"},{\"attributes\":{\"fill_alpha\":{\"field\":\"fill_alpha\"},\"fill_color\":{\"field\":\"color\"},\"height\":{\"field\":\"height\",\"units\":\"data\"},\"line_color\":{\"field\":\"line_color\"},\"width\":{\"field\":\"width\",\"units\":\"data\"},\"x\":{\"field\":\"x\"},\"y\":{\"field\":\"y\"}},\"id\":\"8c7c4a3d-9f5a-41d0-bd68-75c0b4205cc6\",\"type\":\"Rect\"},{\"attributes\":{\"callback\":null,\"column_names\":[\"label\",\"width\",\"fill_alpha\",\"line_color\",\"height\",\"y\",\"color\",\"line_alpha\",\"x\"],\"data\":{\"chart_index\":[\"(184.400000, 190.800000]\"],\"color\":[\"#5ab738\"],\"fill_alpha\":[0.6],\"height\":[2.0],\"label\":[\"(184.400000, 190.800000]\"],\"line_alpha\":[1.0],\"line_color\":[\"black\"],\"width\":[6.400000000000006],\"x\":[\"187.60000000000002\"],\"y\":[1.0]}},\"id\":\"7608ef41-bf77-46eb-b15e-f802cdd7b40e\",\"type\":\"ColumnDataSource\"},{\"attributes\":{\"axis_label\":\"value\",\"formatter\":{\"id\":\"59b01527-6612-4ebc-b25d-70fd25cf19a6\",\"type\":\"BasicTickFormatter\"},\"plot\":{\"id\":\"c89f67d9-19b8-4654-aad1-6eeb8f6e09b5\",\"subtype\":\"Chart\",\"type\":\"Plot\"},\"ticker\":{\"id\":\"2e5838d8-0ad9-42d5-b631-75e9ba4fe4a4\",\"type\":\"BasicTicker\"}},\"id\":\"4c2e61f4-54b5-4631-ae0a-0b5d852f3337\",\"type\":\"LinearAxis\"},{\"attributes\":{\"overlay\":{\"id\":\"e6c38c5d-86e8-49a7-a642-95949de2222b\",\"type\":\"BoxAnnotation\"},\"plot\":{\"id\":\"c89f67d9-19b8-4654-aad1-6eeb8f6e09b5\",\"subtype\":\"Chart\",\"type\":\"Plot\"}},\"id\":\"953ca4d3-5a17-49dc-9a4e-608df26a11e0\",\"type\":\"BoxZoomTool\"},{\"attributes\":{\"label\":{\"value\":\"sbefore\"},\"renderers\":[{\"id\":\"57173114-3692-4bf9-b17f-ba874e1d45fe\",\"type\":\"GlyphRenderer\"},{\"id\":\"9a196982-da06-4d9c-9524-9bc52e38aef5\",\"type\":\"GlyphRenderer\"},{\"id\":\"14b66670-71ed-4291-aaa5-c520c017747a\",\"type\":\"GlyphRenderer\"},{\"id\":\"c9d65dca-7820-4542-b0c6-e57f62ab6885\",\"type\":\"GlyphRenderer\"},{\"id\":\"38a6b380-c2a0-4feb-ab72-c1e5bfb6ac74\",\"type\":\"GlyphRenderer\"},{\"id\":\"d77faefa-9cfd-41b2-8686-f117ec244d0b\",\"type\":\"GlyphRenderer\"},{\"id\":\"0dc611b6-483d-459b-b368-a141a70ab3ba\",\"type\":\"GlyphRenderer\"},{\"id\":\"3e5dbf74-2362-4363-942b-ccab2a22fd00\",\"type\":\"GlyphRenderer\"},{\"id\":\"a0e9f9b0-6dc1-4cba-b8ca-e054da72ad31\",\"type\":\"GlyphRenderer\"},{\"id\":\"ad6b2d4c-b2d5-4460-b737-2c0832d760d7\",\"type\":\"GlyphRenderer\"}]},\"id\":\"2403e628-5813-4025-a6d6-7f8744a468d8\",\"type\":\"LegendItem\"},{\"attributes\":{\"callback\":null,\"column_names\":[\"label\",\"width\",\"fill_alpha\",\"line_color\",\"height\",\"y\",\"color\",\"line_alpha\",\"x\"],\"data\":{\"chart_index\":[\"(203.600000, 210.000000]\"],\"color\":[\"#5ab738\"],\"fill_alpha\":[0.6],\"height\":[2.0],\"label\":[\"(203.600000, 210.000000]\"],\"line_alpha\":[1.0],\"line_color\":[\"black\"],\"width\":[6.400000000000006],\"x\":[\"206.8\"],\"y\":[1.0]}},\"id\":\"bd9d861f-96ff-4335-be8f-c4de7cc1e21b\",\"type\":\"ColumnDataSource\"},{\"attributes\":{\"label\":{\"value\":\"safter\"},\"renderers\":[{\"id\":\"9c568d44-a3e7-4ec3-84bc-8ce552bb71a4\",\"type\":\"GlyphRenderer\"},{\"id\":\"3af0c927-fd42-4c1b-bb97-227a4bbad8ab\",\"type\":\"GlyphRenderer\"},{\"id\":\"48aca083-f23d-48a8-bb28-24a235642775\",\"type\":\"GlyphRenderer\"},{\"id\":\"5e84919a-020b-4989-841b-b3e314d5593d\",\"type\":\"GlyphRenderer\"},{\"id\":\"fb684e1c-42ba-4f07-87f1-454af68a0600\",\"type\":\"GlyphRenderer\"},{\"id\":\"bd89e4ff-941d-45a8-a8a8-946eb40c383b\",\"type\":\"GlyphRenderer\"},{\"id\":\"30ad818a-abf7-40cd-a115-78807dadeb0d\",\"type\":\"GlyphRenderer\"},{\"id\":\"18625aa0-a6eb-4fe7-a93a-944ff1a1c074\",\"type\":\"GlyphRenderer\"},{\"id\":\"1dc2632c-436b-48ff-aa2d-7e6e054854b1\",\"type\":\"GlyphRenderer\"},{\"id\":\"7d735df5-a066-4227-bb56-80f477a734b9\",\"type\":\"GlyphRenderer\"}]},\"id\":\"160daf59-badb-47b8-a153-0f9a36052b8b\",\"type\":\"LegendItem\"},{\"attributes\":{\"data_source\":{\"id\":\"d82c84ec-891e-49a9-9cfb-32c82758ce33\",\"type\":\"ColumnDataSource\"},\"glyph\":{\"id\":\"c9486648-632d-4db4-878c-6c5985352522\",\"type\":\"Rect\"},\"hover_glyph\":null,\"nonselection_glyph\":null,\"selection_glyph\":null},\"id\":\"540b8954-90d6-46d5-b892-ac5970047b92\",\"type\":\"GlyphRenderer\"},{\"attributes\":{\"fill_alpha\":{\"field\":\"fill_alpha\"},\"fill_color\":{\"field\":\"color\"},\"height\":{\"field\":\"height\",\"units\":\"data\"},\"line_color\":{\"field\":\"line_color\"},\"width\":{\"field\":\"width\",\"units\":\"data\"},\"x\":{\"field\":\"x\"},\"y\":{\"field\":\"y\"}},\"id\":\"94da5f65-5ecd-4399-b0c4-7f2ca04ef321\",\"type\":\"Rect\"},{\"attributes\":{\"data_source\":{\"id\":\"3abf57d5-5987-4abc-94cd-04adb5d28411\",\"type\":\"ColumnDataSource\"},\"glyph\":{\"id\":\"ef2deb92-1c13-43b4-b909-9ecbeca0b9cc\",\"type\":\"Rect\"},\"hover_glyph\":null,\"nonselection_glyph\":null,\"selection_glyph\":null},\"id\":\"8518a7ed-fb62-4b0e-9b5c-712a06128a8b\",\"type\":\"GlyphRenderer\"},{\"attributes\":{\"callback\":null,\"end\":3.524999999999999,\"start\":-22.525},\"id\":\"804350d8-b857-4935-8c0e-616c1b35e6db\",\"type\":\"Range1d\"},{\"attributes\":{\"active_drag\":\"auto\",\"active_scroll\":\"auto\",\"active_tap\":\"auto\",\"tools\":[{\"id\":\"a64d5256-a0e0-4564-b0d9-93b72481fee5\",\"type\":\"PanTool\"},{\"id\":\"1cb48093-a937-4438-bffe-529cc4f44e15\",\"type\":\"WheelZoomTool\"},{\"id\":\"953ca4d3-5a17-49dc-9a4e-608df26a11e0\",\"type\":\"BoxZoomTool\"},{\"id\":\"2d6b7d39-c5d4-4326-9afe-93db55d14762\",\"type\":\"SaveTool\"},{\"id\":\"03e9ce7f-070b-4076-ad4a-5d176b90b4d1\",\"type\":\"ResetTool\"},{\"id\":\"e68a9057-9879-4b2a-9bd8-91c618214c5e\",\"type\":\"HelpTool\"}]},\"id\":\"f9a77899-9178-4718-bc1f-710fdf1804f2\",\"type\":\"Toolbar\"},{\"attributes\":{\"plot\":{\"id\":\"0394d956-6e75-4277-8eea-68b538600a61\",\"subtype\":\"Chart\",\"type\":\"Plot\"}},\"id\":\"ac5375df-2a48-424a-a149-ced6749d2006\",\"type\":\"ResetTool\"},{\"attributes\":{\"data_source\":{\"id\":\"85bf8f9d-0685-4e71-8f7e-583e4d0eaeaa\",\"type\":\"ColumnDataSource\"},\"glyph\":{\"id\":\"79d52657-41f4-44af-a076-47956ab706a3\",\"type\":\"Rect\"},\"hover_glyph\":null,\"nonselection_glyph\":null,\"selection_glyph\":null},\"id\":\"f7b81ea9-a274-4c31-b18d-cf633cf6d1ec\",\"type\":\"GlyphRenderer\"},{\"attributes\":{\"callback\":null,\"column_names\":[\"label\",\"width\",\"fill_alpha\",\"line_color\",\"height\",\"y\",\"color\",\"line_alpha\",\"x\"],\"data\":{\"chart_index\":[\"(123.600000, 126.800000]\"],\"color\":[\"#5ab738\"],\"fill_alpha\":[0.6],\"height\":[2.0],\"label\":[\"(123.600000, 126.800000]\"],\"line_alpha\":[1.0],\"line_color\":[\"black\"],\"width\":[3.200000000000003],\"x\":[\"125.19999999999999\"],\"y\":[1.0]}},\"id\":\"6d56969d-8a45-4792-8b70-17f9297811ff\",\"type\":\"ColumnDataSource\"},{\"attributes\":{\"data_source\":{\"id\":\"bc7414f5-a294-416f-8f45-f75f90bd3acf\",\"type\":\"ColumnDataSource\"},\"glyph\":{\"id\":\"501c6818-5994-46a3-9661-98014bcda6f3\",\"type\":\"Rect\"},\"hover_glyph\":null,\"nonselection_glyph\":null,\"selection_glyph\":null},\"id\":\"3af0c927-fd42-4c1b-bb97-227a4bbad8ab\",\"type\":\"GlyphRenderer\"},{\"attributes\":{\"data_source\":{\"id\":\"e8dc1702-d575-4615-a41f-9c89cd2412b1\",\"type\":\"ColumnDataSource\"},\"glyph\":{\"id\":\"3886d628-b24d-4371-94b0-5b9bfcab6116\",\"type\":\"Rect\"},\"hover_glyph\":null,\"nonselection_glyph\":null,\"selection_glyph\":null},\"id\":\"01aa6a6e-bc84-4eb2-a4a9-5b808a145890\",\"type\":\"GlyphRenderer\"},{\"attributes\":{\"below\":[{\"id\":\"8a740c7c-5904-4896-81b7-492567de2881\",\"type\":\"LinearAxis\"}],\"css_classes\":null,\"height\":480,\"left\":[{\"id\":\"137f4edb-e8ba-4f49-9cc1-4ce54b64a79d\",\"type\":\"LinearAxis\"}],\"renderers\":[{\"id\":\"9377a8e7-cb7d-4fbf-b26e-e2b371abe81f\",\"type\":\"BoxAnnotation\"},{\"id\":\"57173114-3692-4bf9-b17f-ba874e1d45fe\",\"type\":\"GlyphRenderer\"},{\"id\":\"9a196982-da06-4d9c-9524-9bc52e38aef5\",\"type\":\"GlyphRenderer\"},{\"id\":\"14b66670-71ed-4291-aaa5-c520c017747a\",\"type\":\"GlyphRenderer\"},{\"id\":\"c9d65dca-7820-4542-b0c6-e57f62ab6885\",\"type\":\"GlyphRenderer\"},{\"id\":\"38a6b380-c2a0-4feb-ab72-c1e5bfb6ac74\",\"type\":\"GlyphRenderer\"},{\"id\":\"d77faefa-9cfd-41b2-8686-f117ec244d0b\",\"type\":\"GlyphRenderer\"},{\"id\":\"0dc611b6-483d-459b-b368-a141a70ab3ba\",\"type\":\"GlyphRenderer\"},{\"id\":\"3e5dbf74-2362-4363-942b-ccab2a22fd00\",\"type\":\"GlyphRenderer\"},{\"id\":\"a0e9f9b0-6dc1-4cba-b8ca-e054da72ad31\",\"type\":\"GlyphRenderer\"},{\"id\":\"ad6b2d4c-b2d5-4460-b737-2c0832d760d7\",\"type\":\"GlyphRenderer\"},{\"id\":\"9c568d44-a3e7-4ec3-84bc-8ce552bb71a4\",\"type\":\"GlyphRenderer\"},{\"id\":\"3af0c927-fd42-4c1b-bb97-227a4bbad8ab\",\"type\":\"GlyphRenderer\"},{\"id\":\"48aca083-f23d-48a8-bb28-24a235642775\",\"type\":\"GlyphRenderer\"},{\"id\":\"5e84919a-020b-4989-841b-b3e314d5593d\",\"type\":\"GlyphRenderer\"},{\"id\":\"fb684e1c-42ba-4f07-87f1-454af68a0600\",\"type\":\"GlyphRenderer\"},{\"id\":\"bd89e4ff-941d-45a8-a8a8-946eb40c383b\",\"type\":\"GlyphRenderer\"},{\"id\":\"30ad818a-abf7-40cd-a115-78807dadeb0d\",\"type\":\"GlyphRenderer\"},{\"id\":\"18625aa0-a6eb-4fe7-a93a-944ff1a1c074\",\"type\":\"GlyphRenderer\"},{\"id\":\"1dc2632c-436b-48ff-aa2d-7e6e054854b1\",\"type\":\"GlyphRenderer\"},{\"id\":\"7d735df5-a066-4227-bb56-80f477a734b9\",\"type\":\"GlyphRenderer\"},{\"id\":\"b8fa1d4e-6eb9-4c1b-9eb7-72402f46eea8\",\"type\":\"Legend\"},{\"id\":\"8a740c7c-5904-4896-81b7-492567de2881\",\"type\":\"LinearAxis\"},{\"id\":\"137f4edb-e8ba-4f49-9cc1-4ce54b64a79d\",\"type\":\"LinearAxis\"},{\"id\":\"f89f4e94-1178-45b5-a624-7da56ef4f87b\",\"type\":\"Grid\"}],\"title\":{\"id\":\"458be64d-52b8-4a88-b2a8-1cfa40479d20\",\"type\":\"Title\"},\"tool_events\":{\"id\":\"4e4ca3ff-aed6-4bf6-ae0d-cb1ad78cb12f\",\"type\":\"ToolEvents\"},\"toolbar\":{\"id\":\"1ab751a8-9899-40cb-b8f3-f69df7b2b569\",\"type\":\"Toolbar\"},\"toolbar_location\":null,\"width\":480,\"x_mapper_type\":\"auto\",\"x_range\":{\"id\":\"77e3d1e5-c5e0-43bd-a216-3f88d41e843c\",\"type\":\"Range1d\"},\"y_mapper_type\":\"auto\",\"y_range\":{\"id\":\"8c38c53f-3109-408a-9b2a-4e7a697af5da\",\"type\":\"Range1d\"}},\"id\":\"ad32cd6e-51bf-476a-9892-8808b5f127c0\",\"subtype\":\"Chart\",\"type\":\"Plot\"},{\"attributes\":{\"callback\":null,\"column_names\":[\"label\",\"width\",\"fill_alpha\",\"line_color\",\"height\",\"y\",\"color\",\"line_alpha\",\"x\"],\"data\":{\"chart_index\":[\"(126.800000, 130.000000]\"],\"color\":[\"#5ab738\"],\"fill_alpha\":[0.6],\"height\":[1.0],\"label\":[\"(126.800000, 130.000000]\"],\"line_alpha\":[1.0],\"line_color\":[\"black\"],\"width\":[3.200000000000003],\"x\":[\"128.4\"],\"y\":[0.5]}},\"id\":\"f1014228-eddb-4dbe-9c39-129d430c9259\",\"type\":\"ColumnDataSource\"},{\"attributes\":{\"fill_alpha\":{\"field\":\"fill_alpha\"},\"fill_color\":{\"field\":\"color\"},\"height\":{\"field\":\"height\",\"units\":\"data\"},\"line_color\":{\"field\":\"line_color\"},\"width\":{\"field\":\"width\",\"units\":\"data\"},\"x\":{\"field\":\"x\"},\"y\":{\"field\":\"y\"}},\"id\":\"d2954dc1-91d0-4036-8f7e-bfdcdbd845fc\",\"type\":\"Rect\"},{\"attributes\":{\"axis_label\":\"ddif\",\"formatter\":{\"id\":\"5005ac65-3025-4dd6-a235-9ae6e2154a1a\",\"type\":\"BasicTickFormatter\"},\"plot\":{\"id\":\"c524588b-1bc5-4bf2-8247-3153e8bfa736\",\"subtype\":\"Chart\",\"type\":\"Plot\"},\"ticker\":{\"id\":\"ec968c47-4260-485d-aabf-f6312ce4f9b3\",\"type\":\"BasicTicker\"}},\"id\":\"23fc815c-2ce3-4b8b-ac5d-c8be1e49e5e5\",\"type\":\"LinearAxis\"},{\"attributes\":{\"callback\":null,\"column_names\":[\"label\",\"width\",\"fill_alpha\",\"line_color\",\"height\",\"y\",\"color\",\"line_alpha\",\"x\"],\"data\":{\"chart_index\":[\"(120.700000, 125.000000]\"],\"color\":[\"#f22c40\"],\"fill_alpha\":[0.6],\"height\":[3.0],\"label\":[\"(120.700000, 125.000000]\"],\"line_alpha\":[1.0],\"line_color\":[\"black\"],\"width\":[4.300000000000011],\"x\":[\"122.85\"],\"y\":[1.5]}},\"id\":\"e8dc1702-d575-4615-a41f-9c89cd2412b1\",\"type\":\"ColumnDataSource\"},{\"attributes\":{},\"id\":\"f15c8781-1a33-4045-bad9-34399bf52a93\",\"type\":\"BasicTickFormatter\"},{\"attributes\":{\"bottom_units\":\"screen\",\"fill_alpha\":{\"value\":0.5},\"fill_color\":{\"value\":\"lightgrey\"},\"left_units\":\"screen\",\"level\":\"overlay\",\"line_alpha\":{\"value\":1.0},\"line_color\":{\"value\":\"black\"},\"line_dash\":[4,4],\"line_width\":{\"value\":2},\"plot\":null,\"render_mode\":\"css\",\"right_units\":\"screen\",\"top_units\":\"screen\"},\"id\":\"2928eef8-d8d7-4804-b3f7-4d88ff037ac4\",\"type\":\"BoxAnnotation\"}],\"root_ids\":[\"18bdeab2-74c1-44b6-be4d-58a2fda32ccd\"]},\"title\":\"Bokeh Application\",\"version\":\"0.12.4\"}};\n",
       "            var render_items = [{\"docid\":\"e3aba1ac-9de2-4377-b4da-32d848ca4602\",\"elementid\":\"d6d3478c-b411-41e7-9428-83b3f29fd4f1\",\"modelid\":\"18bdeab2-74c1-44b6-be4d-58a2fda32ccd\"}];\n",
       "            \n",
       "            Bokeh.embed.embed_items(docs_json, render_items);\n",
       "          };\n",
       "          if (document.readyState != \"loading\") fn();\n",
       "          else document.addEventListener(\"DOMContentLoaded\", fn);\n",
       "        })();\n",
       "      },\n",
       "      function(Bokeh) {\n",
       "      }\n",
       "    ];\n",
       "  \n",
       "    function run_inline_js() {\n",
       "      \n",
       "      if ((window.Bokeh !== undefined) || (force === true)) {\n",
       "        for (var i = 0; i < inline_js.length; i++) {\n",
       "          inline_js[i](window.Bokeh);\n",
       "        }if (force === true) {\n",
       "          display_loaded();\n",
       "        }} else if (Date.now() < window._bokeh_timeout) {\n",
       "        setTimeout(run_inline_js, 100);\n",
       "      } else if (!window._bokeh_failed_load) {\n",
       "        console.log(\"Bokeh: BokehJS failed to load within specified timeout.\");\n",
       "        window._bokeh_failed_load = true;\n",
       "      } else if (force !== true) {\n",
       "        var cell = $(document.getElementById(\"d6d3478c-b411-41e7-9428-83b3f29fd4f1\")).parents('.cell').data().cell;\n",
       "        cell.output_area.append_execute_result(NB_LOAD_WARNING)\n",
       "      }\n",
       "  \n",
       "    }\n",
       "  \n",
       "    if (window._bokeh_is_loading === 0) {\n",
       "      console.log(\"Bokeh: BokehJS loaded, going straight to plotting\");\n",
       "      run_inline_js();\n",
       "    } else {\n",
       "      load_libs(js_urls, function() {\n",
       "        console.log(\"Bokeh: BokehJS plotting callback run at\", now());\n",
       "        run_inline_js();\n",
       "      });\n",
       "    }\n",
       "  }(this));\n",
       "</script>"
      ]
     },
     "metadata": {},
     "output_type": "display_data"
    }
   ],
   "source": [
    "hist1 = Histogram(blood,values='sdif',color=\"#00AA00\",\n",
    "                 title=\"After-Before Sys Blood Preasure\",legend='top_right',bins=5,width=480,height=480)\n",
    "hist2 = Histogram(blood,values='ddif',color=\"#0000AA\",\n",
    "                 title=\"After-Before Dia Blood Preasure\",legend='top_right',bins=5,width=480,height=480)\n",
    "\n",
    "hist3 = Histogram(melted.ix[index_sys],values='value',color='variable',\n",
    "                 title=\"Before and After Sys Blood Preasure\",legend='top_right',bins=10,width=480,height=480)\n",
    "\n",
    "hist4 = Histogram(melted.ix[index_dia],values='value',color='variable',\n",
    "                 title=\"Before and After Sys Blood Preasure\",legend='top_right',bins=10,width=480,height=480)\n",
    "\n",
    "grid = gridplot([[hist3,hist4],[hist1,hist2]])\n",
    "show(grid)"
   ]
  },
  {
   "cell_type": "markdown",
   "metadata": {},
   "source": [
    "![](1.png)\n",
    "![](2.png)"
   ]
  },
  {
   "cell_type": "markdown",
   "metadata": {},
   "source": [
    "There seems to ve a difference, but lets evaluate it analytically."
   ]
  },
  {
   "cell_type": "code",
   "execution_count": 316,
   "metadata": {
    "collapsed": false
   },
   "outputs": [
    {
     "name": "stdout",
     "output_type": "stream",
     "text": [
      "Ttest_relResult(statistic=8.1228155970858289, pvalue=1.1463872432607605e-06)\n",
      "Ttest_relResult(statistic=4.1661926492860477, pvalue=0.00095108988979331727)\n"
     ]
    }
   ],
   "source": [
    "print(scipy.stats.ttest_rel(blood['sbefore'].values,blood['safter'].values))\n",
    "print(scipy.stats.ttest_rel(blood['dbefore'].values,blood['dafter'].values))"
   ]
  },
  {
   "cell_type": "markdown",
   "metadata": {},
   "source": [
    "As the t-test reveals, there is evidence to reject the Null Hypothesis and state that there is statistical difference between the after and before mesurements, concluding that the treatment effectively lowers blood pressure."
   ]
  },
  {
   "cell_type": "markdown",
   "metadata": {},
   "source": [
    "[Back to index](#Index)"
   ]
  },
  {
   "cell_type": "markdown",
   "metadata": {},
   "source": [
    "---"
   ]
  },
  {
   "cell_type": "markdown",
   "metadata": {
    "collapsed": true
   },
   "source": [
    "## The P-value <a id='Pvalue'></a>\n",
    "\n",
    "As seen earliear, performing the t-test 2 values were created: the t statistic, as was defined earlier and the p-value. So, what is this P-value?\n",
    "\n",
    "The P-value approach involves determining \"likely\" or \"unlikely\" by determining the probability — assuming the null hypothesis were true — of observing a more extreme test statistic in the direction of the alternative hypothesis than the one observed. If the P-value is small, say less than (or equal to) α, then it is \"unlikely.\" And, if the P-value is large, say more than α, then it is \"likely.\"\n",
    "\n",
    "If the P-value is less than (or equal to) α, then the null hypothesis is rejected in favor of the alternative hypothesis. And, if the P-value is greater than α, then the null hypothesis is not rejected.\n",
    "\n",
    "Specifically, the four steps involved in using the P-value approach to conducting any hypothesis test are:\n",
    "\n",
    "- Specify the null and alternative hypotheses.\n",
    "- Using the sample data and assuming the null hypothesis is true, calculate the value of the test statistic.\n",
    "- Using the known distribution of the test statistic, calculate the P-value: \"If the null hypothesis is true, what is the probability that we'd observe a more extreme test statistic in the direction of the alternative hypothesis than we did?\" (Note how this question is equivalent to the question answered in criminal trials: \"If the defendant is innocent, what is the chance that we'd observe such extreme criminal evidence?\")\n",
    "- Set the significance level, α, the probability of making a Type I error to be small — 0.01, 0.05, or 0.10. Compare the P-value to α. If the P-value is less than (or equal to) α, reject the null hypothesis in favor of the alternative hypothesis. If the P-value is greater than α, do not reject the null hypothesis. [[9]](https://onlinecourses.science.psu.edu/statprogram/node/138)\n",
    "\n",
    "So there are two important values, the p-value which is derived from the data itself and α (or the significance level) which is an 'arbitrary' threshold for rejecting or failing to reject the Null hypothesis. The most common one being 0.05, but for choosing it is important to have domain knowledge because choosing one instead of another can change the outcome of the test. Here an example to illustrate this: [[10]](http://blog.minitab.com/blog/adventures-in-statistics-2/understanding-hypothesis-tests%3A-significance-levels-alpha-and-p-values-in-statistics)\n",
    "\n",
    "Here we want to evaluate the value 330.6 in a two tailed test with two different significance values, as seen the choice of alpha has an impact on the outcome."
   ]
  },
  {
   "cell_type": "markdown",
   "metadata": {},
   "source": [
    "![](sig_level_005.png)\n",
    "![](sig_level_001.png)"
   ]
  },
  {
   "cell_type": "markdown",
   "metadata": {},
   "source": [
    "### P-Hacking<a id='Hack'></a>\n",
    "\n",
    "So as we saw, it is possible to change the outcome of test just by changing the significance level, are there other ways to do it?\n",
    "\n",
    "The process of data dredging (also known as p-hacking) involves automatically testing huge numbers of hypotheses about a single data set by exhaustively searching -- perhaps for combinations of variables that might show a correlation, and perhaps for groups of cases or observations that show differences in their mean or in their breakdown by some other variable. [[11]](https://en.wikipedia.org/wiki/Data_dredging).\n",
    "\n",
    "Another way to understand this is: by selecting an α of 0.05 for example, we are willing to admit a a probability of 5% (or 1/20) that the outcome of the test was due to chance and not a real effect. If we repeat many times the test randomly selecting the samples, we might find a certain sample solely by chance will have a small enough p-value to reject the null hypothesis, if we select this sample and report this outcome it is p-hacking."
   ]
  },
  {
   "cell_type": "markdown",
   "metadata": {},
   "source": [
    "[Back to index](#Index)"
   ]
  },
  {
   "cell_type": "markdown",
   "metadata": {},
   "source": [
    "---"
   ]
  },
  {
   "cell_type": "markdown",
   "metadata": {},
   "source": [
    "## Precision and Recall <a id='Recall'></a>\n",
    "\n",
    "When performing a statistical test, we aim to identify a certain condition or characteristic of the data. We aim to see if there is or is not a difference between a particular observation and the rest of the data.\n",
    "\n",
    "There are then 4 possible outcomes from this classification:\n",
    "- **True positive:** is a result that indicates a given condition has been fulfilled, when it really is, ex. correctly identifying cancer in a patient that has it.\n",
    "- **True negative:** is a result that indicates a given condition has not been fulfilled, when it really isn't present, ex. correctly diagnosing no cancer presence in a patient that doesn't have it.\n",
    "- **False positive:** Also called **Type I error**  is a result that indicates a given condition has been fulfilled, when it has not, ex. identifying a patient with cancer, when the patient doesn't really have it.\n",
    "- **False negative:** Also called **Type II error** is a result that indicates a given condition has not been fulfilled, when it has, ex. failing to identify a patient with cancer, when it does really have it.\n",
    "\n",
    "While the aim would ideally be never to have false positives or negatives, it could be impossible in practice to achieve this, and depending on the subject of study, more importance can be given to avoid a type of error than the other because of the implications it can have."
   ]
  },
  {
   "cell_type": "markdown",
   "metadata": {},
   "source": [
    "### Python Example <a id='Example2'></a>\n",
    "\n",
    "Here precision and recall come into play, let's understand it with an example:\n",
    "- We have a not so advanced convolutional neural network designed to classify elephants (1,positive) from other animals (0,negative) images.\n",
    "\n",
    "We wish to know in general how the algorithm performs, for that we have different measures:\n",
    "- **Accuracy:** Is statistical measure of how well a binary classification test correctly identifies or excludes a condition. That is, the accuracy is the proportion of true results (both true positives and true negatives) among the total number of cases examined.\n",
    "- **Precision:** also called positive predictive value, is the fraction of retrieved instances that are relevant.\n",
    "- **Recall:** also known as sensitivity, is the fraction of relevant instances that are retrieved.\n",
    "\n",
    "So here is a randomly generated dataset:"
   ]
  },
  {
   "cell_type": "code",
   "execution_count": 317,
   "metadata": {
    "collapsed": true,
    "scrolled": true
   },
   "outputs": [],
   "source": [
    "np.random.seed(0)\n",
    "df = pd.DataFrame(np.random.randint(0,2,size=30),columns=['images'])\n",
    "df['classif'] = pd.Series(np.random.randint(0,2,size=30))"
   ]
  },
  {
   "cell_type": "markdown",
   "metadata": {},
   "source": [
    "Before we proceed, there is a very interesting tool that helps us visualize all the data at once, and from which we can deduce further information: the **Confusion Matrix**\n",
    "\n",
    "With the confusion matrix we have 2 axis, the Predicted Values and the True values, and depending on our dataset and predictions, we fill each of the quadrants with the relevant count for each pair of column/row."
   ]
  },
  {
   "cell_type": "code",
   "execution_count": 318,
   "metadata": {
    "collapsed": false
   },
   "outputs": [
    {
     "data": {
      "text/plain": [
       "images     17\n",
       "classif    19\n",
       "dtype: int64"
      ]
     },
     "execution_count": 318,
     "metadata": {},
     "output_type": "execute_result"
    }
   ],
   "source": [
    "df.sum()"
   ]
  },
  {
   "cell_type": "code",
   "execution_count": 319,
   "metadata": {
    "collapsed": false
   },
   "outputs": [
    {
     "data": {
      "image/png": "[encoded data removed]",
      "text/plain": [
       "<matplotlib.figure.Figure at 0x1144e4828>"
      ]
     },
     "metadata": {},
     "output_type": "display_data"
    }
   ],
   "source": [
    "from sklearn.metrics import confusion_matrix as CF\n",
    "import seaborn       as sns\n",
    "\n",
    "cf = CF(df['images'],df['classif'])\n",
    "\n",
    "ax = sns.heatmap(cf,square=True,annot=True,fmt='.2f',vmin=0,vmax=15)\n",
    "ax.set(xlabel='Predicted Values',ylabel='True Values')\n",
    "plt.xticks(rotation=0, ha='right');"
   ]
  },
  {
   "cell_type": "markdown",
   "metadata": {},
   "source": [
    "It can be appreciated that our algorithm isn't performing great but let's calculate the numbers we are interested in with the corresponding formulas:\n",
    "![](prerec.png)"
   ]
  },
  {
   "cell_type": "code",
   "execution_count": 320,
   "metadata": {
    "collapsed": false
   },
   "outputs": [
    {
     "name": "stdout",
     "output_type": "stream",
     "text": [
      "Accuracy: 0.4667\n",
      "Precision: 0.5263\n",
      "Recall: 0.5882\n"
     ]
    }
   ],
   "source": [
    "def cm_stats(cf):\n",
    "    acc = 0.\n",
    "    for i in range(cf.shape[0]):\n",
    "        acc += cf[i][i]\n",
    "    print('Accuracy: {0:.4f}'.format(acc/sum(sum(cf))))\n",
    "    print('Precision: {0:.4f}'.format(cf[1][1]/(cf[1][1]+cf[0][1])))\n",
    "    print('Recall: {0:.4f}'.format(cf[1][1]/(cf[1][1]+cf[1][0])))\n",
    "\n",
    "cm_stats(cf)"
   ]
  },
  {
   "cell_type": "markdown",
   "metadata": {},
   "source": [
    "What is this telling us?\n",
    "- **Accuracy:** From the 30 images, 46.6% where correctly identified. \n",
    "- **Precision:** From the 19 images predicted as elephants, only 10 were correctly so or 52.6%.\n",
    "- **Recall:** From the 17 images of elephants, only 10/17 or 58.8% were correctly predicted."
   ]
  },
  {
   "cell_type": "markdown",
   "metadata": {},
   "source": [
    "To understand it better here is a visual representation:\n",
    "![](precisionrecall.png )"
   ]
  },
  {
   "cell_type": "markdown",
   "metadata": {},
   "source": [
    "Why is this important?\n",
    "\n",
    "It is important because of the application the test will have and the data distribution.\n",
    "\n",
    "- Application where high recall is desired: For the NSA or TSA, high recall in identifying threats is desired. In theory they want to identify 100% of all posible threats, even at the expense of some false positives (random checks of people who are going to Disney).\n",
    "- Application where high precision is desired: For a top tier university, high precision in accepting students is desired. In theory they want to only accept the best of the best, even at the expense of some false negatives (leaving out a future Nobel prize winner).\n",
    "\n",
    "Regarding unbalanced data distributions, it is important to check precision and recall (not only accuracy) because accuracy can be misleading.\n",
    "- On credit card transactions where only 1 in 10,000 is a fraudulent one, identifying all transactions as 'good' gives us a 99.99% accuracy, but an not defined precision and 0% recall (we would want very high recall)."
   ]
  },
  {
   "cell_type": "code",
   "execution_count": 321,
   "metadata": {
    "collapsed": false,
    "scrolled": true
   },
   "outputs": [
    {
     "data": {
      "image/png": "[encoded data removed]",
      "text/plain": [
       "<matplotlib.figure.Figure at 0x1147a25f8>"
      ]
     },
     "metadata": {},
     "output_type": "display_data"
    }
   ],
   "source": [
    "cf1 = np.array([[9999,0],[1,0]])\n",
    "\n",
    "ax = sns.heatmap(cf1,square=True,annot=True,fmt='.2f',vmin=0,vmax=10000)\n",
    "ax.set(xlabel='Predicted Values',ylabel='True Values')\n",
    "plt.xticks(rotation=0, ha='right');"
   ]
  },
  {
   "cell_type": "code",
   "execution_count": 322,
   "metadata": {
    "collapsed": false,
    "scrolled": true
   },
   "outputs": [
    {
     "name": "stdout",
     "output_type": "stream",
     "text": [
      "Accuracy: 0.9999\n",
      "Precision: nan\n",
      "Recall: 0.0000\n"
     ]
    },
    {
     "name": "stderr",
     "output_type": "stream",
     "text": [
      "/Users/luiscastro/anaconda/envs/IntroToTensorFlow/lib/python3.4/site-packages/ipykernel/__main__.py:6: RuntimeWarning: invalid value encountered in long_scalars\n"
     ]
    }
   ],
   "source": [
    "cm_stats(cf1)"
   ]
  },
  {
   "cell_type": "markdown",
   "metadata": {},
   "source": [
    "[Back to index](#Index)"
   ]
  },
  {
   "cell_type": "markdown",
   "metadata": {},
   "source": [
    "---"
   ]
  },
  {
   "cell_type": "markdown",
   "metadata": {},
   "source": [
    "## Appendix <a id='Appendix'></a>\n",
    "\n",
    "### T-table"
   ]
  },
  {
   "cell_type": "markdown",
   "metadata": {},
   "source": [
    "![](distribution.png)"
   ]
  },
  {
   "cell_type": "markdown",
   "metadata": {},
   "source": [
    "![](ttable3.png)"
   ]
  },
  {
   "cell_type": "markdown",
   "metadata": {},
   "source": [
    "### Central Limit Theorem <a id='CLT'></a>"
   ]
  },
  {
   "cell_type": "markdown",
   "metadata": {},
   "source": [
    "The central limit theorem (CLT) is a statistical theory that states that given a sufficiently large sample size from a population with a finite level of variance, the mean of all samples from the same population will be approximately equal to the mean of the population. Furthermore, all of the samples will follow an approximate normal distribution pattern, with all variances being approximately equal to the variance of the population divided by each sample's size. [[12]](http://www.investopedia.com/terms/c/central_limit_theorem.asp#ixzz4g23q3VSK)"
   ]
  },
  {
   "cell_type": "code",
   "execution_count": null,
   "metadata": {
    "collapsed": true
   },
   "outputs": [],
   "source": [
    "Say we have a distribution distribution of numbers D."
   ]
  },
  {
   "cell_type": "code",
   "execution_count": 9,
   "metadata": {
    "collapsed": false
   },
   "outputs": [
    {
     "name": "stdout",
     "output_type": "stream",
     "text": [
      "Average value: 48.23\n"
     ]
    }
   ],
   "source": [
    "import numpy as np\n",
    "np.random.seed(0)\n",
    "\n",
    "D = np.random.randint(0,100,100)\n",
    "print('Average value: {0:.2f}'.format(np.mean(D)))"
   ]
  },
  {
   "cell_type": "markdown",
   "metadata": {},
   "source": [
    "Let's sample it 10 times without replacement with a sample size = 10."
   ]
  },
  {
   "cell_type": "code",
   "execution_count": 12,
   "metadata": {
    "collapsed": false
   },
   "outputs": [
    {
     "name": "stdout",
     "output_type": "stream",
     "text": [
      "Average of iteration 0 is 36.4\n",
      "Average of iteration 1 is 36.9\n",
      "Average of iteration 2 is 42.7\n",
      "Average of iteration 3 is 61.3\n",
      "Average of iteration 4 is 62.4\n",
      "Average of iteration 5 is 48.9\n",
      "Average of iteration 6 is 47.4\n",
      "Average of iteration 7 is 70.1\n",
      "Average of iteration 8 is 46.4\n",
      "Average of iteration 9 is 42.7\n",
      "Average of all iterations is 49.519999999999996\n"
     ]
    }
   ],
   "source": [
    "result = []\n",
    "for i in range(10):\n",
    "    temp = np.mean(np.random.choice(D,10,replace=False))\n",
    "    print('Average of iteration {0} is {1}'.format(i,temp))\n",
    "    result.append(temp)\n",
    "    \n",
    "print('Average of all iterations is {0}'.format(np.mean(result)))"
   ]
  },
  {
   "cell_type": "markdown",
   "metadata": {},
   "source": [
    "Which as we saw is fairly close the the original mean."
   ]
  },
  {
   "cell_type": "markdown",
   "metadata": {},
   "source": [
    "---"
   ]
  },
  {
   "cell_type": "markdown",
   "metadata": {},
   "source": [
    "[Back to index](#Index)"
   ]
  }
 ],
 "metadata": {
  "anaconda-cloud": {},
  "kernelspec": {
   "display_name": "Python [default]",
   "language": "python",
   "name": "python3"
  },
  "language_info": {
   "codemirror_mode": {
    "name": "ipython",
    "version": 3
   },
   "file_extension": ".py",
   "mimetype": "text/x-python",
   "name": "python",
   "nbconvert_exporter": "python",
   "pygments_lexer": "ipython3",
   "version": "3.5.2"
  }
 },
 "nbformat": 4,
 "nbformat_minor": 2
}
