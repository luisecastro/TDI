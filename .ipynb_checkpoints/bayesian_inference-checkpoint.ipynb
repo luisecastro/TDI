{
 "cells": [
  {
   "cell_type": "markdown",
   "metadata": {},
   "source": [
    "[<img src=\"logo.png\">](https://www.thedataincubator.com/)"
   ]
  },
  {
   "cell_type": "markdown",
   "metadata": {},
   "source": [
    "# TDI Challenge\n",
    "> ### Luis Castro\n",
    "> [luis.castro@mg.thedataincubator.com](luis.castro@mg.thedataincubator.com)"
   ]
  },
  {
   "cell_type": "markdown",
   "metadata": {},
   "source": [
    "# Index<a id='Index'></a>\n",
    "- [0.- Challenge Description](#Challenge)\n",
    "- [1.- Bayesian Inference](#Inference)\n",
    "    - [1.1- Bayes' Rule](#Bayes)\n",
    "        - [1.1.1- Example Test](#Test)\n",
    "        - [1.1.2- Example Test II](#Test)\n",
    "        - [1.1.3- Underlying assumptions](#Assumptions)\n",
    "        - [1.1.4- Conjugate priors](#Priors)\n",
    "            - [1.1.4.1- Example](#Example3)\n",
    "            - [1.1.4.2- Frequentist approach](#Frequentist)"
   ]
  },
  {
   "cell_type": "markdown",
   "metadata": {},
   "source": [
    "---"
   ]
  },
  {
   "cell_type": "markdown",
   "metadata": {},
   "source": [
    "## Challenge Description<a id='Challenge'></a>\n",
    "\n",
    "We want to see how well you're able to explain topics in statistics and data science. Write a short Jupyter notebook covering these topics:\n",
    "\n",
    "- Hypothesis Testing: Let's talk about t-tests, p-values. How are they related? What is it telling you? How does it relate to precision-recall? What are the underlying assumptions?\n",
    "- Bayesian posterior inference: Explain Bayes' Rule. Write some code to actually perform posterior sampling. Work out an example using conjugate priors. How does this compare with hypothesis testing? What are the underlying assumptions?\n",
    "\n",
    "Be prepared to give a mock \"lecture\" about these two topics with your prepared Jupyter notebook. We'll be looking for:\n",
    "\n",
    "- How well you present: remember that this material should be approachable, applied, and not just a series of formulas\n",
    "- How well you understand these topics in depth (the mathematics, the underlying assumptions)\n",
    "- How well you understand the concepts and how you can apply them"
   ]
  },
  {
   "cell_type": "markdown",
   "metadata": {},
   "source": [
    "[Back to index](#Index)"
   ]
  },
  {
   "cell_type": "markdown",
   "metadata": {},
   "source": [
    "---"
   ]
  },
  {
   "cell_type": "markdown",
   "metadata": {},
   "source": [
    "## Bayesian Inference<a id='Inference'></a>\n",
    "\n",
    "In the statistical inference notebook, we saw a school of statistical inference that has dominated the XX century, the so call Frequentist inference. In it, we draw conclusions from sample data by emphasizing the frequency or proportion of the data. This is the inference framework in which the well-established methodologies of statistical hypothesis testing and confidence intervals are based. [[1]](https://en.wikipedia.org/wiki/Frequentist_inference)\n",
    "\n",
    "The alternative is Bayesian Inference which we will discuss next.\n",
    "\n",
    "The difference between Bayesian inference and frequentist inference is the goal.\n",
    "- **Bayesian Goal:** Quantify and analyze subjective degrees of belief.\n",
    "- **Frequentist Goal:** Create procedures that have frequency guarantees.\n",
    "\n",
    "![](vs2.png)"
   ]
  },
  {
   "cell_type": "markdown",
   "metadata": {},
   "source": [
    "### Bayes' Rule<a id='Bayes'></a>\n",
    "\n",
    "Also called Bayes' theorem of Bayes' law describes the probability of an event, based on prior knowledge of conditions that might be related to the event.\n",
    "\n",
    "One of the many applications of Bayes' rule is Bayesian inference, a form of statistical inference. \n",
    "\n",
    "The theorem is stated mathematically by the followin equation:\n",
    "\n",
    "![](10.png)\n",
    "\n",
    "where A and B are events and P(B) ≠ 0.\n",
    "\n",
    "- P(A) and P(B) are the probabilities of observing A and B without regard to each other.\n",
    "- P(A | B), a conditional probability, is the probability of observing event A given that B is true.\n",
    "- P(B | A) is the probability of observing event B given that A is true. [[2]](https://en.wikipedia.org/wiki/Bayes%27_theorem)"
   ]
  },
  {
   "cell_type": "markdown",
   "metadata": {},
   "source": [
    "### Example test<a id='Test'></a>\n",
    "\n",
    "Is is customary to start explaining Bayes' Rule with a cancer testing scenario, the data provided is the following:\n",
    "- The proportion of the population of women affect by cancer is 1%.\n",
    "- The mammograms effectively identify cancer when the subject has cancer 80% of the time.\n",
    "- Mammograms may detect cancer when it isn't there 9.6% of the time.\n",
    "\n",
    "From the previous data we conclude:\n",
    "- 99% of the women population aren't affect by cancer (100% - 1%)\n",
    "- 20% of the time the mammograms fail to identify cancer when it is present (100% - 20%)\n",
    "- 90.4% of the time the mammograms result is negative when there is no cancer present (100% - 9.6%)\n",
    "\n",
    "With this information we can create a matrix for easier visualization:\n",
    "\n",
    "|Test|Cancer = 0.01|No Cancer = 0.99|\n",
    "|:---:|:-----------:|:--------------:|\n",
    "|Pos |0.8|0.096|\n",
    "|Neg |0.2|0.904|\n",
    "\n",
    "How do we turn this into a Bayes' problem? We begin by identifying each of the terms. We wish to infer posterior probability as a consecuenque of two antecedents, a prior probability and a 'likelihood', more formally:\n",
    "- **P(A):** Is the prior probability, is the probability of A before using B data.\n",
    "- **P(B):** Is the marginal likelihood.\n",
    "- **P(B|A):** Is the likelihood, which is the probability of observing B given A.\n",
    "- **P(A|B):** Is the posterior probability, which is the probability of observing A given B. \n",
    "\n",
    "So how does that translate to our problem?\n",
    "- **P(A):** Is the probability of having cancer (without taking anything else into account) = 1%\n",
    "- **P(B):** Is the probability of having a cancer positive mammogram, and it is calculated as follows:\n",
    "    - (0.8)(0.01)+(0.096)(0.99) = 10.3%\n",
    "- **P(B|A):** the probability of having a positive test given that you have cancer = 80%.\n",
    "- **P(A|B):** the probability of having cancer given a positive test, this is the result we are looking for. [[3]](https://betterexplained.com/articles/an-intuitive-and-short-explanation-of-bayes-theorem/)\n",
    "\n",
    "We sustitute in the Bayes' rule equation:"
   ]
  },
  {
   "cell_type": "code",
   "execution_count": 9,
   "metadata": {
    "collapsed": false
   },
   "outputs": [
    {
     "data": {
      "text/plain": [
       "'Chance that a positive test means a positive result: 7.764%'"
      ]
     },
     "execution_count": 9,
     "metadata": {},
     "output_type": "execute_result"
    }
   ],
   "source": [
    "'Chance that a positive test means a positive result: {0:.3f}%'.format(100*(0.8*0.01)/(0.8*0.01+0.096*0.99))"
   ]
  },
  {
   "cell_type": "markdown",
   "metadata": {},
   "source": [
    "The table will look then this way:\n",
    "\n",
    "|Test|Cancer|No Cancer|P(A given B)|\n",
    "|:---:|:-----------:|:--------------:|:---:|\n",
    "|Pos |0.008|0.09504|0.0764|\n",
    "|Neg |0.002|0.89496|0.0022|\n",
    "\n",
    "Looking at this from a frequentist point of view, the first 2 columns are the probabilities of the results any given patient will have when arriving to the clinic."
   ]
  },
  {
   "cell_type": "markdown",
   "metadata": {},
   "source": [
    "### Example test II<a id='Test2'></a>"
   ]
  },
  {
   "cell_type": "markdown",
   "metadata": {},
   "source": [
    "A desk lamp produced was found to be defective (D). There are three factories (A, B, C) where such desk lamps are manufactured. Quality Control Manager is responsible for investigating the source of found defects. This is what the QCM knows about the company's desk lamp production and the possible source of defects: \n",
    "\n",
    "\n",
    "|Factory|% of production|% of defective lamps (D)|P(D given #)|\n",
    "|:---:|:-----------:|:--------------:|:---:|\n",
    "|A|0.35|0.015|P(D given A)|\n",
    "|B|0.35|0.010|P(D given B)|\n",
    "|C|0.3|0.020|P(D given C)|\n",
    "\n",
    "Given a defective lamp, what is the probability of it coming from each of the Factories?\n",
    "- P(A|D) = ?\n",
    "- P(B|D) = ?\n",
    "- P(C|D) = ?\n",
    "\n",
    "P(D) = Probability of a defective lamp = (0.35)(0.015)+(0.35)(0.01)+(0.3)(0.02) = 0.01475 \n",
    "\n",
    "Evaluating them:"
   ]
  },
  {
   "cell_type": "code",
   "execution_count": 15,
   "metadata": {
    "collapsed": false,
    "scrolled": true
   },
   "outputs": [
    {
     "name": "stdout",
     "output_type": "stream",
     "text": [
      "Probability of Factory A given Defect: 35.59%\n",
      "Probability of Factory B given Defect: 23.73%\n",
      "Probability of Factory C given Defect: 40.68%\n"
     ]
    }
   ],
   "source": [
    "print('Probability of Factory A given Defect: {0:.2f}%'.format(100*0.015*0.35/0.01475))\n",
    "print('Probability of Factory B given Defect: {0:.2f}%'.format(100*0.010*0.35/0.01475))\n",
    "print('Probability of Factory C given Defect: {0:.2f}%'.format(100*0.020*0.3/0.01475))"
   ]
  },
  {
   "cell_type": "markdown",
   "metadata": {},
   "source": [
    "With this result, it seems more likely that the defective lamp comes from from Factory C. It should also be noted that P(D) is only needed to normalize the results, not to identify the most likely Factory (which will be one with the biggest number. [[4]](https://onlinecourses.science.psu.edu/stat414/node/43)"
   ]
  },
  {
   "cell_type": "markdown",
   "metadata": {},
   "source": [
    "### Underlying Bayesian critiques and assumptions<a id='Assumptions'></a>\n",
    "\n",
    "- Prior knowledge related to the event: The main assumption of Bayesian inference about the correct election of the prior. This is because a subjective prior is, well, subjective. There is no single method for choosing a prior, so different people will produce different priors and may therefore arrive at different posteriors and conclusions. [[5]](https://ocw.mit.edu/courses/mathematics/18-05-introduction-to-probability-and-statistics-spring-2014/readings/MIT18_05S14_Reading20.pdf)\n",
    "- Assigning probabilities to hypotheses, s hypotheses do not constitute outcomes of repeatable experiments in which one can measure long-term frequency. Rather, a hypothesis is either true or false, regardless of whether\n",
    "one knows which is the case. A coin is either fair or unfair; treatment 1 is either better or worse than treatment 2; the sun will or will not come up tomorrow.\n",
    "- P(B) ≠ 0\n",
    "- P(A) ≠ 0, as P(B|A) is defines as P(A∩B)/P(A), if P(A) is = 0, P(B|A) is not defined\n",
    "- Features used are independent."
   ]
  },
  {
   "cell_type": "markdown",
   "metadata": {},
   "source": [
    "### Conjugate Priors<a id='Priors'></a>"
   ]
  },
  {
   "cell_type": "markdown",
   "metadata": {},
   "source": [
    "We have the function:\n",
    "\n",
    "P(A|B) = P(B|A)P(A)/P(B)\n",
    "\n",
    "If we have a likelihood function P(B|A) that is approximately Normal:\n",
    "- P(data|ϴ) ~ Normal\n",
    "\n",
    "and we can choose a prior that is approximately Normal:\n",
    "- P(A) ~ Normal\n",
    "\n",
    "Then our posterior turns out to be also Normal:\n",
    "- P(A|B) ~ Normal\n",
    "\n",
    "If we choose our prior in a particularly intelligent way, for it to be of a similar form of the likelihood (conjugate to it) then the posterior will have the same form as them.\n",
    "\n",
    "When using conjugate priors we have some advantages when dealing with the distributions albeit the choice of a conjugate prior may sometimes be unrealistic.\n",
    "- The posterior has the form of the prior\n",
    "- There are already tables for conjugate priors, which makes the analysis straightforward\n",
    "- The posterior can be generated exactly\n",
    "\n",
    "As was with the Normal distribution, the same is true for other distributions as seen in the following table:\n",
    "\n",
    "![](priortable.png)"
   ]
  },
  {
   "cell_type": "markdown",
   "metadata": {},
   "source": [
    "Proof: Beta conjugate to Binomial\n",
    "\n",
    "- Prior: Beta(a,b) = **Θ<sup>a-1</sup> (1-Θ)<sup>b-1</sup> B(a,b)<sup>-1</sup>** \n",
    "    - B(a,b) = normalizing constant\n",
    "\n",
    "- Likelihood: Binomial = **Θ<sup>z</sup> (1-Θ)<sup>n-z</sup>**\n",
    "\n",
    "- Bayes' Rule: P(Θ|data) = P(data|Θ) P(Θ) P(data)<sup>-1</sup>\n",
    "    - P(data) = normalizing constant\n",
    "    \n",
    "Substituting:\n",
    "- P(Θ|data) is proportional Likelihood x Prior = Θ<sup>z</sup> (1-Θ)<sup>n-z</sup> Θ<sup>a-1</sup> (1-Θ)<sup>b-1</sup >B(a,b)<sup>-1</sup> = **Θ<sup>a+z-1</sup> (1-Θ)<sup>n+b-z-1</sup>**\n",
    "- normalizing constant = B(a+z,n+b-z)\n",
    "\n",
    "Then:\n",
    "**P(Θ|data) = Θ<sup>a+z-1</sup> (1-Θ)<sup>n+b-z-1</sup> B(a+z,n+b-z)<sup>-1</sup>** which is a Beta distribution. [[6]](https://www.youtube.com/watch?v=hKYvZF9wXkk)"
   ]
  },
  {
   "cell_type": "markdown",
   "metadata": {},
   "source": [
    "### Example <a id='Example3'></a>"
   ]
  },
  {
   "cell_type": "markdown",
   "metadata": {},
   "source": [
    "Let's say we want to know if there is bias in a coin using a Bayesian approach, for that purpose we create a trial and flip the coin 10 times.\n",
    "\n",
    "The results are as follows: [HHHHTTHHHH]\n",
    "- H = 8\n",
    "- T = 2\n",
    "\n",
    "We know that flipping a coin is a binomial distribution, so we can choose a Beta distribution as a conjugate prior.\n",
    "\n",
    "So, we select the parameters Beta distribution prior, since we expect a balanced (unbiased) flip-coin toss say we choose a0 = 3 and b0 = 3 which is a  relatively flat prior concentrated over the interval .25 ≤ θ ≤ .75.\n",
    "\n",
    "Then our posterior distribution will be a Beta distribution with the following parameters:\n",
    "- a = a0+z     = 3 + 2      = 5\n",
    "- b = b0+(n-z) = 3 + (10-2) = 11"
   ]
  },
  {
   "cell_type": "code",
   "execution_count": 43,
   "metadata": {
    "collapsed": false
   },
   "outputs": [
    {
     "data": {
      "text/html": [
       "\n",
       "    <div class=\"bk-root\">\n",
       "        <a href=\"http://bokeh.pydata.org\" target=\"_blank\" class=\"bk-logo bk-logo-small bk-logo-notebook\"></a>\n",
       "        <span id=\"5afc6498-48ab-43bf-be90-84b51249abff\">Loading BokehJS ...</span>\n",
       "    </div>"
      ]
     },
     "metadata": {},
     "output_type": "display_data"
    },
    {
     "data": {
      "application/javascript": [
       "\n",
       "(function(global) {\n",
       "  function now() {\n",
       "    return new Date();\n",
       "  }\n",
       "\n",
       "  var force = true;\n",
       "\n",
       "  if (typeof (window._bokeh_onload_callbacks) === \"undefined\" || force === true) {\n",
       "    window._bokeh_onload_callbacks = [];\n",
       "    window._bokeh_is_loading = undefined;\n",
       "  }\n",
       "\n",
       "\n",
       "  \n",
       "  if (typeof (window._bokeh_timeout) === \"undefined\" || force === true) {\n",
       "    window._bokeh_timeout = Date.now() + 5000;\n",
       "    window._bokeh_failed_load = false;\n",
       "  }\n",
       "\n",
       "  var NB_LOAD_WARNING = {'data': {'text/html':\n",
       "     \"<div style='background-color: #fdd'>\\n\"+\n",
       "     \"<p>\\n\"+\n",
       "     \"BokehJS does not appear to have successfully loaded. If loading BokehJS from CDN, this \\n\"+\n",
       "     \"may be due to a slow or bad network connection. Possible fixes:\\n\"+\n",
       "     \"</p>\\n\"+\n",
       "     \"<ul>\\n\"+\n",
       "     \"<li>re-rerun `output_notebook()` to attempt to load from CDN again, or</li>\\n\"+\n",
       "     \"<li>use INLINE resources instead, as so:</li>\\n\"+\n",
       "     \"</ul>\\n\"+\n",
       "     \"<code>\\n\"+\n",
       "     \"from bokeh.resources import INLINE\\n\"+\n",
       "     \"output_notebook(resources=INLINE)\\n\"+\n",
       "     \"</code>\\n\"+\n",
       "     \"</div>\"}};\n",
       "\n",
       "  function display_loaded() {\n",
       "    if (window.Bokeh !== undefined) {\n",
       "      document.getElementById(\"5afc6498-48ab-43bf-be90-84b51249abff\").textContent = \"BokehJS successfully loaded.\";\n",
       "    } else if (Date.now() < window._bokeh_timeout) {\n",
       "      setTimeout(display_loaded, 100)\n",
       "    }\n",
       "  }\n",
       "\n",
       "  function run_callbacks() {\n",
       "    window._bokeh_onload_callbacks.forEach(function(callback) { callback() });\n",
       "    delete window._bokeh_onload_callbacks\n",
       "    console.info(\"Bokeh: all callbacks have finished\");\n",
       "  }\n",
       "\n",
       "  function load_libs(js_urls, callback) {\n",
       "    window._bokeh_onload_callbacks.push(callback);\n",
       "    if (window._bokeh_is_loading > 0) {\n",
       "      console.log(\"Bokeh: BokehJS is being loaded, scheduling callback at\", now());\n",
       "      return null;\n",
       "    }\n",
       "    if (js_urls == null || js_urls.length === 0) {\n",
       "      run_callbacks();\n",
       "      return null;\n",
       "    }\n",
       "    console.log(\"Bokeh: BokehJS not loaded, scheduling load and callback at\", now());\n",
       "    window._bokeh_is_loading = js_urls.length;\n",
       "    for (var i = 0; i < js_urls.length; i++) {\n",
       "      var url = js_urls[i];\n",
       "      var s = document.createElement('script');\n",
       "      s.src = url;\n",
       "      s.async = false;\n",
       "      s.onreadystatechange = s.onload = function() {\n",
       "        window._bokeh_is_loading--;\n",
       "        if (window._bokeh_is_loading === 0) {\n",
       "          console.log(\"Bokeh: all BokehJS libraries loaded\");\n",
       "          run_callbacks()\n",
       "        }\n",
       "      };\n",
       "      s.onerror = function() {\n",
       "        console.warn(\"failed to load library \" + url);\n",
       "      };\n",
       "      console.log(\"Bokeh: injecting script tag for BokehJS library: \", url);\n",
       "      document.getElementsByTagName(\"head\")[0].appendChild(s);\n",
       "    }\n",
       "  };var element = document.getElementById(\"5afc6498-48ab-43bf-be90-84b51249abff\");\n",
       "  if (element == null) {\n",
       "    console.log(\"Bokeh: ERROR: autoload.js configured with elementid '5afc6498-48ab-43bf-be90-84b51249abff' but no matching script tag was found. \")\n",
       "    return false;\n",
       "  }\n",
       "\n",
       "  var js_urls = [\"https://cdn.pydata.org/bokeh/release/bokeh-0.12.4.min.js\", \"https://cdn.pydata.org/bokeh/release/bokeh-widgets-0.12.4.min.js\"];\n",
       "\n",
       "  var inline_js = [\n",
       "    function(Bokeh) {\n",
       "      Bokeh.set_log_level(\"info\");\n",
       "    },\n",
       "    \n",
       "    function(Bokeh) {\n",
       "      \n",
       "      document.getElementById(\"5afc6498-48ab-43bf-be90-84b51249abff\").textContent = \"BokehJS is loading...\";\n",
       "    },\n",
       "    function(Bokeh) {\n",
       "      console.log(\"Bokeh: injecting CSS: https://cdn.pydata.org/bokeh/release/bokeh-0.12.4.min.css\");\n",
       "      Bokeh.embed.inject_css(\"https://cdn.pydata.org/bokeh/release/bokeh-0.12.4.min.css\");\n",
       "      console.log(\"Bokeh: injecting CSS: https://cdn.pydata.org/bokeh/release/bokeh-widgets-0.12.4.min.css\");\n",
       "      Bokeh.embed.inject_css(\"https://cdn.pydata.org/bokeh/release/bokeh-widgets-0.12.4.min.css\");\n",
       "    }\n",
       "  ];\n",
       "\n",
       "  function run_inline_js() {\n",
       "    \n",
       "    if ((window.Bokeh !== undefined) || (force === true)) {\n",
       "      for (var i = 0; i < inline_js.length; i++) {\n",
       "        inline_js[i](window.Bokeh);\n",
       "      }if (force === true) {\n",
       "        display_loaded();\n",
       "      }} else if (Date.now() < window._bokeh_timeout) {\n",
       "      setTimeout(run_inline_js, 100);\n",
       "    } else if (!window._bokeh_failed_load) {\n",
       "      console.log(\"Bokeh: BokehJS failed to load within specified timeout.\");\n",
       "      window._bokeh_failed_load = true;\n",
       "    } else if (force !== true) {\n",
       "      var cell = $(document.getElementById(\"5afc6498-48ab-43bf-be90-84b51249abff\")).parents('.cell').data().cell;\n",
       "      cell.output_area.append_execute_result(NB_LOAD_WARNING)\n",
       "    }\n",
       "\n",
       "  }\n",
       "\n",
       "  if (window._bokeh_is_loading === 0) {\n",
       "    console.log(\"Bokeh: BokehJS loaded, going straight to plotting\");\n",
       "    run_inline_js();\n",
       "  } else {\n",
       "    load_libs(js_urls, function() {\n",
       "      console.log(\"Bokeh: BokehJS plotting callback run at\", now());\n",
       "      run_inline_js();\n",
       "    });\n",
       "  }\n",
       "}(this));"
      ]
     },
     "metadata": {},
     "output_type": "display_data"
    }
   ],
   "source": [
    "from bokeh.io            import push_notebook, show, output_notebook\n",
    "from bokeh.layouts       import gridplot, row\n",
    "from bokeh.plotting      import figure\n",
    "from bokeh.palettes      import Viridis3\n",
    "import matplotlib.pyplot as plt\n",
    "%matplotlib inline\n",
    "output_notebook()"
   ]
  },
  {
   "cell_type": "code",
   "execution_count": 61,
   "metadata": {
    "collapsed": false,
    "scrolled": true
   },
   "outputs": [
    {
     "data": {
      "text/html": [
       "\n",
       "\n",
       "    <div class=\"bk-root\">\n",
       "        <div class=\"bk-plotdiv\" id=\"875de938-1a32-4c57-95c7-6bc0151edd65\"></div>\n",
       "    </div>\n",
       "<script type=\"text/javascript\">\n",
       "  \n",
       "  (function(global) {\n",
       "    function now() {\n",
       "      return new Date();\n",
       "    }\n",
       "  \n",
       "    var force = false;\n",
       "  \n",
       "    if (typeof (window._bokeh_onload_callbacks) === \"undefined\" || force === true) {\n",
       "      window._bokeh_onload_callbacks = [];\n",
       "      window._bokeh_is_loading = undefined;\n",
       "    }\n",
       "  \n",
       "  \n",
       "    \n",
       "    if (typeof (window._bokeh_timeout) === \"undefined\" || force === true) {\n",
       "      window._bokeh_timeout = Date.now() + 0;\n",
       "      window._bokeh_failed_load = false;\n",
       "    }\n",
       "  \n",
       "    var NB_LOAD_WARNING = {'data': {'text/html':\n",
       "       \"<div style='background-color: #fdd'>\\n\"+\n",
       "       \"<p>\\n\"+\n",
       "       \"BokehJS does not appear to have successfully loaded. If loading BokehJS from CDN, this \\n\"+\n",
       "       \"may be due to a slow or bad network connection. Possible fixes:\\n\"+\n",
       "       \"</p>\\n\"+\n",
       "       \"<ul>\\n\"+\n",
       "       \"<li>re-rerun `output_notebook()` to attempt to load from CDN again, or</li>\\n\"+\n",
       "       \"<li>use INLINE resources instead, as so:</li>\\n\"+\n",
       "       \"</ul>\\n\"+\n",
       "       \"<code>\\n\"+\n",
       "       \"from bokeh.resources import INLINE\\n\"+\n",
       "       \"output_notebook(resources=INLINE)\\n\"+\n",
       "       \"</code>\\n\"+\n",
       "       \"</div>\"}};\n",
       "  \n",
       "    function display_loaded() {\n",
       "      if (window.Bokeh !== undefined) {\n",
       "        document.getElementById(\"875de938-1a32-4c57-95c7-6bc0151edd65\").textContent = \"BokehJS successfully loaded.\";\n",
       "      } else if (Date.now() < window._bokeh_timeout) {\n",
       "        setTimeout(display_loaded, 100)\n",
       "      }\n",
       "    }\n",
       "  \n",
       "    function run_callbacks() {\n",
       "      window._bokeh_onload_callbacks.forEach(function(callback) { callback() });\n",
       "      delete window._bokeh_onload_callbacks\n",
       "      console.info(\"Bokeh: all callbacks have finished\");\n",
       "    }\n",
       "  \n",
       "    function load_libs(js_urls, callback) {\n",
       "      window._bokeh_onload_callbacks.push(callback);\n",
       "      if (window._bokeh_is_loading > 0) {\n",
       "        console.log(\"Bokeh: BokehJS is being loaded, scheduling callback at\", now());\n",
       "        return null;\n",
       "      }\n",
       "      if (js_urls == null || js_urls.length === 0) {\n",
       "        run_callbacks();\n",
       "        return null;\n",
       "      }\n",
       "      console.log(\"Bokeh: BokehJS not loaded, scheduling load and callback at\", now());\n",
       "      window._bokeh_is_loading = js_urls.length;\n",
       "      for (var i = 0; i < js_urls.length; i++) {\n",
       "        var url = js_urls[i];\n",
       "        var s = document.createElement('script');\n",
       "        s.src = url;\n",
       "        s.async = false;\n",
       "        s.onreadystatechange = s.onload = function() {\n",
       "          window._bokeh_is_loading--;\n",
       "          if (window._bokeh_is_loading === 0) {\n",
       "            console.log(\"Bokeh: all BokehJS libraries loaded\");\n",
       "            run_callbacks()\n",
       "          }\n",
       "        };\n",
       "        s.onerror = function() {\n",
       "          console.warn(\"failed to load library \" + url);\n",
       "        };\n",
       "        console.log(\"Bokeh: injecting script tag for BokehJS library: \", url);\n",
       "        document.getElementsByTagName(\"head\")[0].appendChild(s);\n",
       "      }\n",
       "    };var element = document.getElementById(\"875de938-1a32-4c57-95c7-6bc0151edd65\");\n",
       "    if (element == null) {\n",
       "      console.log(\"Bokeh: ERROR: autoload.js configured with elementid '875de938-1a32-4c57-95c7-6bc0151edd65' but no matching script tag was found. \")\n",
       "      return false;\n",
       "    }\n",
       "  \n",
       "    var js_urls = [];\n",
       "  \n",
       "    var inline_js = [\n",
       "      function(Bokeh) {\n",
       "        (function() {\n",
       "          var fn = function() {\n",
       "            var docs_json = {\"0e32cde7-5563-465f-bc58-884808061632\":{\"roots\":{\"references\":[{\"attributes\":{\"plot\":{\"id\":\"d29a6ba5-f995-4fe2-81e6-0513793ff7a8\",\"subtype\":\"Figure\",\"type\":\"Plot\"}},\"id\":\"8b42c598-e5f8-458e-b563-8a17b655b744\",\"type\":\"WheelZoomTool\"},{\"attributes\":{\"data_source\":{\"id\":\"b859a745-a7d1-4350-86f2-ac029d124ee0\",\"type\":\"ColumnDataSource\"},\"glyph\":{\"id\":\"3d56352f-9f94-4a05-a3e0-488afe522b1b\",\"type\":\"Line\"},\"hover_glyph\":null,\"nonselection_glyph\":{\"id\":\"9e889caa-4426-4463-b63e-3f37b6bbaafc\",\"type\":\"Line\"},\"selection_glyph\":null},\"id\":\"3baf6428-4e48-43e7-8b63-283c9acb4097\",\"type\":\"GlyphRenderer\"},{\"attributes\":{\"line_color\":{\"value\":\"#FDE724\"},\"x\":{\"field\":\"x\"},\"y\":{\"field\":\"y\"}},\"id\":\"8655f8cf-886b-48f6-a837-41fcee1162d6\",\"type\":\"Line\"},{\"attributes\":{},\"id\":\"5da0e280-5779-4c9f-b4e2-1e1deb319e45\",\"type\":\"BasicTicker\"},{\"attributes\":{\"callback\":null,\"column_names\":[\"y\",\"x\"],\"data\":{\"x\":{\"__ndarray__\":\"joM0eTYLuz/jyz1nVBW9PzgUR1VyH78/Ri6oIciUwD9x0qwY15nBP5x2sQ/mnsI/xhq2BvWjwz/wvrr9A6nEPxtjv/QSrsU/RgfE6yGzxj9wq8jiMLjHP5pPzdk/vcg/xfPR0E7CyT/wl9bHXcfKPxo8275szMs/RODftXvRzD9vhOSsitbNP5ko6aOZ284/xMztmqjgzz94OPnI23LQP4yKe0Rj9dA/otz9v+p30T+3LoA7cvrRP8yAArf5fNI/4tKEMoH/0j/2JAeuCILTPwx3iSmQBNQ/IskLpReH1D82G44gnwnVP0xtEJwmjNU/Yb+SF64O1j92ERWTNZHWP4xjlw69E9c/oLUZikSW1z+2B5wFzBjYP8xZHoFTm9g/4Kug/Nod2T/2/SJ4YqDZPwxQpfPpIto/IKInb3Gl2j829Knq+CfbP0pGLGaAqts/YJiu4Qct3D926jBdj6/cP4o8s9gWMt0/oI41VJ603T+24LfPJTfeP8oyOkutud4/4IS8xjQ83z/01j5CvL7fP4WU4N6hIOA/kL2hnOVh4D+a5mJaKaPgP6UPJBht5OA/sDjl1bAl4T+6YaaT9GbhP8WKZ1E4qOE/z7MoD3zp4T/a3OnMvyriP+UFq4oDbOI/7y5sSEet4j/6Vy0Gi+7iPwWB7sPOL+M/D6qvgRJx4z8a03A/VrLjPyX8Mf2Z8+M/LyXzut005D86TrR4IXbkP0R3dTZlt+Q/T6A29Kj45D9ayfex7DnlP2TyuG8we+U/bxt6LXS85T96RDvrt/3lP4Rt/Kj7PuY/j5a9Zj+A5j+av34kg8HmP6ToP+LGAuc/rxEBoApE5z+5OsJdToXnP8RjgxuSxuc/z4xE2dUH6D/ZtQWXGUnoP+TexlRdiug/7geIEqHL6D/5MEnQ5AzpPwRaCo4oTuk/DoPLS2yP6T8ZrIwJsNDpPyTVTcfzEeo/Lv4OhTdT6j85J9BCe5TqP0RQkQC/1eo/TnlSvgIX6z9ZohN8RljrP2PL1DmKmes/bvSV983a6z95HVe1ERzsP4NGGHNVXew/jm/ZMJme7D8=\",\"dtype\":\"float64\",\"shape\":[100]},\"y\":{\"__ndarray__\":\"0x0ggosj0T8r4oDARnjTPx8pCBu15dU/rydPm45p2D95jGZ1lwHbP5l/1gegq90/Z1HPbcIy4D+pCBtSl5bhP/+vxR9JAOM/nk4CW9hu5D99qD+dS+HlP10+KJWvVuc/zk2iBhfO6D8d0c/KmkbqP2V/DtBZv+s/h8z3GXk37T806WDBI67uP2xhLXpFEfA/1gEZ+/LJ8D9aibcPuYDxP9sJ6245NfI/pHMz2hjn8j9ela4d/5XzPyIcGBCXQfQ/X5PJko7p9D/rZLqRlo31PwrZfwNjLfY/VxZN6arI9j/YIfNOKF/3P/je4EqY8Pc/fQ8j/rp8+D+gU2SUUwP5P/Ep7UMohPk/Z++jTQL/+T9k3wz9rXP6P6UTSqj64fo/SoQbsLpJ+z/iB99/w6r7P1pTkI3tBPw/AfrIWRRY/D+IbcBvFqT8Pwj+S2XV6Pw//9ne2jUm/T9LDop7H1z9Py+G/Px8iv0/XAuDHzyx/T/aRQiuTdD9PxK8FH6l5/0/4NLObzr3/T90zfptBv/9P3TN+m0G//0/4NLObzr3/T8SvBR+pef9P9pFCK5N0P0/XAuDHzyx/T8zhvz8fIr9P0sOinsfXP0//9ne2jUm/T8I/ktl1ej8P4htwG8WpPw/AfrIWRRY/D9aU5CN7QT8P+IH33/Dqvs/ToQbsLpJ+z+lE0qo+uH6P2TfDP2tc/o/au+jTQL/+T/xKe1DKIT5P6BTZJRTA/k/gA8j/rp8+D/43uBKmPD3P9sh804oX/c/VxZN6arI9j8K2X8DYy32P+1kupGWjfU/X5PJko7p9D8iHBgQl0H0P2GVrh3/lfM/pHMz2hjn8j/dCetuOTXyP1qJtw+5gPE/1gEZ+/LJ8D9sYS16RRHwPzjpYMEjru4/ksz3GXk37T9pfw7QWb/rPx3Rz8qaRuo/0U2iBhfO6D9gPiiVr1bnP32oP51L4eU/nk4CW9hu5D8BsMUfSQDjP6kIG1KXluE/a1HPbcIy4D+Zf9YHoKvdP4aMZnWXAds/tSdPm45p2D8fKQgbteXVPzDigMBGeNM/1x0ggosj0T8=\",\"dtype\":\"float64\",\"shape\":[100]}}},\"id\":\"fbb15016-08bb-48fd-87a3-aadfd6e31644\",\"type\":\"ColumnDataSource\"},{\"attributes\":{\"label\":{\"value\":\"Beta (3,3)\"},\"renderers\":[{\"id\":\"a7ce02d8-5a3d-4785-a82c-f3a6ea2d2371\",\"type\":\"GlyphRenderer\"}]},\"id\":\"a5d4707b-f293-4d35-98ac-d7c766066a97\",\"type\":\"LegendItem\"},{\"attributes\":{\"data_source\":{\"id\":\"95ccc0b3-c178-423a-a36c-682d8c7f4d21\",\"type\":\"ColumnDataSource\"},\"glyph\":{\"id\":\"8655f8cf-886b-48f6-a837-41fcee1162d6\",\"type\":\"Line\"},\"hover_glyph\":null,\"nonselection_glyph\":{\"id\":\"da5bf528-ba1f-4c2d-a256-1fb8be83407a\",\"type\":\"Line\"},\"selection_glyph\":null},\"id\":\"392f5408-34f4-4e6a-93e1-12c9db55c2fa\",\"type\":\"GlyphRenderer\"},{\"attributes\":{\"overlay\":{\"id\":\"f881db2c-16c9-43c4-8c6c-e0bf3f3cbbcf\",\"type\":\"BoxAnnotation\"},\"plot\":{\"id\":\"d29a6ba5-f995-4fe2-81e6-0513793ff7a8\",\"subtype\":\"Figure\",\"type\":\"Plot\"}},\"id\":\"610684ee-75c0-413a-8422-c018f85a5137\",\"type\":\"BoxZoomTool\"},{\"attributes\":{},\"id\":\"eec1265a-c120-498d-96ac-39f0cf1ec107\",\"type\":\"BasicTicker\"},{\"attributes\":{\"line_color\":{\"value\":\"#208F8C\"},\"x\":{\"field\":\"x\"},\"y\":{\"field\":\"y\"}},\"id\":\"3d56352f-9f94-4a05-a3e0-488afe522b1b\",\"type\":\"Line\"},{\"attributes\":{},\"id\":\"f6fe5b4d-037a-4c6e-b7c5-c1ec9129a03f\",\"type\":\"ToolEvents\"},{\"attributes\":{\"callback\":null},\"id\":\"f6766f6c-f2a3-40c6-ac68-354c7d420b68\",\"type\":\"DataRange1d\"},{\"attributes\":{\"dimension\":1,\"plot\":{\"id\":\"d29a6ba5-f995-4fe2-81e6-0513793ff7a8\",\"subtype\":\"Figure\",\"type\":\"Plot\"},\"ticker\":{\"id\":\"eec1265a-c120-498d-96ac-39f0cf1ec107\",\"type\":\"BasicTicker\"}},\"id\":\"77bf6064-c25f-44d5-8af5-6abd90ceca9e\",\"type\":\"Grid\"},{\"attributes\":{\"line_alpha\":{\"value\":0.1},\"line_color\":{\"value\":\"#1f77b4\"},\"x\":{\"field\":\"x\"},\"y\":{\"field\":\"y\"}},\"id\":\"9e889caa-4426-4463-b63e-3f37b6bbaafc\",\"type\":\"Line\"},{\"attributes\":{\"callback\":null,\"column_names\":[\"y\",\"x\"],\"data\":{\"x\":{\"__ndarray__\":\"joM0eTYLuz/jyz1nVBW9PzgUR1VyH78/Ri6oIciUwD9x0qwY15nBP5x2sQ/mnsI/xhq2BvWjwz/wvrr9A6nEPxtjv/QSrsU/RgfE6yGzxj9wq8jiMLjHP5pPzdk/vcg/xfPR0E7CyT/wl9bHXcfKPxo8275szMs/RODftXvRzD9vhOSsitbNP5ko6aOZ284/xMztmqjgzz94OPnI23LQP4yKe0Rj9dA/otz9v+p30T+3LoA7cvrRP8yAArf5fNI/4tKEMoH/0j/2JAeuCILTPwx3iSmQBNQ/IskLpReH1D82G44gnwnVP0xtEJwmjNU/Yb+SF64O1j92ERWTNZHWP4xjlw69E9c/oLUZikSW1z+2B5wFzBjYP8xZHoFTm9g/4Kug/Nod2T/2/SJ4YqDZPwxQpfPpIto/IKInb3Gl2j829Knq+CfbP0pGLGaAqts/YJiu4Qct3D926jBdj6/cP4o8s9gWMt0/oI41VJ603T+24LfPJTfeP8oyOkutud4/4IS8xjQ83z/01j5CvL7fP4WU4N6hIOA/kL2hnOVh4D+a5mJaKaPgP6UPJBht5OA/sDjl1bAl4T+6YaaT9GbhP8WKZ1E4qOE/z7MoD3zp4T/a3OnMvyriP+UFq4oDbOI/7y5sSEet4j/6Vy0Gi+7iPwWB7sPOL+M/D6qvgRJx4z8a03A/VrLjPyX8Mf2Z8+M/LyXzut005D86TrR4IXbkP0R3dTZlt+Q/T6A29Kj45D9ayfex7DnlP2TyuG8we+U/bxt6LXS85T96RDvrt/3lP4Rt/Kj7PuY/j5a9Zj+A5j+av34kg8HmP6ToP+LGAuc/rxEBoApE5z+5OsJdToXnP8RjgxuSxuc/z4xE2dUH6D/ZtQWXGUnoP+TexlRdiug/7geIEqHL6D/5MEnQ5AzpPwRaCo4oTuk/DoPLS2yP6T8ZrIwJsNDpPyTVTcfzEeo/Lv4OhTdT6j85J9BCe5TqP0RQkQC/1eo/TnlSvgIX6z9ZohN8RljrP2PL1DmKmes/bvSV983a6z95HVe1ERzsP4NGGHNVXew/jm/ZMJme7D8=\",\"dtype\":\"float64\",\"shape\":[100]},\"y\":{\"__ndarray__\":\"fd2F1+uX4z/eA39fvPbnP1+1Acmntuw/mOsvVRHl8D98O2u/55DzPxNd+zx8VvY/QWEQGwMt+T9EdF83eAv8Pz3sEVLT6P4/vikvxxveAECuIfjNjj4CQIUx/Ry8kQNABN9weenTBEAHkuKKtQEGQGQoRIkhGAdAgechO5gUCECu5t1s8vQIQOzANxF5twlANJHEQOVaCkCOLIBRXt4KQM2Qj0F2QQtAQVzgsCSEC0AmZ7+kwKYLQGXf+U75qQtAMIvMD86OC0DEufPmhVYLQIlyv4SmAgtAQGFCKOuUCkBB+aJzOw8KQBcuXluicwlAc6//UEXECEAJuIfFWwMIQBx0ehsnMwdAHZ52HOtVBkASuDsC520FQOLKRR9PfQRAUWGcL0eGA0AvgSpX3YoCQIUA8s8FjQFAOLqwR5eOAEBJBzfUjyL/P7PeUyVWLf0/3vMcPl9A+z+l1b6zPV75PwrqRuc3ifc/epzO/kfD9T/zm2fOHA70P18IVpgba/I/DCJ0i2Lb8D84M6TMl7/uP9fddUvj8es/izRnS2NO6T/0AIU5ZNXmPwL1kbTMhuQ/7xTcYydi4j+O5f3+rGbgPzcJ3cCcJt0/VFE1AH3N2T9Uu4dt+L7WPwPgBl2399M/TCb50B500T93CN8Nw2DOP9MpDssfUco/SAgGYU2xxj9HsbvfOHnDP69L2vnaoMA/wfwmu5pAvD9Y3k6Tut+3P/z7SM02ELQ/ZNJO69HDsD+4tGG4CdqrP1tB6Kse/qY/BTZfOQfcoj9anPYxOLueP4ZVdBPj3Jg/lSwPZa/3kz96XhRwU9OPP5mRVVBpKIk/aUxrLtO3gz/hlOfWx6F+P3Ccy5BqkXc/XPfGkYvzcT/SPlvdQQ5rP53SzFGEKGQ/fWtA/TetXT+kALAoR5BVP5bESpuv504/bpbVj5TRRT+0T7NA6lA+P6+PRrm9sjQ/pxQNrQ28Kz+rwunN+jMiP7EZX+HFXBc/9DN83j9ADT9PjvoIYNEBP9UjJOqzDvU+kmPeQg8O6D66MgwgyXLaPreAKT6M2Ms+SPG27ODluz4=\",\"dtype\":\"float64\",\"shape\":[100]}}},\"id\":\"b859a745-a7d1-4350-86f2-ac029d124ee0\",\"type\":\"ColumnDataSource\"},{\"attributes\":{\"plot\":{\"id\":\"d29a6ba5-f995-4fe2-81e6-0513793ff7a8\",\"subtype\":\"Figure\",\"type\":\"Plot\"}},\"id\":\"e071e811-4346-40da-840f-007adf5ea68d\",\"type\":\"HelpTool\"},{\"attributes\":{\"items\":[{\"id\":\"a5d4707b-f293-4d35-98ac-d7c766066a97\",\"type\":\"LegendItem\"},{\"id\":\"dc4136f6-7241-4527-af50-3997c4ca1103\",\"type\":\"LegendItem\"},{\"id\":\"70471a2d-0d6d-4f28-b11a-e20ae1c2cce4\",\"type\":\"LegendItem\"}],\"plot\":{\"id\":\"d29a6ba5-f995-4fe2-81e6-0513793ff7a8\",\"subtype\":\"Figure\",\"type\":\"Plot\"}},\"id\":\"947164b3-a3a2-4f0f-aaf5-d37a7cbc5a6a\",\"type\":\"Legend\"},{\"attributes\":{\"plot\":{\"id\":\"d29a6ba5-f995-4fe2-81e6-0513793ff7a8\",\"subtype\":\"Figure\",\"type\":\"Plot\"}},\"id\":\"79e74763-eebd-42ef-96ff-97023cc0737b\",\"type\":\"SaveTool\"},{\"attributes\":{},\"id\":\"56137fea-6298-48a6-b2a8-9cd177b46bc7\",\"type\":\"BasicTickFormatter\"},{\"attributes\":{\"plot\":{\"id\":\"d29a6ba5-f995-4fe2-81e6-0513793ff7a8\",\"subtype\":\"Figure\",\"type\":\"Plot\"},\"ticker\":{\"id\":\"5da0e280-5779-4c9f-b4e2-1e1deb319e45\",\"type\":\"BasicTicker\"}},\"id\":\"e4c1c75e-f9a7-47ec-b0a6-ca988b68ebbf\",\"type\":\"Grid\"},{\"attributes\":{},\"id\":\"87d26f97-d782-46a1-9835-142a30c51ee0\",\"type\":\"BasicTickFormatter\"},{\"attributes\":{\"line_color\":{\"value\":\"#440154\"},\"x\":{\"field\":\"x\"},\"y\":{\"field\":\"y\"}},\"id\":\"a9912a67-fca4-4629-a2e6-a758ecfab420\",\"type\":\"Line\"},{\"attributes\":{\"line_alpha\":{\"value\":0.1},\"line_color\":{\"value\":\"#1f77b4\"},\"x\":{\"field\":\"x\"},\"y\":{\"field\":\"y\"}},\"id\":\"da5bf528-ba1f-4c2d-a256-1fb8be83407a\",\"type\":\"Line\"},{\"attributes\":{\"plot\":null,\"text\":\"Bayes' Conjugate Prior\"},\"id\":\"874d6ebe-0a39-41d1-afdb-75b3b83bd30c\",\"type\":\"Title\"},{\"attributes\":{\"bottom_units\":\"screen\",\"fill_alpha\":{\"value\":0.5},\"fill_color\":{\"value\":\"lightgrey\"},\"left_units\":\"screen\",\"level\":\"overlay\",\"line_alpha\":{\"value\":1.0},\"line_color\":{\"value\":\"black\"},\"line_dash\":[4,4],\"line_width\":{\"value\":2},\"plot\":null,\"render_mode\":\"css\",\"right_units\":\"screen\",\"top_units\":\"screen\"},\"id\":\"f881db2c-16c9-43c4-8c6c-e0bf3f3cbbcf\",\"type\":\"BoxAnnotation\"},{\"attributes\":{\"plot\":{\"id\":\"d29a6ba5-f995-4fe2-81e6-0513793ff7a8\",\"subtype\":\"Figure\",\"type\":\"Plot\"}},\"id\":\"f496d6c0-7086-4002-8a2d-fb2174722a7a\",\"type\":\"ResetTool\"},{\"attributes\":{\"below\":[{\"id\":\"8841019f-391a-4c81-8260-df58fa694fd1\",\"type\":\"LinearAxis\"}],\"left\":[{\"id\":\"b764dae0-0956-4f68-8370-b8507ecab448\",\"type\":\"LinearAxis\"}],\"plot_height\":480,\"renderers\":[{\"id\":\"8841019f-391a-4c81-8260-df58fa694fd1\",\"type\":\"LinearAxis\"},{\"id\":\"e4c1c75e-f9a7-47ec-b0a6-ca988b68ebbf\",\"type\":\"Grid\"},{\"id\":\"b764dae0-0956-4f68-8370-b8507ecab448\",\"type\":\"LinearAxis\"},{\"id\":\"77bf6064-c25f-44d5-8af5-6abd90ceca9e\",\"type\":\"Grid\"},{\"id\":\"f881db2c-16c9-43c4-8c6c-e0bf3f3cbbcf\",\"type\":\"BoxAnnotation\"},{\"id\":\"947164b3-a3a2-4f0f-aaf5-d37a7cbc5a6a\",\"type\":\"Legend\"},{\"id\":\"a7ce02d8-5a3d-4785-a82c-f3a6ea2d2371\",\"type\":\"GlyphRenderer\"},{\"id\":\"3baf6428-4e48-43e7-8b63-283c9acb4097\",\"type\":\"GlyphRenderer\"},{\"id\":\"392f5408-34f4-4e6a-93e1-12c9db55c2fa\",\"type\":\"GlyphRenderer\"}],\"title\":{\"id\":\"874d6ebe-0a39-41d1-afdb-75b3b83bd30c\",\"type\":\"Title\"},\"tool_events\":{\"id\":\"f6fe5b4d-037a-4c6e-b7c5-c1ec9129a03f\",\"type\":\"ToolEvents\"},\"toolbar\":{\"id\":\"954e5db5-153c-44b2-98b9-92bab0d401a1\",\"type\":\"Toolbar\"},\"x_range\":{\"id\":\"f6766f6c-f2a3-40c6-ac68-354c7d420b68\",\"type\":\"DataRange1d\"},\"y_range\":{\"id\":\"b32ace6e-d5c2-4d23-bdfb-ef44657005e0\",\"type\":\"DataRange1d\"}},\"id\":\"d29a6ba5-f995-4fe2-81e6-0513793ff7a8\",\"subtype\":\"Figure\",\"type\":\"Plot\"},{\"attributes\":{\"label\":{\"value\":\"Beta (5,11)\"},\"renderers\":[{\"id\":\"3baf6428-4e48-43e7-8b63-283c9acb4097\",\"type\":\"GlyphRenderer\"}]},\"id\":\"dc4136f6-7241-4527-af50-3997c4ca1103\",\"type\":\"LegendItem\"},{\"attributes\":{\"label\":{\"value\":\"95% probability interval\"},\"renderers\":[{\"id\":\"392f5408-34f4-4e6a-93e1-12c9db55c2fa\",\"type\":\"GlyphRenderer\"}]},\"id\":\"70471a2d-0d6d-4f28-b11a-e20ae1c2cce4\",\"type\":\"LegendItem\"},{\"attributes\":{\"formatter\":{\"id\":\"56137fea-6298-48a6-b2a8-9cd177b46bc7\",\"type\":\"BasicTickFormatter\"},\"plot\":{\"id\":\"d29a6ba5-f995-4fe2-81e6-0513793ff7a8\",\"subtype\":\"Figure\",\"type\":\"Plot\"},\"ticker\":{\"id\":\"eec1265a-c120-498d-96ac-39f0cf1ec107\",\"type\":\"BasicTicker\"}},\"id\":\"b764dae0-0956-4f68-8370-b8507ecab448\",\"type\":\"LinearAxis\"},{\"attributes\":{\"line_alpha\":{\"value\":0.1},\"line_color\":{\"value\":\"#1f77b4\"},\"x\":{\"field\":\"x\"},\"y\":{\"field\":\"y\"}},\"id\":\"decb6208-da90-4d43-ba96-d966283b98d2\",\"type\":\"Line\"},{\"attributes\":{\"data_source\":{\"id\":\"fbb15016-08bb-48fd-87a3-aadfd6e31644\",\"type\":\"ColumnDataSource\"},\"glyph\":{\"id\":\"a9912a67-fca4-4629-a2e6-a758ecfab420\",\"type\":\"Line\"},\"hover_glyph\":null,\"nonselection_glyph\":{\"id\":\"decb6208-da90-4d43-ba96-d966283b98d2\",\"type\":\"Line\"},\"selection_glyph\":null},\"id\":\"a7ce02d8-5a3d-4785-a82c-f3a6ea2d2371\",\"type\":\"GlyphRenderer\"},{\"attributes\":{\"active_drag\":\"auto\",\"active_scroll\":\"auto\",\"active_tap\":\"auto\",\"tools\":[{\"id\":\"d0c9873e-9112-47b8-81a2-d3387f9e7b41\",\"type\":\"PanTool\"},{\"id\":\"8b42c598-e5f8-458e-b563-8a17b655b744\",\"type\":\"WheelZoomTool\"},{\"id\":\"610684ee-75c0-413a-8422-c018f85a5137\",\"type\":\"BoxZoomTool\"},{\"id\":\"79e74763-eebd-42ef-96ff-97023cc0737b\",\"type\":\"SaveTool\"},{\"id\":\"f496d6c0-7086-4002-8a2d-fb2174722a7a\",\"type\":\"ResetTool\"},{\"id\":\"e071e811-4346-40da-840f-007adf5ea68d\",\"type\":\"HelpTool\"}]},\"id\":\"954e5db5-153c-44b2-98b9-92bab0d401a1\",\"type\":\"Toolbar\"},{\"attributes\":{\"axis_label\":\"Probability\",\"formatter\":{\"id\":\"87d26f97-d782-46a1-9835-142a30c51ee0\",\"type\":\"BasicTickFormatter\"},\"plot\":{\"id\":\"d29a6ba5-f995-4fe2-81e6-0513793ff7a8\",\"subtype\":\"Figure\",\"type\":\"Plot\"},\"ticker\":{\"id\":\"5da0e280-5779-4c9f-b4e2-1e1deb319e45\",\"type\":\"BasicTicker\"}},\"id\":\"8841019f-391a-4c81-8260-df58fa694fd1\",\"type\":\"LinearAxis\"},{\"attributes\":{\"callback\":null,\"column_names\":[\"y\",\"x\"],\"data\":{\"x\":{\"__ndarray__\":\"CPMAiAxFvj8XSahy7UPAP6oYUKFUZcE/Puj3z7uGwj/Rt5/+IqjDP2SHRy2KycQ/91bvW/HqxT+KJpeKWAzHPx72Prm/Lcg/sMXm5yZPyT9ElY4WjnDKP9dkNkX1kcs/ajTec1yzzD/+A4aiw9TNP5DTLdEq9s4/ktHq/8gL0D9cuT6XfJzQPyWhki4wLdE/7ojmxeO90T+4cDpdl07SP4JYjvRK39I/TEDii/5v0z8VKDYjsgDUP94PirplkdQ/qPfdURki1T9y3zHpzLLVPzzHhYCAQ9Y/Ba/ZFzTU1j/Oli2v52TXP5h+gUab9dc/YmbV3U6G2D8rTil1AhfZP/U1fQy2p9k/vx3Ro2k42j+IBSU7HcnaP1LteNLQWds/G9XMaYTq2z/lvCABOHvcP6+kdJjrC90/eIzIL5+c3T9CdBzHUi3ePwtccF4Gvt4/1UPE9blO3z+fKxiNbd/fP7QJNpIQOOA/mf3fXWqA4D9+8YkpxMjgP2LlM/UdEeE/R9ndwHdZ4T8szYeM0aHhPw==\",\"dtype\":\"float64\",\"shape\":[50]},\"y\":[0.25,0.25,0.25,0.25,0.25,0.25,0.25,0.25,0.25,0.25,0.25,0.25,0.25,0.25,0.25,0.25,0.25,0.25,0.25,0.25,0.25,0.25,0.25,0.25,0.25,0.25,0.25,0.25,0.25,0.25,0.25,0.25,0.25,0.25,0.25,0.25,0.25,0.25,0.25,0.25,0.25,0.25,0.25,0.25,0.25,0.25,0.25,0.25,0.25,0.25]}},\"id\":\"95ccc0b3-c178-423a-a36c-682d8c7f4d21\",\"type\":\"ColumnDataSource\"},{\"attributes\":{\"callback\":null},\"id\":\"b32ace6e-d5c2-4d23-bdfb-ef44657005e0\",\"type\":\"DataRange1d\"},{\"attributes\":{\"plot\":{\"id\":\"d29a6ba5-f995-4fe2-81e6-0513793ff7a8\",\"subtype\":\"Figure\",\"type\":\"Plot\"}},\"id\":\"d0c9873e-9112-47b8-81a2-d3387f9e7b41\",\"type\":\"PanTool\"}],\"root_ids\":[\"d29a6ba5-f995-4fe2-81e6-0513793ff7a8\"]},\"title\":\"Bokeh Application\",\"version\":\"0.12.4\"}};\n",
       "            var render_items = [{\"docid\":\"0e32cde7-5563-465f-bc58-884808061632\",\"elementid\":\"875de938-1a32-4c57-95c7-6bc0151edd65\",\"modelid\":\"d29a6ba5-f995-4fe2-81e6-0513793ff7a8\"}];\n",
       "            \n",
       "            Bokeh.embed.embed_items(docs_json, render_items);\n",
       "          };\n",
       "          if (document.readyState != \"loading\") fn();\n",
       "          else document.addEventListener(\"DOMContentLoaded\", fn);\n",
       "        })();\n",
       "      },\n",
       "      function(Bokeh) {\n",
       "      }\n",
       "    ];\n",
       "  \n",
       "    function run_inline_js() {\n",
       "      \n",
       "      if ((window.Bokeh !== undefined) || (force === true)) {\n",
       "        for (var i = 0; i < inline_js.length; i++) {\n",
       "          inline_js[i](window.Bokeh);\n",
       "        }if (force === true) {\n",
       "          display_loaded();\n",
       "        }} else if (Date.now() < window._bokeh_timeout) {\n",
       "        setTimeout(run_inline_js, 100);\n",
       "      } else if (!window._bokeh_failed_load) {\n",
       "        console.log(\"Bokeh: BokehJS failed to load within specified timeout.\");\n",
       "        window._bokeh_failed_load = true;\n",
       "      } else if (force !== true) {\n",
       "        var cell = $(document.getElementById(\"875de938-1a32-4c57-95c7-6bc0151edd65\")).parents('.cell').data().cell;\n",
       "        cell.output_area.append_execute_result(NB_LOAD_WARNING)\n",
       "      }\n",
       "  \n",
       "    }\n",
       "  \n",
       "    if (window._bokeh_is_loading === 0) {\n",
       "      console.log(\"Bokeh: BokehJS loaded, going straight to plotting\");\n",
       "      run_inline_js();\n",
       "    } else {\n",
       "      load_libs(js_urls, function() {\n",
       "        console.log(\"Bokeh: BokehJS plotting callback run at\", now());\n",
       "        run_inline_js();\n",
       "      });\n",
       "    }\n",
       "  }(this));\n",
       "</script>"
      ]
     },
     "metadata": {},
     "output_type": "display_data"
    }
   ],
   "source": [
    "from scipy.stats import beta\n",
    "\n",
    "a0,b0  = 3,3\n",
    "H,T    = 2,8\n",
    "a,b    = a0+H,b0+T\n",
    "\n",
    "x      = np.linspace(beta.ppf(0.01,a0,b0),beta.ppf(0.99,a0,b0),100)\n",
    "prior  = beta.pdf(x,a0,b0)\n",
    "post   = beta.pdf(x,a,b)\n",
    "int95  = np.linspace(beta.ppf(.025,a,b),beta.ppf(.975,a,b))\n",
    "\n",
    "p = figure(width=600,plot_height=480,title=\"Bayes' Conjugate Prior\")\n",
    "p.line(x,prior,color=Viridis3[0],legend='Beta ('+str(a0)+','+str(b0)+')')\n",
    "p.line(x,post, color=Viridis3[1],legend='Beta ('+str(a)+','+str(b)+')')\n",
    "p.line(int95,[0.25]*len(int95), color=Viridis3[2],legend='95% probability interval')\n",
    "\n",
    "p.xaxis.axis_label = 'Probability'\n",
    "show(p)"
   ]
  },
  {
   "cell_type": "markdown",
   "metadata": {},
   "source": [
    "![](bokeh_plot0.png)"
   ]
  },
  {
   "cell_type": "code",
   "execution_count": 68,
   "metadata": {
    "collapsed": false
   },
   "outputs": [
    {
     "data": {
      "text/plain": [
       "'Starting by the prior = Beta(3,3), the probability that the coin is biased towards Heads is 94.08%.'"
      ]
     },
     "execution_count": 68,
     "metadata": {},
     "output_type": "execute_result"
    }
   ],
   "source": [
    "'Starting by the prior = Beta(3,3), the probability that the coin is biased towards Heads is {0:.2f}%.'.format(100*beta.cdf(0.5,5,11))"
   ]
  },
  {
   "cell_type": "markdown",
   "metadata": {},
   "source": [
    "How does the choice of prior affect our result?\n",
    "\n",
    "If we select a flat Beta distribution with a=1 and b=1 (an uninformative prior) [[7]](http://slideplayer.com/slide/4766698/)"
   ]
  },
  {
   "cell_type": "code",
   "execution_count": 69,
   "metadata": {
    "collapsed": false,
    "scrolled": false
   },
   "outputs": [
    {
     "data": {
      "text/html": [
       "\n",
       "\n",
       "    <div class=\"bk-root\">\n",
       "        <div class=\"bk-plotdiv\" id=\"0cd5ef4c-ed96-484b-8efd-1400ce03c50d\"></div>\n",
       "    </div>\n",
       "<script type=\"text/javascript\">\n",
       "  \n",
       "  (function(global) {\n",
       "    function now() {\n",
       "      return new Date();\n",
       "    }\n",
       "  \n",
       "    var force = false;\n",
       "  \n",
       "    if (typeof (window._bokeh_onload_callbacks) === \"undefined\" || force === true) {\n",
       "      window._bokeh_onload_callbacks = [];\n",
       "      window._bokeh_is_loading = undefined;\n",
       "    }\n",
       "  \n",
       "  \n",
       "    \n",
       "    if (typeof (window._bokeh_timeout) === \"undefined\" || force === true) {\n",
       "      window._bokeh_timeout = Date.now() + 0;\n",
       "      window._bokeh_failed_load = false;\n",
       "    }\n",
       "  \n",
       "    var NB_LOAD_WARNING = {'data': {'text/html':\n",
       "       \"<div style='background-color: #fdd'>\\n\"+\n",
       "       \"<p>\\n\"+\n",
       "       \"BokehJS does not appear to have successfully loaded. If loading BokehJS from CDN, this \\n\"+\n",
       "       \"may be due to a slow or bad network connection. Possible fixes:\\n\"+\n",
       "       \"</p>\\n\"+\n",
       "       \"<ul>\\n\"+\n",
       "       \"<li>re-rerun `output_notebook()` to attempt to load from CDN again, or</li>\\n\"+\n",
       "       \"<li>use INLINE resources instead, as so:</li>\\n\"+\n",
       "       \"</ul>\\n\"+\n",
       "       \"<code>\\n\"+\n",
       "       \"from bokeh.resources import INLINE\\n\"+\n",
       "       \"output_notebook(resources=INLINE)\\n\"+\n",
       "       \"</code>\\n\"+\n",
       "       \"</div>\"}};\n",
       "  \n",
       "    function display_loaded() {\n",
       "      if (window.Bokeh !== undefined) {\n",
       "        document.getElementById(\"0cd5ef4c-ed96-484b-8efd-1400ce03c50d\").textContent = \"BokehJS successfully loaded.\";\n",
       "      } else if (Date.now() < window._bokeh_timeout) {\n",
       "        setTimeout(display_loaded, 100)\n",
       "      }\n",
       "    }\n",
       "  \n",
       "    function run_callbacks() {\n",
       "      window._bokeh_onload_callbacks.forEach(function(callback) { callback() });\n",
       "      delete window._bokeh_onload_callbacks\n",
       "      console.info(\"Bokeh: all callbacks have finished\");\n",
       "    }\n",
       "  \n",
       "    function load_libs(js_urls, callback) {\n",
       "      window._bokeh_onload_callbacks.push(callback);\n",
       "      if (window._bokeh_is_loading > 0) {\n",
       "        console.log(\"Bokeh: BokehJS is being loaded, scheduling callback at\", now());\n",
       "        return null;\n",
       "      }\n",
       "      if (js_urls == null || js_urls.length === 0) {\n",
       "        run_callbacks();\n",
       "        return null;\n",
       "      }\n",
       "      console.log(\"Bokeh: BokehJS not loaded, scheduling load and callback at\", now());\n",
       "      window._bokeh_is_loading = js_urls.length;\n",
       "      for (var i = 0; i < js_urls.length; i++) {\n",
       "        var url = js_urls[i];\n",
       "        var s = document.createElement('script');\n",
       "        s.src = url;\n",
       "        s.async = false;\n",
       "        s.onreadystatechange = s.onload = function() {\n",
       "          window._bokeh_is_loading--;\n",
       "          if (window._bokeh_is_loading === 0) {\n",
       "            console.log(\"Bokeh: all BokehJS libraries loaded\");\n",
       "            run_callbacks()\n",
       "          }\n",
       "        };\n",
       "        s.onerror = function() {\n",
       "          console.warn(\"failed to load library \" + url);\n",
       "        };\n",
       "        console.log(\"Bokeh: injecting script tag for BokehJS library: \", url);\n",
       "        document.getElementsByTagName(\"head\")[0].appendChild(s);\n",
       "      }\n",
       "    };var element = document.getElementById(\"0cd5ef4c-ed96-484b-8efd-1400ce03c50d\");\n",
       "    if (element == null) {\n",
       "      console.log(\"Bokeh: ERROR: autoload.js configured with elementid '0cd5ef4c-ed96-484b-8efd-1400ce03c50d' but no matching script tag was found. \")\n",
       "      return false;\n",
       "    }\n",
       "  \n",
       "    var js_urls = [];\n",
       "  \n",
       "    var inline_js = [\n",
       "      function(Bokeh) {\n",
       "        (function() {\n",
       "          var fn = function() {\n",
       "            var docs_json = {\"8931c2a9-5b14-40e9-a5e1-569ae6c902bc\":{\"roots\":{\"references\":[{\"attributes\":{\"data_source\":{\"id\":\"bcd443d6-2126-40a0-a064-2cdb24143e2d\",\"type\":\"ColumnDataSource\"},\"glyph\":{\"id\":\"90f7528a-f75d-4495-9da5-458850da0ab9\",\"type\":\"Line\"},\"hover_glyph\":null,\"nonselection_glyph\":{\"id\":\"7c0fc3c9-0cf6-425d-8cf8-bb7494f8b0a4\",\"type\":\"Line\"},\"selection_glyph\":null},\"id\":\"52cb1dc9-8a98-4923-a6d6-1d5d91bc9bf7\",\"type\":\"GlyphRenderer\"},{\"attributes\":{\"line_color\":{\"value\":\"#208F8C\"},\"x\":{\"field\":\"x\"},\"y\":{\"field\":\"y\"}},\"id\":\"441120a2-ff34-49fb-bc09-afe46fb48ee6\",\"type\":\"Line\"},{\"attributes\":{\"callback\":null,\"column_names\":[\"y\",\"x\"],\"data\":{\"x\":{\"__ndarray__\":\"exSuR+F6hD8Lv1ubZmCUP9hz4JJcg54/U5QyRSlTpD+67vRApGSpPyFJtzwfdq4/w9E8HM3DsT/3/h2aiky0Pyos/xdI1bY/XVnglQVeuT+RhsETw+a7P8SzopGAb74/fPDBBx98wD8Wh7LGfcDBP7Ado4XcBMM/SbSTRDtJxD/jSoQDmo3FP33hdML40cY/FnhlgVcWyD+wDlZAtlrJP0qlRv8Un8o/4zs3vnPjyz990id90ifNPxdpGDwxbM4/sP8I+4+wzz8ly/xcd3rQP3IWdbymHNE/v2HtG9a+0T8MrWV7BWHSP1j43do0A9M/pUNWOmSl0z/yjs6Zk0fUPz/aRvnC6dQ/jCW/WPKL1T/ZcDe4IS7WPya8rxdR0NY/cgcod4By1z+/UqDWrxTYPwyeGDbfttg/WemQlQ5Z2T+mNAn1PfvZP/N/gVRtndo/P8v5s5w/2z+MFnITzOHbP9lh6nL7g9w/Jq1i0iom3T9z+NoxWsjdP8BDU5GJat4/DI/L8LgM3z9Z2kNQ6K7fP9MS3teLKOA/ejiah6N54D8gXlY3u8rgP8aDEufSG+E/banOlups4T8Tz4pGAr7hP7r0RvYZD+I/YBoDpjFg4j8GQL9VSbHiP61lewVhAuM/U4s3tXhT4z/6sPNkkKTjP6DWrxSo9eM/R/xrxL9G5D/tISh015fkP5NH5CPv6OQ/Om2g0wY65T/gklyDHovlP4e4GDM23OU/Ld7U4k0t5j/UA5GSZX7mP3opTUJ9z+Y/IE8J8pQg5z/HdMWhrHHnP22agVHEwuc/FMA9AdwT6D+65fmw82ToP2ALtmALtug/BzFyECMH6T+tVi7AOljpP1R86m9Sqek/+qGmH2r66T+hx2LPgUvqP0ftHn+ZnOo/7RLbLrHt6j+UOJfeyD7rPzpeU47gj+s/4YMPPvjg6z+HqcvtDzLsPy7Ph50ng+w/1PRDTT/U7D96GgD9ViXtPyFAvKxudu0/x2V4XIbH7T9uizQMnhjuPxSx8Lu1ae4/utasa8267j9h/Ggb5QvvPwciJcv8XO8/rkfhehSu7z8=\",\"dtype\":\"float64\",\"shape\":[100]},\"y\":{\"__ndarray__\":\"AAAAAAAA8D8AAAAAAADwPwAAAAAAAPA/AAAAAAAA8D8AAAAAAADwPwAAAAAAAPA/AAAAAAAA8D8AAAAAAADwPwAAAAAAAPA/AAAAAAAA8D8AAAAAAADwPwAAAAAAAPA/AAAAAAAA8D8AAAAAAADwPwAAAAAAAPA/AAAAAAAA8D8AAAAAAADwPwAAAAAAAPA/AAAAAAAA8D8AAAAAAADwPwAAAAAAAPA/AAAAAAAA8D8AAAAAAADwPwAAAAAAAPA/AAAAAAAA8D8AAAAAAADwPwAAAAAAAPA/AAAAAAAA8D8AAAAAAADwPwAAAAAAAPA/AAAAAAAA8D8AAAAAAADwPwAAAAAAAPA/AAAAAAAA8D8AAAAAAADwPwAAAAAAAPA/AAAAAAAA8D8AAAAAAADwPwAAAAAAAPA/AAAAAAAA8D8AAAAAAADwPwAAAAAAAPA/AAAAAAAA8D8AAAAAAADwPwAAAAAAAPA/AAAAAAAA8D8AAAAAAADwPwAAAAAAAPA/AAAAAAAA8D8AAAAAAADwPwAAAAAAAPA/AAAAAAAA8D8AAAAAAADwPwAAAAAAAPA/AAAAAAAA8D8AAAAAAADwPwAAAAAAAPA/AAAAAAAA8D8AAAAAAADwPwAAAAAAAPA/AAAAAAAA8D8AAAAAAADwPwAAAAAAAPA/AAAAAAAA8D8AAAAAAADwPwAAAAAAAPA/AAAAAAAA8D8AAAAAAADwPwAAAAAAAPA/AAAAAAAA8D8AAAAAAADwPwAAAAAAAPA/AAAAAAAA8D8AAAAAAADwPwAAAAAAAPA/AAAAAAAA8D8AAAAAAADwPwAAAAAAAPA/AAAAAAAA8D8AAAAAAADwPwAAAAAAAPA/AAAAAAAA8D8AAAAAAADwPwAAAAAAAPA/AAAAAAAA8D8AAAAAAADwPwAAAAAAAPA/AAAAAAAA8D8AAAAAAADwPwAAAAAAAPA/AAAAAAAA8D8AAAAAAADwPwAAAAAAAPA/AAAAAAAA8D8AAAAAAADwPwAAAAAAAPA/AAAAAAAA8D8AAAAAAADwPwAAAAAAAPA/AAAAAAAA8D8=\",\"dtype\":\"float64\",\"shape\":[100]}}},\"id\":\"004a8471-eba1-4eb4-ad3f-4905c5144720\",\"type\":\"ColumnDataSource\"},{\"attributes\":{\"plot\":{\"id\":\"03d33edf-a7e9-4a1e-ad7a-6a968c12a3ff\",\"subtype\":\"Figure\",\"type\":\"Plot\"}},\"id\":\"456f4c06-875a-4aeb-b6cc-69cf778140fc\",\"type\":\"WheelZoomTool\"},{\"attributes\":{\"line_alpha\":{\"value\":0.1},\"line_color\":{\"value\":\"#1f77b4\"},\"x\":{\"field\":\"x\"},\"y\":{\"field\":\"y\"}},\"id\":\"d0af7fd1-3200-43a5-990c-5dccdd1de7ae\",\"type\":\"Line\"},{\"attributes\":{\"label\":{\"value\":\"95% probability interval\"},\"renderers\":[{\"id\":\"52cb1dc9-8a98-4923-a6d6-1d5d91bc9bf7\",\"type\":\"GlyphRenderer\"}]},\"id\":\"b2eeab53-15b9-4c97-aa14-bb30cbba85bb\",\"type\":\"LegendItem\"},{\"attributes\":{\"callback\":null},\"id\":\"46abd5a8-2275-4cd7-bf8d-b02708e4d3ad\",\"type\":\"DataRange1d\"},{\"attributes\":{\"label\":{\"value\":\"Beta (1,1)\"},\"renderers\":[{\"id\":\"dab417d0-1861-4d51-853a-029e8c42ec57\",\"type\":\"GlyphRenderer\"}]},\"id\":\"a617b1b2-5d70-406f-903b-6e9fe0de29b8\",\"type\":\"LegendItem\"},{\"attributes\":{\"axis_label\":\"Probability\",\"formatter\":{\"id\":\"fd4ea8e3-d5a1-4edb-9aff-ec59f1920f3b\",\"type\":\"BasicTickFormatter\"},\"plot\":{\"id\":\"03d33edf-a7e9-4a1e-ad7a-6a968c12a3ff\",\"subtype\":\"Figure\",\"type\":\"Plot\"},\"ticker\":{\"id\":\"f41b26f1-9971-429b-a76b-759ec628c8a8\",\"type\":\"BasicTicker\"}},\"id\":\"360a74d2-01e8-4e00-a76d-1d1c98c77416\",\"type\":\"LinearAxis\"},{\"attributes\":{\"callback\":null,\"column_names\":[\"y\",\"x\"],\"data\":{\"x\":{\"__ndarray__\":\"exSuR+F6hD8Lv1ubZmCUP9hz4JJcg54/U5QyRSlTpD+67vRApGSpPyFJtzwfdq4/w9E8HM3DsT/3/h2aiky0Pyos/xdI1bY/XVnglQVeuT+RhsETw+a7P8SzopGAb74/fPDBBx98wD8Wh7LGfcDBP7Ado4XcBMM/SbSTRDtJxD/jSoQDmo3FP33hdML40cY/FnhlgVcWyD+wDlZAtlrJP0qlRv8Un8o/4zs3vnPjyz990id90ifNPxdpGDwxbM4/sP8I+4+wzz8ly/xcd3rQP3IWdbymHNE/v2HtG9a+0T8MrWV7BWHSP1j43do0A9M/pUNWOmSl0z/yjs6Zk0fUPz/aRvnC6dQ/jCW/WPKL1T/ZcDe4IS7WPya8rxdR0NY/cgcod4By1z+/UqDWrxTYPwyeGDbfttg/WemQlQ5Z2T+mNAn1PfvZP/N/gVRtndo/P8v5s5w/2z+MFnITzOHbP9lh6nL7g9w/Jq1i0iom3T9z+NoxWsjdP8BDU5GJat4/DI/L8LgM3z9Z2kNQ6K7fP9MS3teLKOA/ejiah6N54D8gXlY3u8rgP8aDEufSG+E/banOlups4T8Tz4pGAr7hP7r0RvYZD+I/YBoDpjFg4j8GQL9VSbHiP61lewVhAuM/U4s3tXhT4z/6sPNkkKTjP6DWrxSo9eM/R/xrxL9G5D/tISh015fkP5NH5CPv6OQ/Om2g0wY65T/gklyDHovlP4e4GDM23OU/Ld7U4k0t5j/UA5GSZX7mP3opTUJ9z+Y/IE8J8pQg5z/HdMWhrHHnP22agVHEwuc/FMA9AdwT6D+65fmw82ToP2ALtmALtug/BzFyECMH6T+tVi7AOljpP1R86m9Sqek/+qGmH2r66T+hx2LPgUvqP0ftHn+ZnOo/7RLbLrHt6j+UOJfeyD7rPzpeU47gj+s/4YMPPvjg6z+HqcvtDzLsPy7Ph50ng+w/1PRDTT/U7D96GgD9ViXtPyFAvKxudu0/x2V4XIbH7T9uizQMnhjuPxSx8Lu1ae4/utasa8267j9h/Ggb5QvvPwciJcv8XO8/rkfhehSu7z8=\",\"dtype\":\"float64\",\"shape\":[100]},\"y\":{\"__ndarray__\":\"FTg6ntNipz+06T6HslzFP997Nko5FdY/pHpjuW0N4j84GMqdyO/pP70ub8WJKfE/KMM/RA909T9761NSurb5P2qSJ+/n1v0/5KjKa6vfAEDVR4CNwK8CQHkpZgaCVQRAR8171IrMBUDVYp9GAxIHQHr8LNlnJAhAoL5tjVUDCUAK/WdbW68JQHshS2LQKQpALSk3gK50CkCIDYD+cJIKQPoYygP3hQpAnod1gWlSCkCAdMZVJPsJQIOGCmCigwlAwqCwR2zvCEB0mti6CUIIQNQ+Uuz0fgdAAR1UHJCpBkAYlGT6HMUFQIiSArK11ARA6UOQdkfbA0DJ89hljtsCQFBLRZsS2AFAUVRuUCbTAEC8x4HUyZ3/P8yNkahlmv0/vKoLHHyf+z9l8bqg/q/5P82So2Z3zvc/QHRJfA399T8GzOSbiT30P4IhNIFbkfI/jpAEp5/58D9TyImdSu7uP8W2DW/pFOw/nKtp2apn6T8Jr/QuqebmP8/V2ICWkeQ/GwPK4shn4j8mX4ZTRmjgP2xVamWgI90/Kns+YdzF2T+hMLZP8bPWP/JqvqhE6tM/HOoEvQJl0T87LBnNXkDOPwcfbJdqL8o/+ViZYueOxj/7l8S4lVbDP0ZzGxFOfsA/j/jw6Sf8uz/7ju/mTJy3P1OC1fwbzrM/zN37n0+DsD8fUkvwu1yrPwIdTk0NhaY/SfuVAblnoj9ciDZLLt2dP6U0qQhvCpg/qmpKncExkz9F1+O5KWKOP0om+qRG04c/nJg2+qp/gj96UY1adWx8Pz6YW58xl3U/RLxchJYzcD8ZDMPqYP9nP4BdKRN/hWE/yC000JkxWT8vjP0YZM9RP1jBpE9suEg/4eMRwJ7PQD+HsKrgSls2P72WfSNs/yw/YiLtx3RJIj9NuU+DMVkWP+fLRx2XWQo/g+SO//TQ/T4wiUI2hxXwPjv2FabIaOA+o/Fkjt9Tzz63/PE1jJe7PvDqnYipAKY+bk3Uip7wjj7Dqyr6U3NyPttev1kqk1E+KDAqT0guKD7+tiM4/+bzPcklEVmXtKk9J6CYu71PKz0=\",\"dtype\":\"float64\",\"shape\":[100]}}},\"id\":\"ceecaff5-6034-4f81-a31b-7f45eac47c35\",\"type\":\"ColumnDataSource\"},{\"attributes\":{\"line_alpha\":{\"value\":0.1},\"line_color\":{\"value\":\"#1f77b4\"},\"x\":{\"field\":\"x\"},\"y\":{\"field\":\"y\"}},\"id\":\"30ef7495-4a25-4e75-9e53-2e0ad1c65ee8\",\"type\":\"Line\"},{\"attributes\":{\"bottom_units\":\"screen\",\"fill_alpha\":{\"value\":0.5},\"fill_color\":{\"value\":\"lightgrey\"},\"left_units\":\"screen\",\"level\":\"overlay\",\"line_alpha\":{\"value\":1.0},\"line_color\":{\"value\":\"black\"},\"line_dash\":[4,4],\"line_width\":{\"value\":2},\"plot\":null,\"render_mode\":\"css\",\"right_units\":\"screen\",\"top_units\":\"screen\"},\"id\":\"92859139-8819-4490-8f08-69683a0ab81d\",\"type\":\"BoxAnnotation\"},{\"attributes\":{\"plot\":{\"id\":\"03d33edf-a7e9-4a1e-ad7a-6a968c12a3ff\",\"subtype\":\"Figure\",\"type\":\"Plot\"}},\"id\":\"35cbd7d7-53d1-4cd9-a16b-8a9b872dad5c\",\"type\":\"ResetTool\"},{\"attributes\":{\"data_source\":{\"id\":\"ceecaff5-6034-4f81-a31b-7f45eac47c35\",\"type\":\"ColumnDataSource\"},\"glyph\":{\"id\":\"441120a2-ff34-49fb-bc09-afe46fb48ee6\",\"type\":\"Line\"},\"hover_glyph\":null,\"nonselection_glyph\":{\"id\":\"d0af7fd1-3200-43a5-990c-5dccdd1de7ae\",\"type\":\"Line\"},\"selection_glyph\":null},\"id\":\"29b233fc-7243-4b60-b999-6c71768276b9\",\"type\":\"GlyphRenderer\"},{\"attributes\":{\"plot\":{\"id\":\"03d33edf-a7e9-4a1e-ad7a-6a968c12a3ff\",\"subtype\":\"Figure\",\"type\":\"Plot\"}},\"id\":\"b067f056-23ef-4746-b466-752d4834b765\",\"type\":\"PanTool\"},{\"attributes\":{},\"id\":\"4c03014b-d031-439d-9aa0-f9a8acad9224\",\"type\":\"ToolEvents\"},{\"attributes\":{\"line_color\":{\"value\":\"#440154\"},\"x\":{\"field\":\"x\"},\"y\":{\"field\":\"y\"}},\"id\":\"26c61b86-5ff1-4469-ac66-2cece831b32e\",\"type\":\"Line\"},{\"attributes\":{\"callback\":null,\"column_names\":[\"y\",\"x\"],\"data\":{\"x\":{\"__ndarray__\":\"vt7S3dvUrj8wTjlmX86xPwItid1QMrQ/0wvZVEKWtj+k6ijMM/q4P3XJeEMlXrs/RqjIuhbCvT+MQwwZBBPAP/QytNT8RME/XSJckPV2wj/GEQRM7qjDPy4BrAfn2sQ/l/BTw98Mxj8A4Pt+2D7HP2jPozrRcMg/0L5L9smiyT86rvOxwtTKP6Kdm227Bsw/Co1DKbQ4zT90fOvkrGrOP9xrk6ClnM8/oq0dLk9n0D9XpfGLSwDRPwudxelHmdE/v5SZR0Qy0j90jG2lQMvSPyiEQQM9ZNM/3HsVYTn90z+Rc+m+NZbUP0VrvRwyL9U/+WKRei7I1T+uWmXYKmHWP2JSOTYn+tY/FkoNlCOT1z/LQeHxHyzYP385tU8cxdg/MzGJrRhe2T/oKF0LFffZP5wgMWkRkNo/UBgFxw0p2z8EENkkCsLbP7kHrYIGW9w/bf+A4AL03D8h91Q+/4zdP9buKJz7Jd4/iub8+fe+3j8+3tBX9FffP/PVpLXw8N8/02a8ifZE4D+uYqa4dJHgPw==\",\"dtype\":\"float64\",\"shape\":[50]},\"y\":[0.25,0.25,0.25,0.25,0.25,0.25,0.25,0.25,0.25,0.25,0.25,0.25,0.25,0.25,0.25,0.25,0.25,0.25,0.25,0.25,0.25,0.25,0.25,0.25,0.25,0.25,0.25,0.25,0.25,0.25,0.25,0.25,0.25,0.25,0.25,0.25,0.25,0.25,0.25,0.25,0.25,0.25,0.25,0.25,0.25,0.25,0.25,0.25,0.25,0.25]}},\"id\":\"bcd443d6-2126-40a0-a064-2cdb24143e2d\",\"type\":\"ColumnDataSource\"},{\"attributes\":{\"plot\":null,\"text\":\"Bayes' Conjugate Prior\"},\"id\":\"ca70a011-9040-407e-a5e4-c82f3b04e723\",\"type\":\"Title\"},{\"attributes\":{\"data_source\":{\"id\":\"004a8471-eba1-4eb4-ad3f-4905c5144720\",\"type\":\"ColumnDataSource\"},\"glyph\":{\"id\":\"26c61b86-5ff1-4469-ac66-2cece831b32e\",\"type\":\"Line\"},\"hover_glyph\":null,\"nonselection_glyph\":{\"id\":\"30ef7495-4a25-4e75-9e53-2e0ad1c65ee8\",\"type\":\"Line\"},\"selection_glyph\":null},\"id\":\"dab417d0-1861-4d51-853a-029e8c42ec57\",\"type\":\"GlyphRenderer\"},{\"attributes\":{\"formatter\":{\"id\":\"534198de-2991-4769-a50e-89b5e481bf36\",\"type\":\"BasicTickFormatter\"},\"plot\":{\"id\":\"03d33edf-a7e9-4a1e-ad7a-6a968c12a3ff\",\"subtype\":\"Figure\",\"type\":\"Plot\"},\"ticker\":{\"id\":\"a0e55331-d991-436d-a1ad-7e56da2c22c6\",\"type\":\"BasicTicker\"}},\"id\":\"636e45e3-0bea-456d-87df-d8184394aa05\",\"type\":\"LinearAxis\"},{\"attributes\":{\"line_alpha\":{\"value\":0.1},\"line_color\":{\"value\":\"#1f77b4\"},\"x\":{\"field\":\"x\"},\"y\":{\"field\":\"y\"}},\"id\":\"7c0fc3c9-0cf6-425d-8cf8-bb7494f8b0a4\",\"type\":\"Line\"},{\"attributes\":{},\"id\":\"a0e55331-d991-436d-a1ad-7e56da2c22c6\",\"type\":\"BasicTicker\"},{\"attributes\":{},\"id\":\"f41b26f1-9971-429b-a76b-759ec628c8a8\",\"type\":\"BasicTicker\"},{\"attributes\":{\"label\":{\"value\":\"Beta (3,9)\"},\"renderers\":[{\"id\":\"29b233fc-7243-4b60-b999-6c71768276b9\",\"type\":\"GlyphRenderer\"}]},\"id\":\"f135ebaa-5152-4832-b7b3-b483ea26f317\",\"type\":\"LegendItem\"},{\"attributes\":{\"below\":[{\"id\":\"360a74d2-01e8-4e00-a76d-1d1c98c77416\",\"type\":\"LinearAxis\"}],\"left\":[{\"id\":\"636e45e3-0bea-456d-87df-d8184394aa05\",\"type\":\"LinearAxis\"}],\"plot_height\":480,\"renderers\":[{\"id\":\"360a74d2-01e8-4e00-a76d-1d1c98c77416\",\"type\":\"LinearAxis\"},{\"id\":\"f61f0c6c-95ed-4ab1-853c-d4558012f5f3\",\"type\":\"Grid\"},{\"id\":\"636e45e3-0bea-456d-87df-d8184394aa05\",\"type\":\"LinearAxis\"},{\"id\":\"3f27370c-2504-4bbb-95cb-09a28f0b81e0\",\"type\":\"Grid\"},{\"id\":\"92859139-8819-4490-8f08-69683a0ab81d\",\"type\":\"BoxAnnotation\"},{\"id\":\"457fdf4e-db27-4f62-b7cf-8a68bde365aa\",\"type\":\"Legend\"},{\"id\":\"dab417d0-1861-4d51-853a-029e8c42ec57\",\"type\":\"GlyphRenderer\"},{\"id\":\"29b233fc-7243-4b60-b999-6c71768276b9\",\"type\":\"GlyphRenderer\"},{\"id\":\"52cb1dc9-8a98-4923-a6d6-1d5d91bc9bf7\",\"type\":\"GlyphRenderer\"}],\"title\":{\"id\":\"ca70a011-9040-407e-a5e4-c82f3b04e723\",\"type\":\"Title\"},\"tool_events\":{\"id\":\"4c03014b-d031-439d-9aa0-f9a8acad9224\",\"type\":\"ToolEvents\"},\"toolbar\":{\"id\":\"a299349d-52cb-4d01-8d35-1ffaef9157ad\",\"type\":\"Toolbar\"},\"x_range\":{\"id\":\"46abd5a8-2275-4cd7-bf8d-b02708e4d3ad\",\"type\":\"DataRange1d\"},\"y_range\":{\"id\":\"ebb71c47-28d1-4121-af70-19f6c59de82e\",\"type\":\"DataRange1d\"}},\"id\":\"03d33edf-a7e9-4a1e-ad7a-6a968c12a3ff\",\"subtype\":\"Figure\",\"type\":\"Plot\"},{\"attributes\":{},\"id\":\"534198de-2991-4769-a50e-89b5e481bf36\",\"type\":\"BasicTickFormatter\"},{\"attributes\":{\"plot\":{\"id\":\"03d33edf-a7e9-4a1e-ad7a-6a968c12a3ff\",\"subtype\":\"Figure\",\"type\":\"Plot\"}},\"id\":\"1a7f093d-3d62-4246-9365-cecdd4df21dd\",\"type\":\"SaveTool\"},{\"attributes\":{\"active_drag\":\"auto\",\"active_scroll\":\"auto\",\"active_tap\":\"auto\",\"tools\":[{\"id\":\"b067f056-23ef-4746-b466-752d4834b765\",\"type\":\"PanTool\"},{\"id\":\"456f4c06-875a-4aeb-b6cc-69cf778140fc\",\"type\":\"WheelZoomTool\"},{\"id\":\"fd3dea59-c3ce-4a8a-8bf0-f226cc5c9210\",\"type\":\"BoxZoomTool\"},{\"id\":\"1a7f093d-3d62-4246-9365-cecdd4df21dd\",\"type\":\"SaveTool\"},{\"id\":\"35cbd7d7-53d1-4cd9-a16b-8a9b872dad5c\",\"type\":\"ResetTool\"},{\"id\":\"d81bd3c7-3067-4e63-8bcd-0981fc3cdaba\",\"type\":\"HelpTool\"}]},\"id\":\"a299349d-52cb-4d01-8d35-1ffaef9157ad\",\"type\":\"Toolbar\"},{\"attributes\":{\"callback\":null},\"id\":\"ebb71c47-28d1-4121-af70-19f6c59de82e\",\"type\":\"DataRange1d\"},{\"attributes\":{\"dimension\":1,\"plot\":{\"id\":\"03d33edf-a7e9-4a1e-ad7a-6a968c12a3ff\",\"subtype\":\"Figure\",\"type\":\"Plot\"},\"ticker\":{\"id\":\"a0e55331-d991-436d-a1ad-7e56da2c22c6\",\"type\":\"BasicTicker\"}},\"id\":\"3f27370c-2504-4bbb-95cb-09a28f0b81e0\",\"type\":\"Grid\"},{\"attributes\":{\"plot\":{\"id\":\"03d33edf-a7e9-4a1e-ad7a-6a968c12a3ff\",\"subtype\":\"Figure\",\"type\":\"Plot\"}},\"id\":\"d81bd3c7-3067-4e63-8bcd-0981fc3cdaba\",\"type\":\"HelpTool\"},{\"attributes\":{\"items\":[{\"id\":\"a617b1b2-5d70-406f-903b-6e9fe0de29b8\",\"type\":\"LegendItem\"},{\"id\":\"f135ebaa-5152-4832-b7b3-b483ea26f317\",\"type\":\"LegendItem\"},{\"id\":\"b2eeab53-15b9-4c97-aa14-bb30cbba85bb\",\"type\":\"LegendItem\"}],\"plot\":{\"id\":\"03d33edf-a7e9-4a1e-ad7a-6a968c12a3ff\",\"subtype\":\"Figure\",\"type\":\"Plot\"}},\"id\":\"457fdf4e-db27-4f62-b7cf-8a68bde365aa\",\"type\":\"Legend\"},{\"attributes\":{\"plot\":{\"id\":\"03d33edf-a7e9-4a1e-ad7a-6a968c12a3ff\",\"subtype\":\"Figure\",\"type\":\"Plot\"},\"ticker\":{\"id\":\"f41b26f1-9971-429b-a76b-759ec628c8a8\",\"type\":\"BasicTicker\"}},\"id\":\"f61f0c6c-95ed-4ab1-853c-d4558012f5f3\",\"type\":\"Grid\"},{\"attributes\":{\"line_color\":{\"value\":\"#FDE724\"},\"x\":{\"field\":\"x\"},\"y\":{\"field\":\"y\"}},\"id\":\"90f7528a-f75d-4495-9da5-458850da0ab9\",\"type\":\"Line\"},{\"attributes\":{\"overlay\":{\"id\":\"92859139-8819-4490-8f08-69683a0ab81d\",\"type\":\"BoxAnnotation\"},\"plot\":{\"id\":\"03d33edf-a7e9-4a1e-ad7a-6a968c12a3ff\",\"subtype\":\"Figure\",\"type\":\"Plot\"}},\"id\":\"fd3dea59-c3ce-4a8a-8bf0-f226cc5c9210\",\"type\":\"BoxZoomTool\"},{\"attributes\":{},\"id\":\"fd4ea8e3-d5a1-4edb-9aff-ec59f1920f3b\",\"type\":\"BasicTickFormatter\"}],\"root_ids\":[\"03d33edf-a7e9-4a1e-ad7a-6a968c12a3ff\"]},\"title\":\"Bokeh Application\",\"version\":\"0.12.4\"}};\n",
       "            var render_items = [{\"docid\":\"8931c2a9-5b14-40e9-a5e1-569ae6c902bc\",\"elementid\":\"0cd5ef4c-ed96-484b-8efd-1400ce03c50d\",\"modelid\":\"03d33edf-a7e9-4a1e-ad7a-6a968c12a3ff\"}];\n",
       "            \n",
       "            Bokeh.embed.embed_items(docs_json, render_items);\n",
       "          };\n",
       "          if (document.readyState != \"loading\") fn();\n",
       "          else document.addEventListener(\"DOMContentLoaded\", fn);\n",
       "        })();\n",
       "      },\n",
       "      function(Bokeh) {\n",
       "      }\n",
       "    ];\n",
       "  \n",
       "    function run_inline_js() {\n",
       "      \n",
       "      if ((window.Bokeh !== undefined) || (force === true)) {\n",
       "        for (var i = 0; i < inline_js.length; i++) {\n",
       "          inline_js[i](window.Bokeh);\n",
       "        }if (force === true) {\n",
       "          display_loaded();\n",
       "        }} else if (Date.now() < window._bokeh_timeout) {\n",
       "        setTimeout(run_inline_js, 100);\n",
       "      } else if (!window._bokeh_failed_load) {\n",
       "        console.log(\"Bokeh: BokehJS failed to load within specified timeout.\");\n",
       "        window._bokeh_failed_load = true;\n",
       "      } else if (force !== true) {\n",
       "        var cell = $(document.getElementById(\"0cd5ef4c-ed96-484b-8efd-1400ce03c50d\")).parents('.cell').data().cell;\n",
       "        cell.output_area.append_execute_result(NB_LOAD_WARNING)\n",
       "      }\n",
       "  \n",
       "    }\n",
       "  \n",
       "    if (window._bokeh_is_loading === 0) {\n",
       "      console.log(\"Bokeh: BokehJS loaded, going straight to plotting\");\n",
       "      run_inline_js();\n",
       "    } else {\n",
       "      load_libs(js_urls, function() {\n",
       "        console.log(\"Bokeh: BokehJS plotting callback run at\", now());\n",
       "        run_inline_js();\n",
       "      });\n",
       "    }\n",
       "  }(this));\n",
       "</script>"
      ]
     },
     "metadata": {},
     "output_type": "display_data"
    }
   ],
   "source": [
    "a0,b0  = 1,1\n",
    "H,T    = 2,8\n",
    "a,b    = a0+H,b0+T\n",
    "\n",
    "x      = np.linspace(beta.ppf(0.01,a0,b0),beta.ppf(0.99,a0,b0),100)\n",
    "prior  = beta.pdf(x,a0,b0)\n",
    "post   = beta.pdf(x,a,b)\n",
    "int95  = np.linspace(beta.ppf(.025,a,b),beta.ppf(.975,a,b))\n",
    "\n",
    "p = figure(width=600,plot_height=480,title=\"Bayes' Conjugate Prior\")\n",
    "p.line(x,prior,color=Viridis3[0],legend='Beta ('+str(a0)+','+str(b0)+')')\n",
    "p.line(x,post, color=Viridis3[1],legend='Beta ('+str(a)+','+str(b)+')')\n",
    "p.line(int95,[0.25]*len(int95), color=Viridis3[2],legend='95% probability interval')\n",
    "\n",
    "p.xaxis.axis_label = 'Probability'\n",
    "show(p)"
   ]
  },
  {
   "cell_type": "markdown",
   "metadata": {},
   "source": [
    "![](bokeh_plot1.png)"
   ]
  },
  {
   "cell_type": "code",
   "execution_count": 101,
   "metadata": {
    "collapsed": false
   },
   "outputs": [
    {
     "data": {
      "text/plain": [
       "'Starting by the prior = Beta(1,1), the probability that the coin is biased towards Heads is 96.73%.'"
      ]
     },
     "execution_count": 101,
     "metadata": {},
     "output_type": "execute_result"
    }
   ],
   "source": [
    "'Starting by the prior = Beta(1,1), the probability that the coin is biased towards Heads is {0:.2f}%.'.format(100*beta.cdf(0.5,3,9))"
   ]
  },
  {
   "cell_type": "markdown",
   "metadata": {},
   "source": [
    "### Frequentist approach <a id='Frequentist'></a>"
   ]
  },
  {
   "cell_type": "markdown",
   "metadata": {},
   "source": [
    "Let θ be the probability of heads. We have the null and alternative hypotheses\n",
    "- H<sub>0</sub>: θ=.5\n",
    "- H<sub>A</sub>: θ>.5\n",
    "\n",
    "With the same results as before [HHHHTTHHHH]\n",
    "- H = 8\n",
    "- T = 2\n",
    "\n",
    "The null distribution is binomial(10,0.5) so the one sided p-value is the probability of 8 to 10 heads in 10 tosses or having 0 to 2 tails."
   ]
  },
  {
   "cell_type": "code",
   "execution_count": 100,
   "metadata": {
    "collapsed": false
   },
   "outputs": [
    {
     "data": {
      "text/plain": [
       "'The p-value is 0.055'"
      ]
     },
     "execution_count": 100,
     "metadata": {},
     "output_type": "execute_result"
    }
   ],
   "source": [
    "from scipy.stats import binom\n",
    "'The p-value is {0:.3f}'.format(binom.cdf(2,10,0.5)) #Acummulative distribution function, 0,1,2"
   ]
  },
  {
   "cell_type": "markdown",
   "metadata": {},
   "source": [
    "At a significance level of 0.05 we conclude that there is no statistical evidence to reject the Null hypothesis, which is the coin is unbiased. [[8]](http://www.r-tutor.com/elementary-statistics/probability-distributions/binomial-distribution) [[9]](https://ocw.mit.edu/courses/mathematics/18-05-introduction-to-probability-and-statistics-spring-2014/readings/MIT18_05S14_Reading20.pdf)"
   ]
  },
  {
   "cell_type": "markdown",
   "metadata": {},
   "source": [
    "[Back to index](#Index)"
   ]
  },
  {
   "cell_type": "markdown",
   "metadata": {},
   "source": [
    "![](vs1.png)"
   ]
  },
  {
   "cell_type": "markdown",
   "metadata": {},
   "source": [
    "[Back to index](#Index)"
   ]
  },
  {
   "cell_type": "markdown",
   "metadata": {},
   "source": [
    "---"
   ]
  }
 ],
 "metadata": {
  "anaconda-cloud": {},
  "kernelspec": {
   "display_name": "Python [default]",
   "language": "python",
   "name": "python3"
  },
  "language_info": {
   "codemirror_mode": {
    "name": "ipython",
    "version": 3
   },
   "file_extension": ".py",
   "mimetype": "text/x-python",
   "name": "python",
   "nbconvert_exporter": "python",
   "pygments_lexer": "ipython3",
   "version": "3.5.2"
  }
 },
 "nbformat": 4,
 "nbformat_minor": 2
}
